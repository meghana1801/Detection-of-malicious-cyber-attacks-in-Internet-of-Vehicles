{
  "cells": [
    {
      "cell_type": "markdown",
      "id": "0808ffca",
      "metadata": {
        "id": "0808ffca"
      },
      "source": [
        "# Import libraries"
      ]
    },
    {
      "cell_type": "code",
      "execution_count": null,
      "id": "c239b48c",
      "metadata": {
        "id": "c239b48c"
      },
      "outputs": [],
      "source": [
        "import warnings\n",
        "warnings.filterwarnings(\"ignore\")"
      ]
    },
    {
      "cell_type": "code",
      "execution_count": 2,
      "id": "8fafe6ed",
      "metadata": {
        "id": "8fafe6ed"
      },
      "outputs": [],
      "source": [
        "import numpy as np\n",
        "import pandas as pd\n",
        "import seaborn as sns\n",
        "import matplotlib.pyplot as plt\n",
        "from sklearn.preprocessing import LabelEncoder\n",
        "from sklearn.model_selection import train_test_split\n",
        "from sklearn.metrics import classification_report,confusion_matrix,accuracy_score,precision_recall_fscore_support\n",
        "from sklearn.metrics import f1_score,roc_auc_score\n",
        "from sklearn.ensemble import RandomForestClassifier,ExtraTreesClassifier\n",
        "from sklearn.tree import DecisionTreeClassifier\n",
        "from sklearn.preprocessing import StandardScaler\n",
        "import xgboost as xgb\n",
        "from xgboost import plot_importance\n",
        "from sklearn.metrics import accuracy_score\n",
        "from sklearn.model_selection import train_test_split\n",
        "from sklearn.ensemble import RandomForestClassifier\n",
        "from sklearn.svm import SVC"
      ]
    },
    {
      "cell_type": "markdown",
      "id": "8b1ef607",
      "metadata": {
        "id": "8b1ef607"
      },
      "source": [
        "# Split train set and test set"
      ]
    },
    {
      "cell_type": "code",
      "source": [
        "from google.colab import drive\n",
        "drive.mount('/content/drive')"
      ],
      "metadata": {
        "colab": {
          "base_uri": "https://localhost:8080/"
        },
        "id": "Ffd1jFZixOjC",
        "outputId": "44855c2a-3a86-44e8-a4ac-275683ac41ee"
      },
      "id": "Ffd1jFZixOjC",
      "execution_count": 3,
      "outputs": [
        {
          "output_type": "stream",
          "name": "stdout",
          "text": [
            "Mounted at /content/drive\n"
          ]
        }
      ]
    },
    {
      "cell_type": "code",
      "execution_count": 4,
      "id": "24fd2a56",
      "metadata": {
        "id": "24fd2a56"
      },
      "outputs": [],
      "source": [
        "# Read the sampled dataset\n",
        "df=pd.read_csv('./drive/MyDrive/CICIDS2017_sample_km.csv')"
      ]
    },
    {
      "cell_type": "code",
      "source": [
        "df.head()\n",
        "print(df.columns)"
      ],
      "metadata": {
        "colab": {
          "base_uri": "https://localhost:8080/"
        },
        "id": "7uHE7ovTx7NW",
        "outputId": "b5b3e933-bc5e-483a-b871-4a1a6e3d1dd5"
      },
      "id": "7uHE7ovTx7NW",
      "execution_count": 5,
      "outputs": [
        {
          "output_type": "stream",
          "name": "stdout",
          "text": [
            "Index(['Flow Duration', 'Total Fwd Packets', 'Total Backward Packets',\n",
            "       'Total Length of Fwd Packets', 'Total Length of Bwd Packets',\n",
            "       'Fwd Packet Length Max', 'Fwd Packet Length Min',\n",
            "       'Fwd Packet Length Mean', 'Fwd Packet Length Std',\n",
            "       'Bwd Packet Length Max', 'Bwd Packet Length Min',\n",
            "       'Bwd Packet Length Mean', 'Bwd Packet Length Std', 'Flow Bytes/s',\n",
            "       'Flow Packets/s', 'Flow IAT Mean', 'Flow IAT Std', 'Flow IAT Max',\n",
            "       'Flow IAT Min', 'Fwd IAT Total', 'Fwd IAT Mean', 'Fwd IAT Std',\n",
            "       'Fwd IAT Max', 'Fwd IAT Min', 'Bwd IAT Total', 'Bwd IAT Mean',\n",
            "       'Bwd IAT Std', 'Bwd IAT Max', 'Bwd IAT Min', 'Fwd PSH Flags',\n",
            "       'Bwd PSH Flags', 'Fwd URG Flags', 'Bwd URG Flags', 'Fwd Header Length',\n",
            "       'Bwd Header Length', 'Fwd Packets/s', 'Bwd Packets/s',\n",
            "       'Min Packet Length', 'Max Packet Length', 'Packet Length Mean',\n",
            "       'Packet Length Std', 'Packet Length Variance', 'FIN Flag Count',\n",
            "       'SYN Flag Count', 'RST Flag Count', 'PSH Flag Count', 'ACK Flag Count',\n",
            "       'URG Flag Count', 'CWE Flag Count', 'ECE Flag Count', 'Down/Up Ratio',\n",
            "       'Average Packet Size', 'Avg Fwd Segment Size', 'Avg Bwd Segment Size',\n",
            "       'Fwd Header Length.1', 'Fwd Avg Bytes/Bulk', 'Fwd Avg Packets/Bulk',\n",
            "       'Fwd Avg Bulk Rate', 'Bwd Avg Bytes/Bulk', 'Bwd Avg Packets/Bulk',\n",
            "       'Bwd Avg Bulk Rate', 'Subflow Fwd Packets', 'Subflow Fwd Bytes',\n",
            "       'Subflow Bwd Packets', 'Subflow Bwd Bytes', 'Init_Win_bytes_forward',\n",
            "       'Init_Win_bytes_backward', 'act_data_pkt_fwd', 'min_seg_size_forward',\n",
            "       'Active Mean', 'Active Std', 'Active Max', 'Active Min', 'Idle Mean',\n",
            "       'Idle Std', 'Idle Max', 'Idle Min', 'Label'],\n",
            "      dtype='object')\n"
          ]
        }
      ]
    },
    {
      "cell_type": "code",
      "execution_count": 6,
      "id": "81f1489f",
      "metadata": {
        "id": "81f1489f"
      },
      "outputs": [],
      "source": [
        "X = df.drop(['Label'],axis=1).values\n",
        "y = df.iloc[:, -1].values.reshape(-1,1)\n",
        "y=np.ravel(y)"
      ]
    },
    {
      "cell_type": "code",
      "execution_count": 7,
      "id": "c5584b84",
      "metadata": {
        "id": "c5584b84",
        "colab": {
          "base_uri": "https://localhost:8080/"
        },
        "outputId": "927980cc-a38b-4f04-e765-f047d5190899"
      },
      "outputs": [
        {
          "output_type": "stream",
          "name": "stdout",
          "text": [
            "0 6\n"
          ]
        }
      ],
      "source": [
        "X_train, X_test, y_train, y_test = train_test_split(X,y, train_size = 0.8, test_size = 0.2, random_state = 0,stratify = y)\n",
        "\n",
        "scaler = StandardScaler()\n",
        "X_train_scaled = scaler.fit_transform(X_train)\n",
        "X_test_scaled = scaler.transform(X_test)\n",
        "\n",
        "print(min(y),max(y))"
      ]
    },
    {
      "cell_type": "markdown",
      "id": "ad5d0211",
      "metadata": {
        "id": "ad5d0211"
      },
      "source": [
        "# Feature engineering"
      ]
    },
    {
      "cell_type": "code",
      "execution_count": 7,
      "id": "c220445a",
      "metadata": {
        "colab": {
          "base_uri": "https://localhost:8080/"
        },
        "id": "c220445a",
        "outputId": "dfa04311-7c36-4ce7-9f13-65dada3aa24c"
      },
      "outputs": [
        {
          "output_type": "stream",
          "name": "stdout",
          "text": [
            "Index(['Flow Duration', 'Total Fwd Packets', 'Total Backward Packets',\n",
            "       'Total Length of Fwd Packets', 'Total Length of Bwd Packets',\n",
            "       'Fwd Packet Length Max', 'Fwd Packet Length Min',\n",
            "       'Fwd Packet Length Mean', 'Fwd Packet Length Std',\n",
            "       'Bwd Packet Length Max', 'Bwd Packet Length Min',\n",
            "       'Bwd Packet Length Mean', 'Bwd Packet Length Std', 'Flow Bytes/s',\n",
            "       'Flow Packets/s', 'Flow IAT Mean', 'Flow IAT Std', 'Flow IAT Max',\n",
            "       'Flow IAT Min', 'Fwd IAT Total', 'Fwd IAT Mean', 'Fwd IAT Std',\n",
            "       'Fwd IAT Max', 'Fwd IAT Min', 'Bwd IAT Total', 'Bwd IAT Mean',\n",
            "       'Bwd IAT Std', 'Bwd IAT Max', 'Bwd IAT Min', 'Fwd PSH Flags',\n",
            "       'Bwd PSH Flags', 'Fwd URG Flags', 'Bwd URG Flags', 'Fwd Header Length',\n",
            "       'Bwd Header Length', 'Fwd Packets/s', 'Bwd Packets/s',\n",
            "       'Min Packet Length', 'Max Packet Length', 'Packet Length Mean',\n",
            "       'Packet Length Std', 'Packet Length Variance', 'FIN Flag Count',\n",
            "       'SYN Flag Count', 'RST Flag Count', 'PSH Flag Count', 'ACK Flag Count',\n",
            "       'URG Flag Count', 'CWE Flag Count', 'ECE Flag Count', 'Down/Up Ratio',\n",
            "       'Average Packet Size', 'Avg Fwd Segment Size', 'Avg Bwd Segment Size',\n",
            "       'Fwd Header Length.1', 'Fwd Avg Bytes/Bulk', 'Fwd Avg Packets/Bulk',\n",
            "       'Fwd Avg Bulk Rate', 'Bwd Avg Bytes/Bulk', 'Bwd Avg Packets/Bulk',\n",
            "       'Bwd Avg Bulk Rate', 'Subflow Fwd Packets', 'Subflow Fwd Bytes',\n",
            "       'Subflow Bwd Packets', 'Subflow Bwd Bytes', 'Init_Win_bytes_forward',\n",
            "       'Init_Win_bytes_backward', 'act_data_pkt_fwd', 'min_seg_size_forward',\n",
            "       'Active Mean', 'Active Std', 'Active Max', 'Active Min', 'Idle Mean',\n",
            "       'Idle Std', 'Idle Max', 'Idle Min', 'Label'],\n",
            "      dtype='object') 78\n"
          ]
        }
      ],
      "source": [
        "features = df.dtypes[df.dtypes != 'object'].index\n",
        "print(features,len(features))"
      ]
    },
    {
      "cell_type": "code",
      "execution_count": 8,
      "id": "61e31a92",
      "metadata": {
        "id": "61e31a92",
        "outputId": "c92863e7-d075-4878-c56b-d3555c17a209",
        "colab": {
          "base_uri": "https://localhost:8080/"
        }
      },
      "outputs": [
        {
          "output_type": "stream",
          "name": "stdout",
          "text": [
            "(21440, 60)\n"
          ]
        }
      ],
      "source": [
        "class ReliefF:\n",
        "    def __init__(self, n_neighbors=5, n_features_to_select=None):\n",
        "        self.n_neighbors = n_neighbors\n",
        "        self.n_features_to_select = n_features_to_select\n",
        "\n",
        "    def fit(self, X, y):\n",
        "        self.X = X\n",
        "        self.y = y\n",
        "        self.n_features = X.shape[1]\n",
        "        self.feature_scores = np.zeros(self.n_features)\n",
        "\n",
        "        for i in range(len(X)):\n",
        "            distances = np.linalg.norm(X[i] - X, axis=1)\n",
        "            nn_indices = np.argsort(distances)[1:self.n_neighbors + 1]\n",
        "            near_hit = None\n",
        "            near_misses = []\n",
        "            for j in nn_indices:\n",
        "                if y[j] == y[i]:\n",
        "                    if near_hit is None:\n",
        "                        near_hit = X[j]\n",
        "                else:\n",
        "                    near_misses.append(X[j])\n",
        "            if near_hit is not None:\n",
        "                self.feature_scores += np.abs(X[i] - near_hit)\n",
        "            if len(near_misses) > 0:\n",
        "                near_misses = np.array(near_misses)\n",
        "                self.feature_scores -= np.abs(X[i] - near_misses.mean(axis=0))\n",
        "\n",
        "        self.feature_scores /= len(X)\n",
        "\n",
        "    def transform(self, X):\n",
        "        if self.n_features_to_select is None:\n",
        "            return X\n",
        "        else:\n",
        "            idx = np.argsort(self.feature_scores)[::-1][:self.n_features_to_select]\n",
        "            return X[:, idx]\n",
        "\n",
        "    def fit_transform(self, X, y):\n",
        "        self.fit(X, y)\n",
        "        return self.transform(X)\n",
        "\n",
        "reliefF = ReliefF(n_neighbors=5, n_features_to_select=60)  # Specify the number of neighbors and features to select\n",
        "X_train_selected = reliefF.fit_transform(X_train, y_train)\n",
        "X_test_selected = reliefF.transform(X_test)\n",
        "\n",
        "print(X_train_selected.shape)\n"
      ]
    },
    {
      "cell_type": "markdown",
      "id": "08148d4d",
      "metadata": {
        "id": "08148d4d"
      },
      "source": [
        "# Wrapper-based Feature Selection:"
      ]
    },
    {
      "cell_type": "markdown",
      "id": "b4dff260",
      "metadata": {
        "id": "b4dff260"
      },
      "source": [
        "Genetic Algorithm for feature selection"
      ]
    },
    {
      "cell_type": "code",
      "execution_count": 9,
      "id": "330e01c0",
      "metadata": {
        "id": "330e01c0"
      },
      "outputs": [],
      "source": [
        "# def RFE(X_train, y_train, estimator, n_features_to_select):\n",
        "#     remaining_features = list(range(X_train.shape[1]))\n",
        "#     selected_features = []\n",
        "#     while len(selected_features) < n_features_to_select:\n",
        "#         best_score = -float('inf')\n",
        "#         best_feature = None\n",
        "#         for feature in remaining_features:\n",
        "#             current_features = selected_features + [feature]\n",
        "#             # Dummy fit function for compatibility, not actually training the model\n",
        "#             score = dummy_fit(X_train[:, current_features], y_train, estimator)\n",
        "#             if score > best_score:\n",
        "#                 best_score = score\n",
        "#                 best_feature = feature\n",
        "#         selected_features.append(best_feature)\n",
        "#         remaining_features.remove(best_feature)\n",
        "#     return selected_features\n",
        "\n",
        "# def initilization_of_population(size,n_feat):\n",
        "#     population = []\n",
        "#     for i in range(size):\n",
        "#         chromosome = np.ones(n_feat,dtype=np.bool)\n",
        "#         chromosome[:int(0.3*n_feat)]=False\n",
        "#         np.random.shuffle(chromosome)\n",
        "#         population.append(chromosome)\n",
        "#     return population\n",
        "\n",
        "\n",
        "# def fitness_score(population):\n",
        "#     scores = []\n",
        "#     for chromosome in population:\n",
        "#         logmodel.fit(X_train.iloc[:,chromosome],Y_train)\n",
        "#         predictions = logmodel.predict(X_test.iloc[:,chromosome])\n",
        "#         scores.append(accuracy_score(Y_test,predictions))\n",
        "#     scores, population = np.array(scores), np.array(population)\n",
        "#     inds = np.argsort(scores)\n",
        "#     return list(scores[inds][::-1]), list(population[inds,:][::-1])\n",
        "\n",
        "\n",
        "# def selection(pop_after_fit,n_parents):\n",
        "#     population_nextgen = []\n",
        "#     for i in range(n_parents):\n",
        "#         population_nextgen.append(pop_after_fit[i])\n",
        "#     return population_nextgen\n",
        "\n",
        "\n",
        "# def crossover(pop_after_sel):\n",
        "#     pop_nextgen = pop_after_sel\n",
        "#     for i in range(0,len(pop_after_sel),2):\n",
        "#         new_par = []\n",
        "#         child_1 , child_2 = pop_nextgen[i] , pop_nextgen[i+1]\n",
        "#         new_par = np.concatenate((child_1[:len(child_1)//2],child_2[len(child_1)//2:]))\n",
        "#         pop_nextgen.append(new_par)\n",
        "#     return pop_nextgen\n",
        "\n",
        "\n",
        "# def mutation(pop_after_cross,mutation_rate,n_feat):\n",
        "#     mutation_range = int(mutation_rate*n_feat)\n",
        "#     pop_next_gen = []\n",
        "#     for n in range(0,len(pop_after_cross)):\n",
        "#         chromo = pop_after_cross[n]\n",
        "#         rand_posi = []\n",
        "#         for i in range(0,mutation_range):\n",
        "#             pos = randint(0,n_feat-1)\n",
        "#             rand_posi.append(pos)\n",
        "#         for j in rand_posi:\n",
        "#             chromo[j] = not chromo[j]\n",
        "#         pop_next_gen.append(chromo)\n",
        "#     return pop_next_gen\n",
        "\n",
        "# def generations(df,label,size,n_feat,n_parents,mutation_rate,n_gen,X_train,\n",
        "#                                    X_test, Y_train, Y_test):\n",
        "#     best_chromo= []\n",
        "#     best_score= []\n",
        "#     population_nextgen=initilization_of_population(size,n_feat)\n",
        "#     for i in range(n_gen):\n",
        "#         scores, pop_after_fit = fitness_score(population_nextgen)\n",
        "#         print('Best score in generation',i+1,':',scores[:1])  #2\n",
        "#         pop_after_sel = selection(pop_after_fit,n_parents)\n",
        "#         pop_after_cross = crossover(pop_after_sel)\n",
        "#         population_nextgen = mutation(pop_after_cross,mutation_rate,n_feat)\n",
        "#         best_chromo.append(pop_after_fit[0])\n",
        "#         best_score.append(scores[0])\n",
        "#     return best_chromo,best_score\n",
        "def fitness_score(population,model,X_train,y_train,X_test,y_test):\n",
        "    scores = []\n",
        "    for chromosome in population:\n",
        "        model.fit(X_train[:,chromosome],y_train)\n",
        "        predictions = model.predict(X_test[:,chromosome])\n",
        "        scores.append(accuracy_score(y_test,predictions))\n",
        "    scores, population = np.array(scores), np.array(population)\n",
        "    inds = np.argsort(scores)\n",
        "    print(scores)\n",
        "    print(inds)\n",
        "    return list(scores[inds][::-1]), list(population[inds,:][::-1])\n",
        "\n",
        "def initilization_of_population(size, n_feat):\n",
        "    population = []\n",
        "    for i in range(size):\n",
        "        chromosome = np.ones(n_feat, dtype=bool)\n",
        "        chromosome[:int(0.2 * n_feat)] = False\n",
        "        np.random.shuffle(chromosome)\n",
        "        population.append(chromosome)\n",
        "    return population\n",
        "\n",
        "def selection(pop_after_fit, n_parents):\n",
        "    population_nextgen = []\n",
        "    for i in range(n_parents):\n",
        "        population_nextgen.append(pop_after_fit[i])\n",
        "    return population_nextgen\n",
        "\n",
        "def crossover(pop_after_sel):\n",
        "    pop_nextgen = pop_after_sel\n",
        "    for i in range(0, len(pop_after_sel), 2):\n",
        "        new_par = []\n",
        "        child_1, child_2 = pop_nextgen[i], pop_nextgen[i + 1]\n",
        "        new_par = np.concatenate((child_1[:len(child_1) // 2], child_2[len(child_1) // 2:]))\n",
        "        pop_nextgen.append(new_par)\n",
        "    return pop_nextgen\n",
        "\n",
        "def mutation(pop_after_cross, mutation_rate, n_feat):\n",
        "    mutation_range = int(mutation_rate * n_feat)\n",
        "    pop_next_gen = []\n",
        "    for n in range(0, len(pop_after_cross)):\n",
        "        chromo = pop_after_cross[n]\n",
        "        rand_posi = []\n",
        "        for i in range(0, mutation_range):\n",
        "            pos = np.random.randint(0, n_feat)\n",
        "            rand_posi.append(pos)\n",
        "        for j in rand_posi:\n",
        "            chromo[j] = not chromo[j]\n",
        "        pop_next_gen.append(chromo)\n",
        "    return pop_next_gen\n",
        "\n",
        "def generations(df, size, n_feat, n_parents, mutation_rate, n_gen, X_train, X_test, y_train, y_test):\n",
        "    best_chromo = []\n",
        "    best_score = []\n",
        "    population_nextgen = initilization_of_population(size, n_feat)\n",
        "\n",
        "    # Initialize the ensemble model with Random Forest and SVM\n",
        "    random_forest = RandomForestClassifier(n_estimators=100, random_state=42)\n",
        "\n",
        "    # ensemble_model = FeatureSelectionEnsemble(classifiers=[random_forest, svm])\n",
        "\n",
        "    for i in range(n_gen):\n",
        "        print(\"generation \"+str(i+1))\n",
        "        scores, pop_after_fit = fitness_score(population_nextgen,random_forest, X_train, y_train, X_test, y_test)\n",
        "        print('Best score in generation', i+1, ':', scores[0])\n",
        "        pop_after_sel = selection(pop_after_fit, n_parents)\n",
        "        pop_after_cross = crossover(pop_after_sel)\n",
        "        population_nextgen = mutation(pop_after_cross, mutation_rate, n_feat)\n",
        "        best_chromo.append(pop_after_fit[0])\n",
        "        best_score.append(scores[0])\n",
        "\n",
        "    return best_chromo, best_score"
      ]
    },
    {
      "cell_type": "code",
      "source": [
        "\n",
        "\n",
        "# Define the ensemble model\n",
        "# class FeatureSelectionEnsemble:\n",
        "#     def __init__(self, classifiers, weights=None):\n",
        "#         self.classifiers = classifiers\n",
        "#         self.weights = weights\n",
        "\n",
        "#     def fit(self, X_train, y_train):\n",
        "#         for clf in self.classifiers:\n",
        "#             clf.fit(X_train, y_train)\n",
        "\n",
        "#     def predict(self, X_test):\n",
        "#         predictions = np.zeros((X_test.shape[0], len(self.classifiers)))\n",
        "#         for i, clf in enumerate(self.classifiers):\n",
        "#             predictions[:, i] = clf.predict(X_test)\n",
        "\n",
        "#         if self.weights is None:\n",
        "#             return np.mean(predictions, axis=1)\n",
        "#         else:\n",
        "#             weighted_predictions = predictions * self.weights\n",
        "#             return np.sum(weighted_predictions, axis=1) / np.sum(self.weights)\n",
        "\n",
        "# Define the fitness score function using the ensemble model\n",
        "# def fitness_score(population, ensemble_model, X_train, y_train, X_test, y_test):\n",
        "#     scores = []\n",
        "#     for chromosome in population:\n",
        "#         # Select features based on chromosome\n",
        "#         X_train_subset = X_train[:, chromosome]\n",
        "#         X_test_subset = X_test[:, chromosome]\n",
        "\n",
        "#         # Train ensemble model on selected features\n",
        "#         ensemble_model.fit(X_train_subset, y_train)\n",
        "\n",
        "#         # Make predictions on the test set\n",
        "#         predictions = ensemble_model.predict(X_test_subset)\n",
        "#         predictions=predictions.astype(np.int64)\n",
        "#         # Calculate accuracy score\n",
        "#         score = accuracy_score(y_test, predictions)\n",
        "#         scores.append(score)\n",
        "\n",
        "#     # Sort scores and population in descending order\n",
        "#     scores, population = np.array(scores), np.array(population)\n",
        "#     inds = np.argsort(scores)[::-1]\n",
        "#     return list(scores[inds]), list(population[inds, :])\n",
        "\n",
        "# Example usage:\n",
        "# Assume you have X_train, X_test, y_train, y_test, df, label, size, n_feat, n_parents, mutation_rate, n_gen defined\n",
        "\n",
        "best_chromo, best_score = generations(df,10, 77, 10, 0.2, 10, X_train, X_test, y_train, y_test)\n",
        "sorted_indices = [i for i, _ in sorted(enumerate(best_score), key=lambda x: x[1])]\n",
        "best_score=np.array(best_score)\n",
        "best_chromo=np.array(best_chromo)\n",
        "best_score=best_score[sorted_indices]\n",
        "best_chromo=best_chromo[sorted_indices,:]\n",
        "print(\"Best Chromosome:\", best_chromo[-1])\n",
        "print(\"Best Score:\", best_score[-1])\n"
      ],
      "metadata": {
        "colab": {
          "base_uri": "https://localhost:8080/",
          "height": 538
        },
        "id": "vTO2e0NO79e0",
        "outputId": "b3c27c99-db2d-4be9-c998-b4fcd08c25a2"
      },
      "id": "vTO2e0NO79e0",
      "execution_count": 53,
      "outputs": [
        {
          "output_type": "stream",
          "name": "stdout",
          "text": [
            "generation 1\n",
            "Best score in generation 1 : 0.9955223880597015\n",
            "generation 2\n",
            "Best score in generation 2 : 0.9949626865671641\n",
            "generation 3\n",
            "Best score in generation 3 : 0.9955223880597015\n",
            "generation 4\n",
            "Best score in generation 4 : 0.9957089552238806\n",
            "generation 5\n"
          ]
        },
        {
          "output_type": "error",
          "ename": "KeyboardInterrupt",
          "evalue": "",
          "traceback": [
            "\u001b[0;31m---------------------------------------------------------------------------\u001b[0m",
            "\u001b[0;31mKeyboardInterrupt\u001b[0m                         Traceback (most recent call last)",
            "\u001b[0;32m<ipython-input-53-13b634051a34>\u001b[0m in \u001b[0;36m<cell line: 48>\u001b[0;34m()\u001b[0m\n\u001b[1;32m     46\u001b[0m \u001b[0;31m# Assume you have X_train, X_test, y_train, y_test, df, label, size, n_feat, n_parents, mutation_rate, n_gen defined\u001b[0m\u001b[0;34m\u001b[0m\u001b[0;34m\u001b[0m\u001b[0m\n\u001b[1;32m     47\u001b[0m \u001b[0;34m\u001b[0m\u001b[0m\n\u001b[0;32m---> 48\u001b[0;31m \u001b[0mbest_chromo\u001b[0m\u001b[0;34m,\u001b[0m \u001b[0mbest_score\u001b[0m \u001b[0;34m=\u001b[0m \u001b[0mgenerations\u001b[0m\u001b[0;34m(\u001b[0m\u001b[0mdf\u001b[0m\u001b[0;34m,\u001b[0m\u001b[0;36m10\u001b[0m\u001b[0;34m,\u001b[0m \u001b[0;36m77\u001b[0m\u001b[0;34m,\u001b[0m \u001b[0;36m10\u001b[0m\u001b[0;34m,\u001b[0m \u001b[0;36m0.2\u001b[0m\u001b[0;34m,\u001b[0m \u001b[0;36m10\u001b[0m\u001b[0;34m,\u001b[0m \u001b[0mX_train\u001b[0m\u001b[0;34m,\u001b[0m \u001b[0mX_test\u001b[0m\u001b[0;34m,\u001b[0m \u001b[0my_train\u001b[0m\u001b[0;34m,\u001b[0m \u001b[0my_test\u001b[0m\u001b[0;34m)\u001b[0m\u001b[0;34m\u001b[0m\u001b[0;34m\u001b[0m\u001b[0m\n\u001b[0m\u001b[1;32m     49\u001b[0m \u001b[0msorted_indices\u001b[0m \u001b[0;34m=\u001b[0m \u001b[0;34m[\u001b[0m\u001b[0mi\u001b[0m \u001b[0;32mfor\u001b[0m \u001b[0mi\u001b[0m\u001b[0;34m,\u001b[0m \u001b[0m_\u001b[0m \u001b[0;32min\u001b[0m \u001b[0msorted\u001b[0m\u001b[0;34m(\u001b[0m\u001b[0menumerate\u001b[0m\u001b[0;34m(\u001b[0m\u001b[0mbest_score\u001b[0m\u001b[0;34m)\u001b[0m\u001b[0;34m,\u001b[0m \u001b[0mkey\u001b[0m\u001b[0;34m=\u001b[0m\u001b[0;32mlambda\u001b[0m \u001b[0mx\u001b[0m\u001b[0;34m:\u001b[0m \u001b[0mx\u001b[0m\u001b[0;34m[\u001b[0m\u001b[0;36m1\u001b[0m\u001b[0;34m]\u001b[0m\u001b[0;34m)\u001b[0m\u001b[0;34m]\u001b[0m\u001b[0;34m\u001b[0m\u001b[0;34m\u001b[0m\u001b[0m\n\u001b[1;32m     50\u001b[0m \u001b[0mprint\u001b[0m\u001b[0;34m(\u001b[0m\u001b[0;34m\"Best Chromosome:\"\u001b[0m\u001b[0;34m,\u001b[0m \u001b[0mbest_chromo\u001b[0m\u001b[0;34m[\u001b[0m\u001b[0;34m-\u001b[0m\u001b[0;36m1\u001b[0m\u001b[0;34m]\u001b[0m\u001b[0;34m)\u001b[0m\u001b[0;34m\u001b[0m\u001b[0;34m\u001b[0m\u001b[0m\n",
            "\u001b[0;32m<ipython-input-16-f07a837f8604>\u001b[0m in \u001b[0;36mgenerations\u001b[0;34m(df, size, n_feat, n_parents, mutation_rate, n_gen, X_train, X_test, y_train, y_test)\u001b[0m\n\u001b[1;32m    142\u001b[0m     \u001b[0;32mfor\u001b[0m \u001b[0mi\u001b[0m \u001b[0;32min\u001b[0m \u001b[0mrange\u001b[0m\u001b[0;34m(\u001b[0m\u001b[0mn_gen\u001b[0m\u001b[0;34m)\u001b[0m\u001b[0;34m:\u001b[0m\u001b[0;34m\u001b[0m\u001b[0;34m\u001b[0m\u001b[0m\n\u001b[1;32m    143\u001b[0m         \u001b[0mprint\u001b[0m\u001b[0;34m(\u001b[0m\u001b[0;34m\"generation \"\u001b[0m\u001b[0;34m+\u001b[0m\u001b[0mstr\u001b[0m\u001b[0;34m(\u001b[0m\u001b[0mi\u001b[0m\u001b[0;34m+\u001b[0m\u001b[0;36m1\u001b[0m\u001b[0;34m)\u001b[0m\u001b[0;34m)\u001b[0m\u001b[0;34m\u001b[0m\u001b[0;34m\u001b[0m\u001b[0m\n\u001b[0;32m--> 144\u001b[0;31m         \u001b[0mscores\u001b[0m\u001b[0;34m,\u001b[0m \u001b[0mpop_after_fit\u001b[0m \u001b[0;34m=\u001b[0m \u001b[0mfitness_score\u001b[0m\u001b[0;34m(\u001b[0m\u001b[0mpopulation_nextgen\u001b[0m\u001b[0;34m,\u001b[0m\u001b[0mrandom_forest\u001b[0m\u001b[0;34m,\u001b[0m \u001b[0mX_train\u001b[0m\u001b[0;34m,\u001b[0m \u001b[0my_train\u001b[0m\u001b[0;34m,\u001b[0m \u001b[0mX_test\u001b[0m\u001b[0;34m,\u001b[0m \u001b[0my_test\u001b[0m\u001b[0;34m)\u001b[0m\u001b[0;34m\u001b[0m\u001b[0;34m\u001b[0m\u001b[0m\n\u001b[0m\u001b[1;32m    145\u001b[0m         \u001b[0mprint\u001b[0m\u001b[0;34m(\u001b[0m\u001b[0;34m'Best score in generation'\u001b[0m\u001b[0;34m,\u001b[0m \u001b[0mi\u001b[0m\u001b[0;34m+\u001b[0m\u001b[0;36m1\u001b[0m\u001b[0;34m,\u001b[0m \u001b[0;34m':'\u001b[0m\u001b[0;34m,\u001b[0m \u001b[0mscores\u001b[0m\u001b[0;34m[\u001b[0m\u001b[0;36m0\u001b[0m\u001b[0;34m]\u001b[0m\u001b[0;34m)\u001b[0m\u001b[0;34m\u001b[0m\u001b[0;34m\u001b[0m\u001b[0m\n\u001b[1;32m    146\u001b[0m         \u001b[0mpop_after_sel\u001b[0m \u001b[0;34m=\u001b[0m \u001b[0mselection\u001b[0m\u001b[0;34m(\u001b[0m\u001b[0mpop_after_fit\u001b[0m\u001b[0;34m,\u001b[0m \u001b[0mn_parents\u001b[0m\u001b[0;34m)\u001b[0m\u001b[0;34m\u001b[0m\u001b[0;34m\u001b[0m\u001b[0m\n",
            "\u001b[0;32m<ipython-input-16-f07a837f8604>\u001b[0m in \u001b[0;36mfitness_score\u001b[0;34m(population, model, X_train, y_train, X_test, y_test)\u001b[0m\n\u001b[1;32m     85\u001b[0m     \u001b[0mscores\u001b[0m \u001b[0;34m=\u001b[0m \u001b[0;34m[\u001b[0m\u001b[0;34m]\u001b[0m\u001b[0;34m\u001b[0m\u001b[0;34m\u001b[0m\u001b[0m\n\u001b[1;32m     86\u001b[0m     \u001b[0;32mfor\u001b[0m \u001b[0mchromosome\u001b[0m \u001b[0;32min\u001b[0m \u001b[0mpopulation\u001b[0m\u001b[0;34m:\u001b[0m\u001b[0;34m\u001b[0m\u001b[0;34m\u001b[0m\u001b[0m\n\u001b[0;32m---> 87\u001b[0;31m         \u001b[0mmodel\u001b[0m\u001b[0;34m.\u001b[0m\u001b[0mfit\u001b[0m\u001b[0;34m(\u001b[0m\u001b[0mX_train\u001b[0m\u001b[0;34m[\u001b[0m\u001b[0;34m:\u001b[0m\u001b[0;34m,\u001b[0m\u001b[0mchromosome\u001b[0m\u001b[0;34m]\u001b[0m\u001b[0;34m,\u001b[0m\u001b[0my_train\u001b[0m\u001b[0;34m)\u001b[0m\u001b[0;34m\u001b[0m\u001b[0;34m\u001b[0m\u001b[0m\n\u001b[0m\u001b[1;32m     88\u001b[0m         \u001b[0mpredictions\u001b[0m \u001b[0;34m=\u001b[0m \u001b[0mmodel\u001b[0m\u001b[0;34m.\u001b[0m\u001b[0mpredict\u001b[0m\u001b[0;34m(\u001b[0m\u001b[0mX_test\u001b[0m\u001b[0;34m[\u001b[0m\u001b[0;34m:\u001b[0m\u001b[0;34m,\u001b[0m\u001b[0mchromosome\u001b[0m\u001b[0;34m]\u001b[0m\u001b[0;34m)\u001b[0m\u001b[0;34m\u001b[0m\u001b[0;34m\u001b[0m\u001b[0m\n\u001b[1;32m     89\u001b[0m         \u001b[0mscores\u001b[0m\u001b[0;34m.\u001b[0m\u001b[0mappend\u001b[0m\u001b[0;34m(\u001b[0m\u001b[0maccuracy_score\u001b[0m\u001b[0;34m(\u001b[0m\u001b[0my_test\u001b[0m\u001b[0;34m,\u001b[0m\u001b[0mpredictions\u001b[0m\u001b[0;34m)\u001b[0m\u001b[0;34m)\u001b[0m\u001b[0;34m\u001b[0m\u001b[0;34m\u001b[0m\u001b[0m\n",
            "\u001b[0;32m/usr/local/lib/python3.10/dist-packages/sklearn/ensemble/_forest.py\u001b[0m in \u001b[0;36mfit\u001b[0;34m(self, X, y, sample_weight)\u001b[0m\n\u001b[1;32m    471\u001b[0m             \u001b[0;31m# parallel_backend contexts set at a higher level,\u001b[0m\u001b[0;34m\u001b[0m\u001b[0;34m\u001b[0m\u001b[0m\n\u001b[1;32m    472\u001b[0m             \u001b[0;31m# since correctness does not rely on using threads.\u001b[0m\u001b[0;34m\u001b[0m\u001b[0;34m\u001b[0m\u001b[0m\n\u001b[0;32m--> 473\u001b[0;31m             trees = Parallel(\n\u001b[0m\u001b[1;32m    474\u001b[0m                 \u001b[0mn_jobs\u001b[0m\u001b[0;34m=\u001b[0m\u001b[0mself\u001b[0m\u001b[0;34m.\u001b[0m\u001b[0mn_jobs\u001b[0m\u001b[0;34m,\u001b[0m\u001b[0;34m\u001b[0m\u001b[0;34m\u001b[0m\u001b[0m\n\u001b[1;32m    475\u001b[0m                 \u001b[0mverbose\u001b[0m\u001b[0;34m=\u001b[0m\u001b[0mself\u001b[0m\u001b[0;34m.\u001b[0m\u001b[0mverbose\u001b[0m\u001b[0;34m,\u001b[0m\u001b[0;34m\u001b[0m\u001b[0;34m\u001b[0m\u001b[0m\n",
            "\u001b[0;32m/usr/local/lib/python3.10/dist-packages/sklearn/utils/parallel.py\u001b[0m in \u001b[0;36m__call__\u001b[0;34m(self, iterable)\u001b[0m\n\u001b[1;32m     61\u001b[0m             \u001b[0;32mfor\u001b[0m \u001b[0mdelayed_func\u001b[0m\u001b[0;34m,\u001b[0m \u001b[0margs\u001b[0m\u001b[0;34m,\u001b[0m \u001b[0mkwargs\u001b[0m \u001b[0;32min\u001b[0m \u001b[0miterable\u001b[0m\u001b[0;34m\u001b[0m\u001b[0;34m\u001b[0m\u001b[0m\n\u001b[1;32m     62\u001b[0m         )\n\u001b[0;32m---> 63\u001b[0;31m         \u001b[0;32mreturn\u001b[0m \u001b[0msuper\u001b[0m\u001b[0;34m(\u001b[0m\u001b[0;34m)\u001b[0m\u001b[0;34m.\u001b[0m\u001b[0m__call__\u001b[0m\u001b[0;34m(\u001b[0m\u001b[0miterable_with_config\u001b[0m\u001b[0;34m)\u001b[0m\u001b[0;34m\u001b[0m\u001b[0;34m\u001b[0m\u001b[0m\n\u001b[0m\u001b[1;32m     64\u001b[0m \u001b[0;34m\u001b[0m\u001b[0m\n\u001b[1;32m     65\u001b[0m \u001b[0;34m\u001b[0m\u001b[0m\n",
            "\u001b[0;32m/usr/local/lib/python3.10/dist-packages/joblib/parallel.py\u001b[0m in \u001b[0;36m__call__\u001b[0;34m(self, iterable)\u001b[0m\n\u001b[1;32m   1916\u001b[0m             \u001b[0moutput\u001b[0m \u001b[0;34m=\u001b[0m \u001b[0mself\u001b[0m\u001b[0;34m.\u001b[0m\u001b[0m_get_sequential_output\u001b[0m\u001b[0;34m(\u001b[0m\u001b[0miterable\u001b[0m\u001b[0;34m)\u001b[0m\u001b[0;34m\u001b[0m\u001b[0;34m\u001b[0m\u001b[0m\n\u001b[1;32m   1917\u001b[0m             \u001b[0mnext\u001b[0m\u001b[0;34m(\u001b[0m\u001b[0moutput\u001b[0m\u001b[0;34m)\u001b[0m\u001b[0;34m\u001b[0m\u001b[0;34m\u001b[0m\u001b[0m\n\u001b[0;32m-> 1918\u001b[0;31m             \u001b[0;32mreturn\u001b[0m \u001b[0moutput\u001b[0m \u001b[0;32mif\u001b[0m \u001b[0mself\u001b[0m\u001b[0;34m.\u001b[0m\u001b[0mreturn_generator\u001b[0m \u001b[0;32melse\u001b[0m \u001b[0mlist\u001b[0m\u001b[0;34m(\u001b[0m\u001b[0moutput\u001b[0m\u001b[0;34m)\u001b[0m\u001b[0;34m\u001b[0m\u001b[0;34m\u001b[0m\u001b[0m\n\u001b[0m\u001b[1;32m   1919\u001b[0m \u001b[0;34m\u001b[0m\u001b[0m\n\u001b[1;32m   1920\u001b[0m         \u001b[0;31m# Let's create an ID that uniquely identifies the current call. If the\u001b[0m\u001b[0;34m\u001b[0m\u001b[0;34m\u001b[0m\u001b[0m\n",
            "\u001b[0;32m/usr/local/lib/python3.10/dist-packages/joblib/parallel.py\u001b[0m in \u001b[0;36m_get_sequential_output\u001b[0;34m(self, iterable)\u001b[0m\n\u001b[1;32m   1845\u001b[0m                 \u001b[0mself\u001b[0m\u001b[0;34m.\u001b[0m\u001b[0mn_dispatched_batches\u001b[0m \u001b[0;34m+=\u001b[0m \u001b[0;36m1\u001b[0m\u001b[0;34m\u001b[0m\u001b[0;34m\u001b[0m\u001b[0m\n\u001b[1;32m   1846\u001b[0m                 \u001b[0mself\u001b[0m\u001b[0;34m.\u001b[0m\u001b[0mn_dispatched_tasks\u001b[0m \u001b[0;34m+=\u001b[0m \u001b[0;36m1\u001b[0m\u001b[0;34m\u001b[0m\u001b[0;34m\u001b[0m\u001b[0m\n\u001b[0;32m-> 1847\u001b[0;31m                 \u001b[0mres\u001b[0m \u001b[0;34m=\u001b[0m \u001b[0mfunc\u001b[0m\u001b[0;34m(\u001b[0m\u001b[0;34m*\u001b[0m\u001b[0margs\u001b[0m\u001b[0;34m,\u001b[0m \u001b[0;34m**\u001b[0m\u001b[0mkwargs\u001b[0m\u001b[0;34m)\u001b[0m\u001b[0;34m\u001b[0m\u001b[0;34m\u001b[0m\u001b[0m\n\u001b[0m\u001b[1;32m   1848\u001b[0m                 \u001b[0mself\u001b[0m\u001b[0;34m.\u001b[0m\u001b[0mn_completed_tasks\u001b[0m \u001b[0;34m+=\u001b[0m \u001b[0;36m1\u001b[0m\u001b[0;34m\u001b[0m\u001b[0;34m\u001b[0m\u001b[0m\n\u001b[1;32m   1849\u001b[0m                 \u001b[0mself\u001b[0m\u001b[0;34m.\u001b[0m\u001b[0mprint_progress\u001b[0m\u001b[0;34m(\u001b[0m\u001b[0;34m)\u001b[0m\u001b[0;34m\u001b[0m\u001b[0;34m\u001b[0m\u001b[0m\n",
            "\u001b[0;32m/usr/local/lib/python3.10/dist-packages/sklearn/utils/parallel.py\u001b[0m in \u001b[0;36m__call__\u001b[0;34m(self, *args, **kwargs)\u001b[0m\n\u001b[1;32m    121\u001b[0m             \u001b[0mconfig\u001b[0m \u001b[0;34m=\u001b[0m \u001b[0;34m{\u001b[0m\u001b[0;34m}\u001b[0m\u001b[0;34m\u001b[0m\u001b[0;34m\u001b[0m\u001b[0m\n\u001b[1;32m    122\u001b[0m         \u001b[0;32mwith\u001b[0m \u001b[0mconfig_context\u001b[0m\u001b[0;34m(\u001b[0m\u001b[0;34m**\u001b[0m\u001b[0mconfig\u001b[0m\u001b[0;34m)\u001b[0m\u001b[0;34m:\u001b[0m\u001b[0;34m\u001b[0m\u001b[0;34m\u001b[0m\u001b[0m\n\u001b[0;32m--> 123\u001b[0;31m             \u001b[0;32mreturn\u001b[0m \u001b[0mself\u001b[0m\u001b[0;34m.\u001b[0m\u001b[0mfunction\u001b[0m\u001b[0;34m(\u001b[0m\u001b[0;34m*\u001b[0m\u001b[0margs\u001b[0m\u001b[0;34m,\u001b[0m \u001b[0;34m**\u001b[0m\u001b[0mkwargs\u001b[0m\u001b[0;34m)\u001b[0m\u001b[0;34m\u001b[0m\u001b[0;34m\u001b[0m\u001b[0m\n\u001b[0m",
            "\u001b[0;32m/usr/local/lib/python3.10/dist-packages/sklearn/ensemble/_forest.py\u001b[0m in \u001b[0;36m_parallel_build_trees\u001b[0;34m(tree, bootstrap, X, y, sample_weight, tree_idx, n_trees, verbose, class_weight, n_samples_bootstrap)\u001b[0m\n\u001b[1;32m    182\u001b[0m             \u001b[0mcurr_sample_weight\u001b[0m \u001b[0;34m*=\u001b[0m \u001b[0mcompute_sample_weight\u001b[0m\u001b[0;34m(\u001b[0m\u001b[0;34m\"balanced\"\u001b[0m\u001b[0;34m,\u001b[0m \u001b[0my\u001b[0m\u001b[0;34m,\u001b[0m \u001b[0mindices\u001b[0m\u001b[0;34m=\u001b[0m\u001b[0mindices\u001b[0m\u001b[0;34m)\u001b[0m\u001b[0;34m\u001b[0m\u001b[0;34m\u001b[0m\u001b[0m\n\u001b[1;32m    183\u001b[0m \u001b[0;34m\u001b[0m\u001b[0m\n\u001b[0;32m--> 184\u001b[0;31m         \u001b[0mtree\u001b[0m\u001b[0;34m.\u001b[0m\u001b[0mfit\u001b[0m\u001b[0;34m(\u001b[0m\u001b[0mX\u001b[0m\u001b[0;34m,\u001b[0m \u001b[0my\u001b[0m\u001b[0;34m,\u001b[0m \u001b[0msample_weight\u001b[0m\u001b[0;34m=\u001b[0m\u001b[0mcurr_sample_weight\u001b[0m\u001b[0;34m,\u001b[0m \u001b[0mcheck_input\u001b[0m\u001b[0;34m=\u001b[0m\u001b[0;32mFalse\u001b[0m\u001b[0;34m)\u001b[0m\u001b[0;34m\u001b[0m\u001b[0;34m\u001b[0m\u001b[0m\n\u001b[0m\u001b[1;32m    185\u001b[0m     \u001b[0;32melse\u001b[0m\u001b[0;34m:\u001b[0m\u001b[0;34m\u001b[0m\u001b[0;34m\u001b[0m\u001b[0m\n\u001b[1;32m    186\u001b[0m         \u001b[0mtree\u001b[0m\u001b[0;34m.\u001b[0m\u001b[0mfit\u001b[0m\u001b[0;34m(\u001b[0m\u001b[0mX\u001b[0m\u001b[0;34m,\u001b[0m \u001b[0my\u001b[0m\u001b[0;34m,\u001b[0m \u001b[0msample_weight\u001b[0m\u001b[0;34m=\u001b[0m\u001b[0msample_weight\u001b[0m\u001b[0;34m,\u001b[0m \u001b[0mcheck_input\u001b[0m\u001b[0;34m=\u001b[0m\u001b[0;32mFalse\u001b[0m\u001b[0;34m)\u001b[0m\u001b[0;34m\u001b[0m\u001b[0;34m\u001b[0m\u001b[0m\n",
            "\u001b[0;32m/usr/local/lib/python3.10/dist-packages/sklearn/tree/_classes.py\u001b[0m in \u001b[0;36mfit\u001b[0;34m(self, X, y, sample_weight, check_input)\u001b[0m\n\u001b[1;32m    887\u001b[0m         \"\"\"\n\u001b[1;32m    888\u001b[0m \u001b[0;34m\u001b[0m\u001b[0m\n\u001b[0;32m--> 889\u001b[0;31m         super().fit(\n\u001b[0m\u001b[1;32m    890\u001b[0m             \u001b[0mX\u001b[0m\u001b[0;34m,\u001b[0m\u001b[0;34m\u001b[0m\u001b[0;34m\u001b[0m\u001b[0m\n\u001b[1;32m    891\u001b[0m             \u001b[0my\u001b[0m\u001b[0;34m,\u001b[0m\u001b[0;34m\u001b[0m\u001b[0;34m\u001b[0m\u001b[0m\n",
            "\u001b[0;32m/usr/local/lib/python3.10/dist-packages/sklearn/tree/_classes.py\u001b[0m in \u001b[0;36mfit\u001b[0;34m(self, X, y, sample_weight, check_input)\u001b[0m\n\u001b[1;32m    377\u001b[0m             )\n\u001b[1;32m    378\u001b[0m \u001b[0;34m\u001b[0m\u001b[0m\n\u001b[0;32m--> 379\u001b[0;31m         \u001b[0mbuilder\u001b[0m\u001b[0;34m.\u001b[0m\u001b[0mbuild\u001b[0m\u001b[0;34m(\u001b[0m\u001b[0mself\u001b[0m\u001b[0;34m.\u001b[0m\u001b[0mtree_\u001b[0m\u001b[0;34m,\u001b[0m \u001b[0mX\u001b[0m\u001b[0;34m,\u001b[0m \u001b[0my\u001b[0m\u001b[0;34m,\u001b[0m \u001b[0msample_weight\u001b[0m\u001b[0;34m)\u001b[0m\u001b[0;34m\u001b[0m\u001b[0;34m\u001b[0m\u001b[0m\n\u001b[0m\u001b[1;32m    380\u001b[0m \u001b[0;34m\u001b[0m\u001b[0m\n\u001b[1;32m    381\u001b[0m         \u001b[0;32mif\u001b[0m \u001b[0mself\u001b[0m\u001b[0;34m.\u001b[0m\u001b[0mn_outputs_\u001b[0m \u001b[0;34m==\u001b[0m \u001b[0;36m1\u001b[0m \u001b[0;32mand\u001b[0m \u001b[0mis_classifier\u001b[0m\u001b[0;34m(\u001b[0m\u001b[0mself\u001b[0m\u001b[0;34m)\u001b[0m\u001b[0;34m:\u001b[0m\u001b[0;34m\u001b[0m\u001b[0;34m\u001b[0m\u001b[0m\n",
            "\u001b[0;31mKeyboardInterrupt\u001b[0m: "
          ]
        }
      ]
    },
    {
      "cell_type": "code",
      "source": [
        "best_chromo, best_score = generations(df,10, 50, 10, 0.2, 10, X_train_selected, X_test_selected, y_train, y_test)\n",
        "print(\"Best Chromosome:\", best_chromo[-1])\n",
        "print(\"Best Score:\", best_score[-1])"
      ],
      "metadata": {
        "colab": {
          "base_uri": "https://localhost:8080/"
        },
        "id": "VqnqHSYNsOn0",
        "outputId": "73bfbf1e-7167-45a2-8796-aaa665e363ce"
      },
      "id": "VqnqHSYNsOn0",
      "execution_count": null,
      "outputs": [
        {
          "output_type": "stream",
          "name": "stdout",
          "text": [
            "generation 1\n",
            "Best score in generation 1 : 0.9953358208955224\n",
            "generation 2\n",
            "Best score in generation 2 : 0.9960820895522388\n",
            "generation 3\n",
            "Best score in generation 3 : 0.9955223880597015\n",
            "generation 4\n",
            "Best score in generation 4 : 0.9958955223880597\n",
            "generation 5\n",
            "Best score in generation 5 : 0.996268656716418\n",
            "generation 6\n",
            "Best score in generation 6 : 0.996268656716418\n",
            "generation 7\n",
            "Best score in generation 7 : 0.9960820895522388\n",
            "generation 8\n",
            "Best score in generation 8 : 0.9957089552238806\n",
            "generation 9\n",
            "Best score in generation 9 : 0.9960820895522388\n",
            "generation 10\n",
            "Best score in generation 10 : 0.996268656716418\n",
            "Best Chromosome: [False  True False  True False False False  True False False  True  True\n",
            " False  True False False  True False  True False  True  True False  True\n",
            " False  True  True  True  True False False  True  True False  True False\n",
            "  True  True  True  True  True  True  True False False False  True False\n",
            "  True False]\n",
            "Best Score: 0.996268656716418\n"
          ]
        }
      ]
    },
    {
      "cell_type": "code",
      "source": [
        "best_chromo, best_score = generations(df,100, 60, 30, 0.1, 20, X_train_selected, X_test_selected, y_train, y_test)\n",
        "sorted_indices = [i for i, _ in sorted(enumerate(best_score), key=lambda x: x[1])]\n",
        "best_score=np.array(best_score)\n",
        "best_chromo=np.array(best_chromo)\n",
        "best_score=best_score[sorted_indices]\n",
        "best_chromo=best_chromo[sorted_indices,:]\n",
        "print(\"Best Chromosome:\", best_chromo[-1])\n",
        "print(\"Best Score:\", best_score[-1])"
      ],
      "metadata": {
        "colab": {
          "base_uri": "https://localhost:8080/"
        },
        "id": "k2l1VSro2BvX",
        "outputId": "5f82cc28-6232-4df6-c3fe-ac52e0bad213"
      },
      "id": "k2l1VSro2BvX",
      "execution_count": 13,
      "outputs": [
        {
          "output_type": "stream",
          "name": "stdout",
          "text": [
            "generation 1\n",
            "[0.97481343 0.9738806  0.99458955 0.9619403  0.99421642 0.99384328\n",
            " 0.98824627 0.97406716 0.97537313 0.99235075 0.99309701 0.99402985\n",
            " 0.99048507 0.99291045 0.97294776 0.9738806  0.99477612 0.99328358\n",
            " 0.97462687 0.99384328 0.99253731 0.97537313 0.99309701 0.99365672\n",
            " 0.99421642 0.98656716 0.9625     0.97425373 0.97164179 0.99328358\n",
            " 0.96231343 0.98619403 0.9733209  0.96044776 0.99179104 0.99458955\n",
            " 0.99328358 0.99440299 0.9608209  0.99402985 0.99440299 0.99458955\n",
            " 0.99477612 0.99309701 0.99421642 0.99384328 0.99384328 0.98544776\n",
            " 0.99402985 0.9733209  0.98992537 0.99458955 0.99421642 0.99458955\n",
            " 0.99421642 0.99477612 0.97406716 0.9738806  0.97313433 0.99197761\n",
            " 0.99402985 0.99160448 0.98955224 0.99402985 0.99421642 0.99440299\n",
            " 0.9744403  0.97406716 0.98656716 0.99365672 0.99477612 0.99477612\n",
            " 0.99496269 0.97350746 0.95970149 0.99402985 0.97369403 0.99458955\n",
            " 0.99365672 0.99347015 0.99253731 0.975      0.99384328 0.99477612\n",
            " 0.99272388 0.99365672 0.99328358 0.97145522 0.9738806  0.98824627\n",
            " 0.97537313 0.97518657 0.99179104 0.9733209  0.99402985 0.99309701\n",
            " 0.99328358 0.99384328 0.99421642 0.97369403]\n",
            "[74 33 38  3 30 26 87 28 14 58 49 93 32 73 76 99 57  1 88 15 67  7 56 27\n",
            " 66 18  0 81 91 21 90  8 47 31 25 68 89  6 62 50 12 61 92 34 59  9 80 20\n",
            " 84 13 10 43 95 22 86 96 17 29 36 79 85 78 23 69 82  5 46 45 97 19 75 94\n",
            " 63 11 60 48 39 54  4 44 64 24 98 52 65 40 37 51 53 35 77  2 41 71 83 55\n",
            " 70 42 16 72]\n",
            "Best score in generation 1 : 0.9949626865671641\n",
            "generation 2\n",
            "[0.99533582 0.99384328 0.99440299 0.99458955 0.99440299 0.99477612\n",
            " 0.99477612 0.99496269 0.99421642 0.99421642 0.99365672 0.99533582\n",
            " 0.97425373 0.99309701 0.97462687 0.99440299 0.99347015 0.99477612\n",
            " 0.99458955 0.99402985 0.99477612 0.9733209  0.99477612 0.99253731\n",
            " 0.99328358 0.99384328 0.99347015 0.99421642 0.99291045 0.99421642\n",
            " 0.99440299 0.99477612 0.98768657 0.97238806 0.99514925 0.99272388\n",
            " 0.99496269 0.99440299 0.99533582 0.99328358 0.98973881 0.99365672\n",
            " 0.99514925 0.99384328 0.99458955]\n",
            "[33 21 12 14 32 40 23 35 28 13 39 24 16 26 41 10 43  1 25 19  9  8 29 27\n",
            " 15 30 37  4  2  3 18 44 22 20 17  6  5 31 36  7 34 42 11 38  0]\n",
            "Best score in generation 2 : 0.9953358208955224\n",
            "generation 3\n",
            "[0.99309701 0.99440299 0.99533582 0.99123134 0.99570896 0.99626866\n",
            " 0.99570896 0.99421642 0.97518657 0.99496269 0.99216418 0.99440299\n",
            " 0.99477612 0.97705224 0.99384328 0.99402985 0.99384328 0.97462687\n",
            " 0.99421642 0.99570896 0.99552239 0.99402985 0.99458955 0.99421642\n",
            " 0.99552239 0.99179104 0.99458955 0.99421642 0.99533582 0.99477612\n",
            " 0.98787313 0.99421642 0.99533582 0.99552239 0.99347015 0.99458955\n",
            " 0.99291045 0.98992537 0.99384328 0.99328358 0.99458955 0.99458955\n",
            " 0.99458955 0.99309701 0.99402985]\n",
            "[17  8 13 30 37  3 25 10 36 43  0 39 34 38 14 16 21 44 15 18  7 27 23 31\n",
            " 11  1 22 26 42 41 40 35 12 29  9 28 32  2 24 33 20 19  4  6  5]\n",
            "Best score in generation 3 : 0.996268656716418\n",
            "generation 4\n",
            "[0.99608209 0.99235075 0.97518657 0.99626866 0.99514925 0.99477612\n",
            " 0.99514925 0.99552239 0.99421642 0.99440299 0.99458955 0.99347015\n",
            " 0.99477612 0.99440299 0.99570896 0.99496269 0.99496269 0.99421642\n",
            " 0.99253731 0.99440299 0.99589552 0.99365672 0.99458955 0.99570896\n",
            " 0.99440299 0.99514925 0.99496269 0.99291045 0.99104478 0.99402985\n",
            " 0.99496269 0.99402985 0.9733209  0.99440299 0.99477612 0.99533582\n",
            " 0.99477612 0.99514925 0.99477612 0.99533582 0.99477612 0.99477612\n",
            " 0.99477612 0.99402985 0.99421642]\n",
            "[32  2 28  1 18 27 11 21 31 29 43 44  8 17 24 13 33 19  9 22 10 41 38 36\n",
            " 34 12 42  5 40 16 30 26 15 25 37  6  4 35 39  7 23 14 20  0  3]\n",
            "Best score in generation 4 : 0.996268656716418\n",
            "generation 5\n",
            "[0.99589552 0.99570896 0.99552239 0.98973881 0.97779851 0.99514925\n",
            " 0.99104478 0.99179104 0.99496269 0.99328358 0.99421642 0.99440299\n",
            " 0.99402985 0.99440299 0.9761194  0.99496269 0.99440299 0.99365672\n",
            " 0.97481343 0.99347015 0.99440299 0.99552239 0.99085821 0.99458955\n",
            " 0.99477612 0.99514925 0.99477612 0.97742537 0.99589552 0.99514925\n",
            " 0.99608209 0.98992537 0.99514925 0.99552239 0.99533582 0.99552239\n",
            " 0.99514925 0.99421642 0.99570896 0.99477612 0.97761194 0.97481343\n",
            " 0.99477612 0.96063433 0.99533582]\n",
            "[43 18 41 14 27 40  4  3 31 22  6  7  9 19 17 12 10 37 20 16 13 11 23 24\n",
            " 26 39 42 15  8 25 29  5 32 36 44 34 35 33 21  2 38  1 28  0 30]\n",
            "Best score in generation 5 : 0.9960820895522388\n",
            "generation 6\n",
            "[0.99626866 0.99645522 0.99514925 0.99496269 0.99365672 0.99328358\n",
            " 0.99570896 0.99141791 0.99496269 0.99496269 0.99552239 0.99458955\n",
            " 0.99458955 0.99570896 0.99477612 0.99384328 0.99514925 0.97574627\n",
            " 0.99328358 0.99496269 0.99458955 0.99402985 0.99458955 0.99496269\n",
            " 0.99496269 0.99458955 0.97294776 0.99291045 0.99477612 0.99477612\n",
            " 0.99608209 0.99384328 0.99514925 0.99570896 0.99421642 0.99570896\n",
            " 0.99477612 0.99533582 0.99440299 0.99496269 0.99440299 0.97723881\n",
            " 0.99402985 0.96660448 0.99402985]\n",
            "[43 26 17 41  7 27 18  5  4 15 31 21 42 44 34 38 40 25 20 22 12 11 14 28\n",
            " 29 36 23 24  3 39  9 19  8 16  2 32 37 10 33  6 13 35 30  0  1]\n",
            "Best score in generation 6 : 0.996455223880597\n",
            "generation 7\n",
            "[0.99626866 0.99589552 0.99552239 0.99496269 0.99514925 0.99608209\n",
            " 0.99440299 0.99552239 0.99477612 0.96007463 0.99570896 0.99179104\n",
            " 0.99589552 0.99496269 0.99402985 0.99514925 0.97891791 0.99477612\n",
            " 0.99552239 0.99477612 0.99365672 0.99440299 0.99458955 0.99104478\n",
            " 0.99496269 0.99496269 0.98955224 0.99421642 0.99440299 0.99253731\n",
            " 0.97817164 0.99589552 0.99608209 0.99626866 0.99514925 0.99477612\n",
            " 0.99328358 0.97406716 0.99552239 0.99123134 0.99347015 0.99570896\n",
            " 0.99365672 0.99440299 0.99458955]\n",
            "[ 9 37 30 16 26 23 39 11 29 36 40 20 42 14 27 21  6 43 28 22 44 17  8 35\n",
            " 19 24 25 13  3 15  4 34 18 38  7  2 41 10 31 12  1 32  5 33  0]\n",
            "Best score in generation 7 : 0.996268656716418\n",
            "generation 8\n",
            "[0.99533582 0.98059701 0.99514925 0.99440299 0.99570896 0.99458955\n",
            " 0.99552239 0.99589552 0.97891791 0.99608209 0.99589552 0.99626866\n",
            " 0.99029851 0.99552239 0.99589552 0.99533582 0.99570896 0.99402985\n",
            " 0.99533582 0.99421642 0.99458955 0.99440299 0.99608209 0.99440299\n",
            " 0.99552239 0.99216418 0.99309701 0.99421642 0.99384328 0.99552239\n",
            " 0.99626866 0.99664179 0.99552239 0.99608209 0.99664179 0.99514925\n",
            " 0.9738806  0.99514925 0.97761194 0.99552239 0.99458955 0.99552239\n",
            " 0.99514925 0.99253731 0.97742537]\n",
            "[36 44 38  8  1 12 25 43 26 28 17 27 19 21  3 23  5 20 40 37 42  2 35  0\n",
            " 15 18 24 13 29 41 32  6 39 16  4 14 10  7 22 33  9 11 30 31 34]\n",
            "Best score in generation 8 : 0.9966417910447761\n",
            "generation 9\n",
            "[0.99664179 0.99664179 0.99608209 0.99570896 0.99291045 0.99608209\n",
            " 0.99514925 0.99514925 0.99589552 0.99496269 0.99496269 0.97966418\n",
            " 0.97910448 0.99570896 0.99533582 0.99570896 0.99421642 0.99589552\n",
            " 0.99477612 0.99291045 0.99570896 0.99514925 0.99496269 0.99253731\n",
            " 0.99458955 0.99402985 0.99477612 0.99477612 0.99365672 0.99552239\n",
            " 0.99645522 0.99589552 0.99570896 0.99458955 0.99570896 0.99626866\n",
            " 0.99589552 0.99458955 0.99533582 0.99552239 0.99626866 0.99458955\n",
            " 0.99514925 0.99533582 0.99570896]\n",
            "[12 11 23  4 19 28 25 16 41 24 37 33 26 18 27 22 10  9  7 21  6 42 43 38\n",
            " 14 29 39 32 34 44 15 13  3 20 31 17 36  8  5  2 35 40 30  1  0]\n",
            "Best score in generation 9 : 0.9966417910447761\n",
            "generation 10\n",
            "[0.99347015 0.99626866 0.99496269 0.99552239 0.99514925 0.99458955\n",
            " 0.99440299 0.99589552 0.99570896 0.99477612 0.99440299 0.99570896\n",
            " 0.99533582 0.99570896 0.97761194 0.99570896 0.99570896 0.99458955\n",
            " 0.99347015 0.99608209 0.97425373 0.99533582 0.99402985 0.99458955\n",
            " 0.99179104 0.99496269 0.99552239 0.99552239 0.99570896 0.9755597\n",
            " 0.99664179 0.99608209 0.99440299 0.99589552 0.99552239 0.99608209\n",
            " 0.99552239 0.97518657 0.99496269 0.99477612 0.99533582 0.99477612\n",
            " 0.99160448 0.99402985 0.99552239]\n",
            "[20 37 29 14 42 24  0 18 43 22 10 32  6 17  5 23 41 39  9 38  2 25  4 12\n",
            " 40 21 34 36  3 27 26 44 16 15  8 13 11 28 33  7 31 19 35  1 30]\n",
            "Best score in generation 10 : 0.9966417910447761\n",
            "generation 11\n",
            "[0.99179104 0.99589552 0.99608209 0.99533582 0.99552239 0.99608209\n",
            " 0.99589552 0.99608209 0.99291045 0.99514925 0.99402985 0.98078358\n",
            " 0.99570896 0.99533582 0.99589552 0.99477612 0.99608209 0.99533582\n",
            " 0.99458955 0.96026119 0.99421642 0.99235075 0.99496269 0.99216418\n",
            " 0.99626866 0.99496269 0.99589552 0.99496269 0.99477612 0.99402985\n",
            " 0.99384328 0.99496269 0.99570896 0.99477612 0.99570896 0.99533582\n",
            " 0.99496269 0.99328358 0.99664179 0.99365672 0.99421642 0.99589552\n",
            " 0.99589552 0.99589552 0.99085821]\n",
            "[19 11 44  0 23 21  8 37 39 30 10 29 40 20 18 15 33 28 25 22 31 36 27  9\n",
            " 13 35  3 17  4 32 34 12 43  1 14  6 41 42 26 16  2  7  5 24 38]\n",
            "Best score in generation 11 : 0.9966417910447761\n",
            "generation 12\n",
            "[0.99533582 0.97220149 0.98097015 0.99533582 0.99365672 0.99552239\n",
            " 0.99533582 0.99552239 0.99570896 0.97891791 0.99253731 0.99552239\n",
            " 0.98078358 0.99347015 0.99570896 0.99440299 0.99589552 0.99533582\n",
            " 0.99552239 0.99552239 0.99533582 0.99496269 0.99589552 0.99496269\n",
            " 0.99402985 0.99365672 0.99514925 0.99458955 0.99552239 0.99421642\n",
            " 0.99402985 0.99552239 0.98097015 0.99552239 0.99477612 0.99421642\n",
            " 0.97518657 0.99496269 0.99496269 0.99514925 0.99402985 0.99552239\n",
            " 0.99608209 0.99458955 0.99533582]\n",
            "[ 1 36  9 12  2 32 10 13 25  4 30 24 40 35 29 15 43 27 34 23 21 38 37 39\n",
            " 26  0 44  3 17  6 20 19 41  5  7 11 33 31 18 28  8 14 16 22 42]\n",
            "Best score in generation 12 : 0.9960820895522388\n",
            "generation 13\n",
            "[0.99589552 0.97294776 0.97686567 0.99589552 0.99104478 0.99533582\n",
            " 0.99626866 0.99496269 0.99160448 0.99533582 0.99514925 0.99496269\n",
            " 0.97593284 0.99570896 0.99496269 0.99458955 0.99365672 0.99291045\n",
            " 0.99496269 0.97686567 0.99291045 0.99496269 0.99608209 0.97294776\n",
            " 0.99589552 0.99514925 0.99626866 0.99421642 0.99347015 0.97910448\n",
            " 0.99477612 0.99477612 0.99514925 0.99458955 0.9613806  0.99141791\n",
            " 0.99347015 0.99552239 0.99440299 0.99477612 0.99496269 0.99477612\n",
            " 0.99514925 0.99514925 0.99402985]\n",
            "[34  1 23 12 19  2 29  4 35  8 20 17 36 28 16 44 27 38 33 15 41 31 30 39\n",
            " 18  7 14 40 21 11 10 43 32 42 25  5  9 37 13  0 24  3 22  6 26]\n",
            "Best score in generation 13 : 0.996268656716418\n",
            "generation 14\n",
            "[0.99626866 0.99570896 0.99514925 0.99645522 0.99589552 0.99514925\n",
            " 0.99608209 0.99048507 0.99421642 0.99514925 0.99533582 0.99570896\n",
            " 0.97481343 0.99552239 0.99533582 0.99458955 0.99533582 0.99496269\n",
            " 0.99458955 0.99477612 0.99514925 0.99533582 0.99421642 0.99552239\n",
            " 0.99458955 0.97630597 0.99365672 0.99440299 0.99029851 0.99384328\n",
            " 0.99626866 0.99570896 0.99552239 0.99570896 0.99496269 0.99533582\n",
            " 0.99402985 0.99141791 0.99291045 0.99197761 0.99496269 0.99458955\n",
            " 0.99552239 0.95466418 0.99440299]\n",
            "[43 12 25 28  7 37 39 38 26 29 36 22  8 27 44 15 41 18 24 19 17 40 34  2\n",
            "  9  5 20 10 16 21 35 14 32 13 23 42 31 33 11  1  4  6 30  0  3]\n",
            "Best score in generation 14 : 0.996455223880597\n",
            "generation 15\n",
            "[0.99626866 0.99570896 0.99291045 0.99608209 0.99589552 0.99589552\n",
            " 0.99533582 0.99626866 0.99365672 0.99570896 0.99496269 0.99496269\n",
            " 0.99589552 0.99570896 0.99514925 0.99514925 0.99552239 0.99496269\n",
            " 0.99533582 0.99533582 0.99496269 0.99570896 0.99589552 0.99514925\n",
            " 0.99477612 0.99458955 0.99272388 0.99496269 0.99496269 0.99496269\n",
            " 0.99533582 0.99421642 0.99496269 0.99570896 0.99552239 0.99514925\n",
            " 0.99608209 0.97873134 0.97537313 0.99272388 0.98078358 0.99328358\n",
            " 0.99458955 0.99402985 0.99235075]\n",
            "[38 37 40 44 39 26  2 41  8 43 31 25 42 24 32 29 28 27 20 17 10 11 23 15\n",
            " 14 35 19  6 30 18 16 34  9 21 33 13  1 22 12  5  4  3 36  7  0]\n",
            "Best score in generation 15 : 0.996268656716418\n",
            "generation 16\n",
            "[0.99589552 0.99608209 0.99645522 0.99608209 0.99085821 0.99496269\n",
            " 0.99589552 0.99477612 0.99552239 0.99533582 0.99645522 0.99589552\n",
            " 0.99552239 0.99291045 0.9761194  0.99029851 0.97723881 0.99440299\n",
            " 0.99477612 0.99477612 0.99384328 0.99440299 0.99477612 0.99533582\n",
            " 0.99458955 0.99496269 0.99496269 0.99514925 0.99552239 0.99402985\n",
            " 0.99645522 0.99608209 0.99514925 0.99589552 0.99552239 0.99626866\n",
            " 0.99552239 0.99496269 0.99458955 0.99514925 0.96026119 0.99365672\n",
            " 0.99533582 0.99514925 0.99328358]\n",
            "[40 14 16 15  4 13 44 41 20 29 21 17 38 24 19 18 22  7 25 37 26  5 32 43\n",
            " 39 27 42  9 23 12 34 36  8 28 11  0 33  6 31  3  1 35  2 10 30]\n",
            "Best score in generation 16 : 0.996455223880597\n",
            "generation 17\n",
            "[0.99570896 0.99626866 0.99570896 0.99552239 0.99496269 0.99291045\n",
            " 0.99496269 0.99570896 0.99328358 0.97164179 0.99496269 0.99179104\n",
            " 0.99608209 0.99589552 0.99496269 0.99552239 0.99570896 0.99085821\n",
            " 0.99514925 0.99365672 0.99477612 0.99608209 0.99477612 0.99496269\n",
            " 0.99309701 0.99589552 0.99514925 0.99533582 0.99552239 0.99440299\n",
            " 0.99477612 0.99533582 0.99384328 0.97705224 0.99589552 0.99402985\n",
            " 0.97537313 0.97854478 0.99570896 0.99496269 0.99533582 0.99626866\n",
            " 0.99458955 0.99570896 0.99440299]\n",
            "[ 9 36 33 37 17 11  5 24  8 19 32 35 29 44 42 30 20 22 14 39  4 23  6 10\n",
            " 18 26 40 31 27 28 15  3  7 43  2 38 16  0 13 34 25 21 12 41  1]\n",
            "Best score in generation 17 : 0.996268656716418\n",
            "generation 18\n",
            "[0.97742537 0.99608209 0.99496269 0.99626866 0.99496269 0.99533582\n",
            " 0.99570896 0.99533582 0.99328358 0.99570896 0.99421642 0.99552239\n",
            " 0.99626866 0.99421642 0.99514925 0.99477612 0.99570896 0.99552239\n",
            " 0.99458955 0.99496269 0.99552239 0.99570896 0.99533582 0.99570896\n",
            " 0.99421642 0.99514925 0.99514925 0.99514925 0.97854478 0.99552239\n",
            " 0.99291045 0.97686567 0.99440299 0.99589552 0.99496269 0.99552239\n",
            " 0.99570896 0.99477612 0.99328358 0.97649254 0.99197761 0.99626866\n",
            " 0.99085821 0.99570896 0.99533582]\n",
            "[39 31  0 28 42 40 30 38  8 13 24 10 32 18 37 15 34  4  2 19 25 14 27 26\n",
            " 22 44  5  7 20 17 29 11 35  6 36 43 16 21 23  9 33  1 12  3 41]\n",
            "Best score in generation 18 : 0.996268656716418\n",
            "generation 19\n",
            "[0.99664179 0.99589552 0.99608209 0.99552239 0.98078358 0.99496269\n",
            " 0.99458955 0.99365672 0.99570896 0.97705224 0.99589552 0.99533582\n",
            " 0.99626866 0.99347015 0.99514925 0.99589552 0.99328358 0.99514925\n",
            " 0.99533582 0.9766791  0.99402985 0.97723881 0.97630597 0.99589552\n",
            " 0.99626866 0.99477612 0.99533582 0.99514925 0.99496269 0.96828358\n",
            " 0.99570896 0.99626866 0.99589552 0.99570896 0.99552239 0.99552239\n",
            " 0.99608209 0.99477612 0.97593284 0.97406716 0.97350746 0.99496269\n",
            " 0.99514925 0.99514925 0.99514925]\n",
            "[29 40 39 38 22 19  9 21  4 16 13  7 20  6 37 25 41 28  5 42 27 43 44 17\n",
            " 14 26 11 18  3 34 35 33  8 30  1 10 23 32 15  2 36 31 12 24  0]\n",
            "Best score in generation 19 : 0.9966417910447761\n",
            "generation 20\n",
            "[0.99589552 0.99384328 0.99589552 0.98656716 0.99589552 0.99570896\n",
            " 0.9761194  0.99570896 0.99552239 0.99570896 0.98768657 0.97761194\n",
            " 0.99514925 0.99458955 0.99440299 0.97742537 0.99608209 0.99216418\n",
            " 0.99589552 0.99570896 0.99421642 0.99402985 0.99458955 0.99496269\n",
            " 0.99477612 0.99496269 0.99533582 0.99440299 0.99440299 0.99216418\n",
            " 0.99589552 0.99626866 0.99552239 0.99085821 0.99608209 0.99608209\n",
            " 0.99626866 0.99626866 0.99608209 0.99552239 0.99570896 0.99496269\n",
            " 0.99458955 0.99477612 0.99533582]\n",
            "[ 6 15 11  3 10 33 29 17  1 21 20 28 27 14 22 42 13 43 24 25 41 23 12 26\n",
            " 44  8 32 39  9  7 40  5 19 18  2  4  0 30 38 35 16 34 37 31 36]\n",
            "Best score in generation 20 : 0.996268656716418\n",
            "Best Chromosome: [False False  True False False  True  True  True False  True  True  True\n",
            "  True False False  True False  True False  True  True False False False\n",
            " False  True  True  True  True  True  True  True  True False False False\n",
            "  True False  True  True  True  True False False False False False  True\n",
            "  True False False False False  True False  True  True False False  True]\n",
            "Best Score: 0.9966417910447761\n"
          ]
        }
      ]
    },
    {
      "cell_type": "code",
      "source": [
        "best_chromo, best_score = generations(df,100, 60, 30, 0.1, 20, X_train_selected, X_test_selected, y_train, y_test)\n",
        "sorted_indices = [i for i, _ in sorted(enumerate(best_score), key=lambda x: x[1])]\n",
        "best_score=np.array(best_score)\n",
        "best_chromo=np.array(best_chromo)\n",
        "best_score=best_score[sorted_indices]\n",
        "best_chromo=best_chromo[sorted_indices,:]\n",
        "print(\"Best Chromosome:\", best_chromo[-1])\n",
        "print(\"Best Score:\", best_score[-1])"
      ],
      "metadata": {
        "colab": {
          "base_uri": "https://localhost:8080/"
        },
        "id": "7dXxr9I2Pkb2",
        "outputId": "93624e1c-1e75-44fc-e6c1-9cf532547c79"
      },
      "id": "7dXxr9I2Pkb2",
      "execution_count": 10,
      "outputs": [
        {
          "output_type": "stream",
          "name": "stdout",
          "text": [
            "generation 1\n",
            "[0.99477612 0.99347015 0.99216418 0.99384328 0.96156716 0.97406716\n",
            " 0.99384328 0.98731343 0.98973881 0.9869403  0.99496269 0.98899254\n",
            " 0.99347015 0.99402985 0.97350746 0.99458955 0.97425373 0.97425373\n",
            " 0.99235075 0.99477612 0.97518657 0.99179104 0.9733209  0.97891791\n",
            " 0.99309701 0.99347015 0.9744403  0.97238806 0.98973881 0.99141791\n",
            " 0.99440299 0.99347015 0.99029851 0.99029851 0.99384328 0.99384328\n",
            " 0.99365672 0.99365672 0.99514925 0.99477612 0.99402985 0.99160448\n",
            " 0.96100746 0.97425373 0.99440299 0.9755597  0.95858209 0.99365672\n",
            " 0.99216418 0.99272388 0.99347015 0.99402985 0.99309701 0.99365672\n",
            " 0.99029851 0.98880597 0.99458955 0.99402985 0.99365672 0.99496269\n",
            " 0.99365672 0.99402985 0.99477612 0.99291045 0.99440299 0.99514925\n",
            " 0.99384328 0.99029851 0.99402985 0.99402985 0.99533582 0.97220149\n",
            " 0.99458955 0.99440299 0.99216418 0.99328358 0.99384328 0.99216418\n",
            " 0.99402985 0.98526119 0.99384328 0.99402985 0.99365672 0.97220149\n",
            " 0.97406716 0.99011194 0.99365672 0.99384328 0.99384328 0.99365672\n",
            " 0.99216418 0.99402985 0.98675373 0.98843284 0.9733209  0.99421642\n",
            " 0.99347015 0.99496269 0.99458955 0.99235075]\n",
            "[46 42  4 71 83 27 94 22 14  5 84 16 43 17 26 20 45 23 79 92  9  7 93 55\n",
            " 11  8 28 85 67 54 33 32 29 41 21 77 48 90  2 74 18 99 49 63 52 24 75 31\n",
            " 96  1 25 50 12 60 58 89 53 86 36 47 37 82  6 76 87 80 66  3 35 34 88 51\n",
            " 13 81 91 57 78 61 40 69 68 95 73 64 44 30 56 72 15 98 39 19 62  0 59 97\n",
            " 10 65 38 70]\n",
            "Best score in generation 1 : 0.9953358208955224\n",
            "generation 2\n",
            "[0.99608209 0.99514925 0.99477612 0.99514925 0.99291045 0.99328358\n",
            " 0.97276119 0.99440299 0.99477612 0.99421642 0.99458955 0.99458955\n",
            " 0.99458955 0.99496269 0.99235075 0.99402985 0.98824627 0.99421642\n",
            " 0.99421642 0.99402985 0.99253731 0.9891791  0.98787313 0.99328358\n",
            " 0.99477612 0.97462687 0.99458955 0.99440299 0.99328358 0.99421642\n",
            " 0.99477612 0.9744403  0.99365672 0.99048507 0.99402985 0.975\n",
            " 0.99533582 0.99365672 0.99402985 0.99440299 0.99496269 0.99328358\n",
            " 0.99421642 0.99421642 0.99384328]\n",
            "[ 6 31 25 35 22 16 21 33 14 20  4 28 41 23  5 37 32 44 19 15 38 34 18 42\n",
            " 17 29  9 43 27  7 39 10 11 12 26 30 24  8  2 13 40  3  1 36  0]\n",
            "Best score in generation 2 : 0.9960820895522388\n",
            "generation 3\n",
            "[0.99570896 0.99514925 0.99570896 0.99067164 0.99458955 0.99552239\n",
            " 0.99552239 0.99421642 0.99458955 0.99477612 0.99421642 0.99458955\n",
            " 0.99533582 0.99458955 0.99384328 0.99328358 0.99514925 0.97350746\n",
            " 0.99421642 0.99347015 0.99458955 0.99458955 0.99477612 0.99421642\n",
            " 0.97593284 0.99458955 0.99402985 0.99402985 0.97257463 0.98936567\n",
            " 0.99421642 0.97369403 0.99514925 0.99645522 0.99552239 0.99496269\n",
            " 0.99496269 0.99514925 0.98787313 0.99365672 0.99514925 0.99328358\n",
            " 0.99421642 0.99458955 0.99272388]\n",
            "[28 17 31 24 38 29  3 44 15 41 19 39 14 26 27 42 23  7 18 30 10 13 20 21\n",
            " 43 11 25  4  8 22  9 35 36 32 37 40  1 16 12 34  6  5  2  0 33]\n",
            "Best score in generation 3 : 0.996455223880597\n",
            "generation 4\n",
            "[0.99067164 0.99626866 0.99402985 0.99477612 0.97649254 0.99589552\n",
            " 0.99514925 0.99514925 0.99626866 0.99440299 0.99496269 0.99402985\n",
            " 0.99533582 0.99458955 0.99552239 0.99384328 0.99421642 0.99496269\n",
            " 0.99458955 0.99477612 0.99533582 0.99458955 0.99421642 0.99496269\n",
            " 0.99570896 0.99160448 0.98973881 0.99328358 0.99328358 0.96044776\n",
            " 0.99347015 0.99514925 0.99645522 0.99570896 0.99514925 0.99347015\n",
            " 0.9869403  0.99402985 0.99645522 0.99160448 0.9744403  0.99440299\n",
            " 0.9608209  0.99458955 0.99533582]\n",
            "[29 42 40  4 36 26  0 25 39 28 27 30 35 15 11  2 37 22 16 41  9 18 21 43\n",
            " 13 19  3 23 10 17  6  7 34 31 12 20 44 14 24 33  5  8  1 32 38]\n",
            "Best score in generation 4 : 0.996455223880597\n",
            "generation 5\n",
            "[0.99496269 0.99626866 0.99365672 0.99552239 0.99421642 0.99570896\n",
            " 0.99589552 0.9755597  0.99514925 0.99365672 0.99458955 0.99552239\n",
            " 0.97798507 0.99496269 0.99533582 0.99458955 0.99552239 0.97481343\n",
            " 0.99533582 0.99570896 0.99477612 0.99458955 0.97406716 0.99458955\n",
            " 0.99402985 0.99496269 0.99402985 0.99440299 0.99514925 0.99365672\n",
            " 0.99309701 0.99570896 0.96119403 0.99608209 0.99496269 0.99589552\n",
            " 0.99570896 0.99235075 0.99496269 0.99440299 0.99570896 0.99384328\n",
            " 0.99328358 0.97574627 0.99496269]\n",
            "[32 22 17  7 43 12 37 30 42  9 29  2 41 24 26  4 39 27 21 15 10 23 20 34\n",
            " 38  0 44 13 25 28  8 18 14 16  3 11 40  5 19 36 31  6 35 33  1]\n",
            "Best score in generation 5 : 0.996268656716418\n",
            "generation 6\n",
            "[0.99533582 0.99608209 0.99514925 0.99533582 0.99589552 0.99533582\n",
            " 0.99570896 0.99533582 0.99514925 0.99309701 0.99514925 0.99477612\n",
            " 0.9738806  0.99440299 0.99533582 0.99514925 0.99533582 0.99440299\n",
            " 0.99533582 0.99533582 0.99458955 0.99514925 0.97294776 0.99477612\n",
            " 0.99309701 0.99589552 0.9761194  0.99123134 0.99272388 0.99421642\n",
            " 0.99216418 0.99552239 0.99552239 0.99533582 0.99589552 0.96940299\n",
            " 0.98003731 0.99421642 0.99477612 0.99570896 0.99421642 0.99421642\n",
            " 0.99570896 0.99477612 0.99458955]\n",
            "[35 22 12 26 36 27 30 28  9 24 37 40 41 29 13 17 20 44 43 23 38 11  2 15\n",
            " 21 10  8 18  3  5 33  0  7 14 19 16 32 31  6 39 42 34  4 25  1]\n",
            "Best score in generation 6 : 0.9960820895522388\n",
            "generation 7\n",
            "[0.99570896 0.99552239 0.99347015 0.97705224 0.99570896 0.99626866\n",
            " 0.99608209 0.99608209 0.99533582 0.99458955 0.99608209 0.97910448\n",
            " 0.99514925 0.99552239 0.99552239 0.99514925 0.99496269 0.97798507\n",
            " 0.99384328 0.9744403  0.99533582 0.99514925 0.99384328 0.99533582\n",
            " 0.99477612 0.99496269 0.99477612 0.99645522 0.99458955 0.99477612\n",
            " 0.97798507 0.99458955 0.99570896 0.99533582 0.99589552 0.97835821\n",
            " 0.99608209 0.99570896 0.97817164 0.99589552 0.9755597  0.99552239\n",
            " 0.99347015 0.99458955 0.99496269]\n",
            "[19 40  3 17 30 38 35 11 42  2 22 18 28 43 31  9 26 24 29 25 44 16 21 15\n",
            " 12 23  8 20 33 14 13  1 41  4 37 32  0 34 39 36  7 10  6  5 27]\n",
            "Best score in generation 7 : 0.996455223880597\n",
            "generation 8\n",
            "[0.99179104 0.99645522 0.99589552 0.99589552 0.99552239 0.97985075\n",
            " 0.99552239 0.9755597  0.99458955 0.99496269 0.99589552 0.99253731\n",
            " 0.99533582 0.99104478 0.99402985 0.99458955 0.99514925 0.97686567\n",
            " 0.99552239 0.99608209 0.99552239 0.99440299 0.99496269 0.95410448\n",
            " 0.97574627 0.99570896 0.99533582 0.99365672 0.99253731 0.99011194\n",
            " 0.99552239 0.99533582 0.99421642 0.99477612 0.99589552 0.99440299\n",
            " 0.99421642 0.99570896 0.97910448 0.99552239 0.99477612 0.99552239\n",
            " 0.99514925 0.99402985 0.99477612]\n",
            "[23  7 24 17 38  5 29 13  0 11 28 27 43 14 32 36 35 21 15  8 33 40 44 22\n",
            "  9 42 16 26 12 31 41 39  4  6 30 18 20 37 25 34  3  2 10 19  1]\n",
            "Best score in generation 8 : 0.996455223880597\n",
            "generation 9\n",
            "[0.97481343 0.99402985 0.99533582 0.99570896 0.99384328 0.99608209\n",
            " 0.99552239 0.99589552 0.99552239 0.99477612 0.99141791 0.99253731\n",
            " 0.99570896 0.99197761 0.99589552 0.99552239 0.99589552 0.99552239\n",
            " 0.99608209 0.99347015 0.99477612 0.99496269 0.99477612 0.99365672\n",
            " 0.99496269 0.99291045 0.99496269 0.99291045 0.99402985 0.95652985\n",
            " 0.99514925 0.99570896 0.99291045 0.99123134 0.99552239 0.99514925\n",
            " 0.99067164 0.99570896 0.99533582 0.99514925 0.99514925 0.99197761\n",
            " 0.97593284 0.99552239 0.99496269]\n",
            "[29  0 42 36 33 10 41 13 11 32 27 25 19 23  4 28  1 20 22  9 44 21 24 26\n",
            " 40 39 35 30  2 38 34  6 17  8 15 43 12 37  3 31 14 16  7 18  5]\n",
            "Best score in generation 9 : 0.9960820895522388\n",
            "generation 10\n",
            "[0.99664179 0.99608209 0.99552239 0.99514925 0.99365672 0.99496269\n",
            " 0.99496269 0.99048507 0.99570896 0.99402985 0.99552239 0.99608209\n",
            " 0.99514925 0.99589552 0.99533582 0.99570896 0.99514925 0.99496269\n",
            " 0.99552239 0.99570896 0.99477612 0.97985075 0.99123134 0.99328358\n",
            " 0.99458955 0.99533582 0.99496269 0.99458955 0.97593284 0.99067164\n",
            " 0.99533582 0.99365672 0.95970149 0.99085821 0.99309701 0.99570896\n",
            " 0.99533582 0.99384328 0.99589552 0.99440299 0.97929104 0.99440299\n",
            " 0.99589552 0.99458955 0.99477612]\n",
            "[32 28 40 21  7 29 33 22 34 23  4 31 37  9 41 39 27 24 43 20 44 17 26  5\n",
            "  6 16  3 12 25 14 30 36 18  2 10 35 19 15  8 38 13 42 11  1  0]\n",
            "Best score in generation 10 : 0.9966417910447761\n",
            "generation 11\n",
            "[0.99626866 0.99589552 0.99328358 0.99552239 0.99477612 0.99458955\n",
            " 0.99440299 0.99309701 0.99384328 0.99608209 0.99477612 0.99458955\n",
            " 0.99514925 0.99365672 0.99552239 0.99570896 0.99253731 0.99533582\n",
            " 0.99608209 0.99458955 0.99477612 0.99570896 0.99347015 0.9886194\n",
            " 0.99179104 0.99496269 0.99365672 0.97350746 0.97761194 0.99440299\n",
            " 0.99272388 0.99514925 0.97817164 0.98059701 0.99197761 0.99440299\n",
            " 0.99533582 0.99496269 0.99626866 0.99309701 0.99458955 0.99514925\n",
            " 0.99570896 0.99085821 0.99496269]\n",
            "[27 28 32 33 23 43 24 34 16 30 39  7  2 22 26 13  8 35 29  6 11 19  5 40\n",
            " 10 20  4 37 44 25 31 12 41 17 36 14  3 21 15 42  1 18  9 38  0]\n",
            "Best score in generation 11 : 0.996268656716418\n",
            "generation 12\n",
            "[0.99477612 0.99626866 0.99626866 0.99589552 0.99552239 0.99514925\n",
            " 0.99626866 0.99179104 0.99384328 0.99570896 0.99533582 0.99552239\n",
            " 0.99552239 0.99589552 0.99533582 0.99477612 0.97406716 0.99552239\n",
            " 0.99589552 0.99514925 0.99626866 0.99514925 0.99458955 0.99477612\n",
            " 0.99197761 0.99477612 0.99123134 0.99533582 0.99365672 0.99347015\n",
            " 0.97835821 0.9880597  0.99608209 0.99608209 0.99626866 0.99589552\n",
            " 0.99477612 0.99589552 0.99384328 0.99533582 0.99514925 0.97798507\n",
            " 0.96026119 0.99533582 0.95074627]\n",
            "[44 42 16 41 30 31 26  7 24 29 28 38  8 22  0 15 36 23 25 40 19  5 21 39\n",
            " 27 10 14 43 12 17  4 11  9  3 37 18 35 13 33 32 20  2  1 34  6]\n",
            "Best score in generation 12 : 0.996268656716418\n",
            "generation 13\n",
            "[0.99589552 0.99608209 0.99608209 0.98059701 0.99589552 0.99608209\n",
            " 0.99608209 0.99477612 0.97723881 0.99589552 0.99272388 0.99570896\n",
            " 0.99458955 0.97817164 0.99291045 0.99570896 0.99440299 0.99552239\n",
            " 0.99477612 0.97537313 0.99552239 0.99552239 0.99402985 0.99477612\n",
            " 0.99011194 0.99496269 0.99533582 0.99197761 0.99514925 0.99570896\n",
            " 0.99645522 0.99608209 0.99570896 0.99309701 0.99384328 0.99589552\n",
            " 0.97835821 0.97910448 0.99365672 0.99533582 0.98992537 0.99514925\n",
            " 0.99477612 0.99533582 0.99496269]\n",
            "[19  8 13 36 37  3 40 24 27 10 14 33 38 34 22 16 12  7 18 42 23 25 44 41\n",
            " 28 26 39 43 21 20 17 32 11 29 15  9 35  4  0  6  5  2  1 31 30]\n",
            "Best score in generation 13 : 0.996455223880597\n",
            "generation 14\n",
            "[0.99645522 0.99570896 0.99570896 0.99533582 0.99552239 0.99402985\n",
            " 0.99533582 0.99421642 0.99645522 0.99570896 0.99626866 0.97593284\n",
            " 0.99608209 0.99496269 0.99533582 0.99477612 0.99085821 0.99514925\n",
            " 0.99496269 0.99365672 0.99160448 0.9761194  0.99514925 0.97481343\n",
            " 0.99645522 0.99440299 0.99533582 0.99533582 0.99477612 0.98973881\n",
            " 0.99608209 0.99552239 0.99477612 0.99533582 0.99552239 0.99514925\n",
            " 0.99589552 0.99570896 0.99514925 0.99402985 0.99291045 0.99514925\n",
            " 0.99626866 0.99496269 0.99347015]\n",
            "[23 11 21 29 16 20 40 44 19  5 39  7 25 32 15 28 13 43 18 35 38 41 22 17\n",
            " 14  3  6 33 26 27 31 34  4  9 37  1  2 36 30 12 42 10  8 24  0]\n",
            "Best score in generation 14 : 0.996455223880597\n",
            "generation 15\n",
            "[0.99235075 0.99570896 0.97742537 0.99589552 0.99552239 0.99570896\n",
            " 0.99235075 0.99589552 0.99552239 0.99533582 0.99533582 0.99533582\n",
            " 0.99589552 0.99570896 0.9766791  0.99496269 0.99514925 0.99570896\n",
            " 0.99570896 0.98843284 0.99552239 0.99533582 0.99272388 0.99347015\n",
            " 0.99141791 0.99626866 0.99402985 0.99514925 0.99514925 0.99552239\n",
            " 0.99645522 0.99552239 0.99645522 0.99514925 0.99496269 0.99533582\n",
            " 0.99589552 0.97481343 0.99552239 0.99253731 0.99514925 0.99477612\n",
            " 0.95671642 0.99589552 0.99048507]\n",
            "[42 37 14  2 19 44 24  0  6 39 22 23 26 41 15 34 28 16 40 33 27 11  9 21\n",
            " 35 10 38 31 29  8  4 20  5 18 17  1 13  7 43 36  3 12 25 30 32]\n",
            "Best score in generation 15 : 0.996455223880597\n",
            "generation 16\n",
            "[0.99608209 0.99552239 0.99626866 0.99328358 0.99533582 0.99552239\n",
            " 0.99365672 0.97742537 0.97891791 0.99477612 0.99496269 0.99496269\n",
            " 0.97929104 0.99421642 0.99514925 0.99570896 0.99533582 0.99589552\n",
            " 0.99589552 0.99552239 0.99347015 0.99552239 0.99496269 0.99347015\n",
            " 0.99570896 0.99552239 0.99589552 0.99552239 0.99533582 0.97574627\n",
            " 0.99458955 0.99589552 0.99608209 0.96940299 0.99570896 0.99272388\n",
            " 0.99477612 0.99309701 0.99347015 0.99570896 0.99365672 0.99533582\n",
            " 0.99440299 0.99477612 0.99496269]\n",
            "[33 29  7  8 12 35 37  3 20 38 23 40  6 13 42 30  9 43 36 22 44 10 11 14\n",
            " 41  4 28 16  5 19  1 21 27 25 34 24 39 15 26 17 18 31 32  0  2]\n",
            "Best score in generation 16 : 0.996268656716418\n",
            "generation 17\n",
            "[0.99552239 0.99402985 0.99626866 0.99589552 0.99608209 0.99552239\n",
            " 0.99365672 0.99514925 0.99589552 0.99496269 0.99570896 0.97294776\n",
            " 0.99514925 0.99477612 0.99589552 0.99421642 0.99272388 0.99048507\n",
            " 0.99291045 0.99552239 0.99552239 0.96902985 0.99533582 0.99552239\n",
            " 0.99067164 0.99514925 0.99496269 0.99477612 0.99552239 0.99309701\n",
            " 0.99533582 0.97910448 0.99570896 0.99570896 0.99589552 0.99496269\n",
            " 0.99570896 0.99552239 0.99533582 0.99011194 0.99533582 0.99477612\n",
            " 0.99533582 0.9880597  0.99402985]\n",
            "[21 11 31 43 39 17 24 16 18 29  6 44  1 15 27 13 41 35  9 26 12  7 25 30\n",
            " 38 40 42 22 28  5 37 23  0 19 20 33 10 32 36 34 14  8  3  4  2]\n",
            "Best score in generation 17 : 0.996268656716418\n",
            "generation 18\n",
            "[0.99626866 0.99552239 0.99570896 0.99552239 0.99533582 0.99552239\n",
            " 0.99608209 0.99570896 0.99645522 0.99589552 0.99328358 0.99589552\n",
            " 0.99589552 0.99514925 0.99533582 0.99645522 0.99570896 0.99552239\n",
            " 0.99458955 0.99496269 0.99552239 0.99533582 0.99552239 0.99552239\n",
            " 0.99533582 0.99067164 0.99533582 0.99626866 0.99440299 0.99421642\n",
            " 0.99552239 0.99496269 0.99533582 0.99626866 0.99570896 0.99253731\n",
            " 0.99645522 0.99608209 0.99608209 0.99384328 0.97929104 0.99458955\n",
            " 0.99589552 0.975      0.99402985]\n",
            "[43 40 25 35 10 39 44 29 28 41 18 31 19 13  4 26 14 24 32 21 30 23 22 17\n",
            "  1 20  5  3 16  2  7 34 42 12 11  9  6 37 38 33 27  0  8 15 36]\n",
            "Best score in generation 18 : 0.996455223880597\n",
            "generation 19\n",
            "[0.99626866 0.99402985 0.99216418 0.97985075 0.99514925 0.99626866\n",
            " 0.99589552 0.99626866 0.99589552 0.99514925 0.97835821 0.99570896\n",
            " 0.99589552 0.99533582 0.99440299 0.99533582 0.99402985 0.99514925\n",
            " 0.99347015 0.99645522 0.99626866 0.99458955 0.99514925 0.99589552\n",
            " 0.99626866 0.99570896 0.99309701 0.97369403 0.99253731 0.99514925\n",
            " 0.99626866 0.99514925 0.99570896 0.99589552 0.99608209 0.98097015\n",
            " 0.99552239 0.99589552 0.99608209 0.99589552 0.97779851 0.99253731\n",
            " 0.99533582 0.99496269 0.98041045]\n",
            "[27 40 10  3 44 35  2 41 28 26 18  1 16 14 21 43 31 29 22  4  9 17 42 15\n",
            " 13 36 25 11 32  8 37  6 33 39 12 23 34 38  5  7  0 24 20 30 19]\n",
            "Best score in generation 19 : 0.996455223880597\n",
            "generation 20\n",
            "[0.99626866 0.99645522 0.99608209 0.99570896 0.99664179 0.99552239\n",
            " 0.99589552 0.99533582 0.99645522 0.99589552 0.99552239 0.99570896\n",
            " 0.99589552 0.99514925 0.99272388 0.99309701 0.96044776 0.99552239\n",
            " 0.99365672 0.99570896 0.99570896 0.99440299 0.99458955 0.99440299\n",
            " 0.97294776 0.99570896 0.97462687 0.99533582 0.99533582 0.99496269\n",
            " 0.97947761 0.99608209 0.99608209 0.99477612 0.99552239 0.99570896\n",
            " 0.99347015 0.99608209 0.99440299 0.99496269 0.99608209 0.99328358\n",
            " 0.99179104 0.99496269 0.99570896]\n",
            "[16 24 26 30 42 14 15 41 36 18 38 23 21 22 33 29 43 39 13 28  7 27 10 34\n",
            " 17  5 35 44 20 19  3 25 11  9  6 12 31 37 40  2 32  0  8  1  4]\n",
            "Best score in generation 20 : 0.9966417910447761\n",
            "Best Chromosome: [ True False False False False  True  True False False  True  True  True\n",
            "  True False  True False  True  True  True False False False False  True\n",
            " False  True  True  True  True  True False False False False False False\n",
            " False  True  True  True False  True  True False False  True False False\n",
            "  True False False  True  True False False False False False False False]\n",
            "Best Score: 0.9966417910447761\n"
          ]
        }
      ]
    },
    {
      "cell_type": "code",
      "source": [
        "X_train_final = X_train_selected[:, best_chromo[-1]]\n",
        "X_test_final = X_test_selected[:, best_chromo[-1]]\n",
        "print(X_train_final.shape)"
      ],
      "metadata": {
        "colab": {
          "base_uri": "https://localhost:8080/"
        },
        "id": "LVDNO1dN3rBK",
        "outputId": "5b34cff8-28f8-426b-c2b1-e89b4175b1c2"
      },
      "id": "LVDNO1dN3rBK",
      "execution_count": 14,
      "outputs": [
        {
          "output_type": "stream",
          "name": "stdout",
          "text": [
            "(21440, 31)\n"
          ]
        }
      ]
    },
    {
      "cell_type": "code",
      "source": [
        "chromo = [False, False, True, False, False, True, True, True, False, True, True, True,\n",
        "          True, False, False, True, False, True, False, True, True, False, False, False,\n",
        "          False, True, True, True, True, True, True, True, True, False, False, False,\n",
        "          True, False, True, True, True, True, False, False, False, False, False, True,\n",
        "          True, False, False, False, False, True, False, True, True, False, False, True]\n",
        "\n",
        "X_train_final = X_train_selected[:, chromo]\n",
        "X_test_final = X_test_selected[:,chromo]\n",
        "print(X_train_final.shape)"
      ],
      "metadata": {
        "colab": {
          "base_uri": "https://localhost:8080/"
        },
        "id": "vP2jntCXbp5T",
        "outputId": "6956fdf1-4864-4f3f-bcf1-8bb445876e7b"
      },
      "id": "vP2jntCXbp5T",
      "execution_count": 13,
      "outputs": [
        {
          "output_type": "stream",
          "name": "stdout",
          "text": [
            "(21440, 31)\n"
          ]
        }
      ]
    },
    {
      "cell_type": "code",
      "source": [
        "random_forest = RandomForestClassifier(n_estimators=100, random_state=42)\n",
        "random_forest.fit(X_train_final,y_train)\n",
        "predictions = random_forest.predict(X_test_final)\n",
        "acc=accuracy_score(y_test,predictions)\n",
        "print(acc)"
      ],
      "metadata": {
        "colab": {
          "base_uri": "https://localhost:8080/"
        },
        "id": "qPry_Ey5_Lbr",
        "outputId": "59b46360-ca00-4b83-fff9-0eb83b811902"
      },
      "id": "qPry_Ey5_Lbr",
      "execution_count": 14,
      "outputs": [
        {
          "output_type": "stream",
          "name": "stdout",
          "text": [
            "0.9958955223880597\n"
          ]
        }
      ]
    },
    {
      "cell_type": "code",
      "source": [
        "from sklearn.model_selection import ParameterGrid\n",
        "def parameter_tuning(df, X_train, X_test, Y_train, Y_test):\n",
        "    # Define parameter grid\n",
        "    param_grid = {\n",
        "        'size': [50, 100, 200],  # Population size\n",
        "        'n_parents': [10, 20, 30],  # Number of parents\n",
        "        'mutation_rate': [0.1, 0.2, 0.3],  # Mutation rate\n",
        "        'n_gen': [10, 20, 30]  # Number of generations\n",
        "    }\n",
        "\n",
        "    # Initialize best parameters, best score, and best chromosome\n",
        "    best_params = None\n",
        "    best_score = -float('inf')\n",
        "    best_chromo = None\n",
        "\n",
        "    # Iterate over parameter grid\n",
        "    for params in ParameterGrid(param_grid):\n",
        "        size = params['size']\n",
        "        n_parents = params['n_parents']\n",
        "        mutation_rate = params['mutation_rate']\n",
        "        n_gen = params['n_gen']\n",
        "\n",
        "        # Run genetic algorithm with current parameters\n",
        "        best_chromo_gen, best_score_gen = generations(df, size, 50 , n_parents,\n",
        "                                                       mutation_rate, n_gen, X_train,\n",
        "                                                       X_test, Y_train, Y_test)\n",
        "\n",
        "        # Update best parameters if current score is higher\n",
        "        if best_score_gen[-1] > best_score:\n",
        "            best_params = params\n",
        "            best_score = best_score_gen[-1]\n",
        "            best_chromo = best_chromo_gen[-1]  # Get the best chromosome from the last generation\n",
        "\n",
        "        print(\"Best Chromosome:\", best_chromo)\n",
        "        print(\"Best Score:\", best_score)\n",
        "\n",
        "    return best_params, best_score, best_chromo\n",
        "\n",
        "# Run parameter tuning\n",
        "best_params, best_score, best_chromo = parameter_tuning(df, X_train_selected, X_test_selected, y_train, y_test)\n",
        "\n",
        "print(\"Best Parameters:\", best_params)\n",
        "print(\"Best Score:\", best_score)\n",
        "print(\"Best Chromosome:\", best_chromo)"
      ],
      "metadata": {
        "id": "uVSp1eo9sbEL",
        "colab": {
          "base_uri": "https://localhost:8080/",
          "height": 869
        },
        "outputId": "621bcb6f-924c-42a0-e3cb-65f2f730ae06"
      },
      "id": "uVSp1eo9sbEL",
      "execution_count": null,
      "outputs": [
        {
          "metadata": {
            "tags": null
          },
          "name": "stdout",
          "output_type": "stream",
          "text": [
            "generation 1\n",
            "Best score in generation 1 : 0.9958955223880597\n",
            "generation 2\n",
            "Best score in generation 2 : 0.9955223880597015\n",
            "generation 3\n",
            "Best score in generation 3 : 0.9960820895522388\n",
            "generation 4\n",
            "Best score in generation 4 : 0.996455223880597\n",
            "generation 5\n",
            "Best score in generation 5 : 0.9957089552238806\n",
            "generation 6\n",
            "Best score in generation 6 : 0.9955223880597015\n",
            "generation 7\n",
            "Best score in generation 7 : 0.9955223880597015\n",
            "generation 8\n",
            "Best score in generation 8 : 0.9955223880597015\n",
            "generation 9\n",
            "Best score in generation 9 : 0.9958955223880597\n",
            "generation 10\n",
            "Best score in generation 10 : 0.9958955223880597\n",
            "Best Chromosome: [False  True False  True  True  True False  True False  True  True False\n",
            " False  True False  True  True  True  True False  True  True  True  True\n",
            " False False  True False False  True  True  True  True False  True False\n",
            " False False  True  True False False False  True  True  True  True  True\n",
            " False  True]\n",
            "Best Score: 0.9958955223880597\n",
            "generation 1\n"
          ]
        },
        {
          "output_type": "error",
          "ename": "KeyboardInterrupt",
          "evalue": "",
          "traceback": [
            "\u001b[0;31m---------------------------------------------------------------------------\u001b[0m",
            "\u001b[0;31mKeyboardInterrupt\u001b[0m                         Traceback (most recent call last)",
            "\u001b[0;32m<ipython-input-19-50ab4ec2903a>\u001b[0m in \u001b[0;36m<cell line: 40>\u001b[0;34m()\u001b[0m\n\u001b[1;32m     38\u001b[0m \u001b[0;34m\u001b[0m\u001b[0m\n\u001b[1;32m     39\u001b[0m \u001b[0;31m# Run parameter tuning\u001b[0m\u001b[0;34m\u001b[0m\u001b[0;34m\u001b[0m\u001b[0m\n\u001b[0;32m---> 40\u001b[0;31m \u001b[0mbest_params\u001b[0m\u001b[0;34m,\u001b[0m \u001b[0mbest_score\u001b[0m\u001b[0;34m,\u001b[0m \u001b[0mbest_chromo\u001b[0m \u001b[0;34m=\u001b[0m \u001b[0mparameter_tuning\u001b[0m\u001b[0;34m(\u001b[0m\u001b[0mdf\u001b[0m\u001b[0;34m,\u001b[0m \u001b[0mX_train_selected\u001b[0m\u001b[0;34m,\u001b[0m \u001b[0mX_test_selected\u001b[0m\u001b[0;34m,\u001b[0m \u001b[0my_train\u001b[0m\u001b[0;34m,\u001b[0m \u001b[0my_test\u001b[0m\u001b[0;34m)\u001b[0m\u001b[0;34m\u001b[0m\u001b[0;34m\u001b[0m\u001b[0m\n\u001b[0m\u001b[1;32m     41\u001b[0m \u001b[0;34m\u001b[0m\u001b[0m\n\u001b[1;32m     42\u001b[0m \u001b[0mprint\u001b[0m\u001b[0;34m(\u001b[0m\u001b[0;34m\"Best Parameters:\"\u001b[0m\u001b[0;34m,\u001b[0m \u001b[0mbest_params\u001b[0m\u001b[0;34m)\u001b[0m\u001b[0;34m\u001b[0m\u001b[0;34m\u001b[0m\u001b[0m\n",
            "\u001b[0;32m<ipython-input-19-50ab4ec2903a>\u001b[0m in \u001b[0;36mparameter_tuning\u001b[0;34m(df, X_train, X_test, Y_train, Y_test)\u001b[0m\n\u001b[1;32m     22\u001b[0m \u001b[0;34m\u001b[0m\u001b[0m\n\u001b[1;32m     23\u001b[0m         \u001b[0;31m# Run genetic algorithm with current parameters\u001b[0m\u001b[0;34m\u001b[0m\u001b[0;34m\u001b[0m\u001b[0m\n\u001b[0;32m---> 24\u001b[0;31m         best_chromo_gen, best_score_gen = generations(df, size, 50 , n_parents,\n\u001b[0m\u001b[1;32m     25\u001b[0m                                                        \u001b[0mmutation_rate\u001b[0m\u001b[0;34m,\u001b[0m \u001b[0mn_gen\u001b[0m\u001b[0;34m,\u001b[0m \u001b[0mX_train\u001b[0m\u001b[0;34m,\u001b[0m\u001b[0;34m\u001b[0m\u001b[0;34m\u001b[0m\u001b[0m\n\u001b[1;32m     26\u001b[0m                                                        X_test, Y_train, Y_test)\n",
            "\u001b[0;32m<ipython-input-16-f07a837f8604>\u001b[0m in \u001b[0;36mgenerations\u001b[0;34m(df, size, n_feat, n_parents, mutation_rate, n_gen, X_train, X_test, y_train, y_test)\u001b[0m\n\u001b[1;32m    142\u001b[0m     \u001b[0;32mfor\u001b[0m \u001b[0mi\u001b[0m \u001b[0;32min\u001b[0m \u001b[0mrange\u001b[0m\u001b[0;34m(\u001b[0m\u001b[0mn_gen\u001b[0m\u001b[0;34m)\u001b[0m\u001b[0;34m:\u001b[0m\u001b[0;34m\u001b[0m\u001b[0;34m\u001b[0m\u001b[0m\n\u001b[1;32m    143\u001b[0m         \u001b[0mprint\u001b[0m\u001b[0;34m(\u001b[0m\u001b[0;34m\"generation \"\u001b[0m\u001b[0;34m+\u001b[0m\u001b[0mstr\u001b[0m\u001b[0;34m(\u001b[0m\u001b[0mi\u001b[0m\u001b[0;34m+\u001b[0m\u001b[0;36m1\u001b[0m\u001b[0;34m)\u001b[0m\u001b[0;34m)\u001b[0m\u001b[0;34m\u001b[0m\u001b[0;34m\u001b[0m\u001b[0m\n\u001b[0;32m--> 144\u001b[0;31m         \u001b[0mscores\u001b[0m\u001b[0;34m,\u001b[0m \u001b[0mpop_after_fit\u001b[0m \u001b[0;34m=\u001b[0m \u001b[0mfitness_score\u001b[0m\u001b[0;34m(\u001b[0m\u001b[0mpopulation_nextgen\u001b[0m\u001b[0;34m,\u001b[0m\u001b[0mrandom_forest\u001b[0m\u001b[0;34m,\u001b[0m \u001b[0mX_train\u001b[0m\u001b[0;34m,\u001b[0m \u001b[0my_train\u001b[0m\u001b[0;34m,\u001b[0m \u001b[0mX_test\u001b[0m\u001b[0;34m,\u001b[0m \u001b[0my_test\u001b[0m\u001b[0;34m)\u001b[0m\u001b[0;34m\u001b[0m\u001b[0;34m\u001b[0m\u001b[0m\n\u001b[0m\u001b[1;32m    145\u001b[0m         \u001b[0mprint\u001b[0m\u001b[0;34m(\u001b[0m\u001b[0;34m'Best score in generation'\u001b[0m\u001b[0;34m,\u001b[0m \u001b[0mi\u001b[0m\u001b[0;34m+\u001b[0m\u001b[0;36m1\u001b[0m\u001b[0;34m,\u001b[0m \u001b[0;34m':'\u001b[0m\u001b[0;34m,\u001b[0m \u001b[0mscores\u001b[0m\u001b[0;34m[\u001b[0m\u001b[0;36m0\u001b[0m\u001b[0;34m]\u001b[0m\u001b[0;34m)\u001b[0m\u001b[0;34m\u001b[0m\u001b[0;34m\u001b[0m\u001b[0m\n\u001b[1;32m    146\u001b[0m         \u001b[0mpop_after_sel\u001b[0m \u001b[0;34m=\u001b[0m \u001b[0mselection\u001b[0m\u001b[0;34m(\u001b[0m\u001b[0mpop_after_fit\u001b[0m\u001b[0;34m,\u001b[0m \u001b[0mn_parents\u001b[0m\u001b[0;34m)\u001b[0m\u001b[0;34m\u001b[0m\u001b[0;34m\u001b[0m\u001b[0m\n",
            "\u001b[0;32m<ipython-input-16-f07a837f8604>\u001b[0m in \u001b[0;36mfitness_score\u001b[0;34m(population, model, X_train, y_train, X_test, y_test)\u001b[0m\n\u001b[1;32m     85\u001b[0m     \u001b[0mscores\u001b[0m \u001b[0;34m=\u001b[0m \u001b[0;34m[\u001b[0m\u001b[0;34m]\u001b[0m\u001b[0;34m\u001b[0m\u001b[0;34m\u001b[0m\u001b[0m\n\u001b[1;32m     86\u001b[0m     \u001b[0;32mfor\u001b[0m \u001b[0mchromosome\u001b[0m \u001b[0;32min\u001b[0m \u001b[0mpopulation\u001b[0m\u001b[0;34m:\u001b[0m\u001b[0;34m\u001b[0m\u001b[0;34m\u001b[0m\u001b[0m\n\u001b[0;32m---> 87\u001b[0;31m         \u001b[0mmodel\u001b[0m\u001b[0;34m.\u001b[0m\u001b[0mfit\u001b[0m\u001b[0;34m(\u001b[0m\u001b[0mX_train\u001b[0m\u001b[0;34m[\u001b[0m\u001b[0;34m:\u001b[0m\u001b[0;34m,\u001b[0m\u001b[0mchromosome\u001b[0m\u001b[0;34m]\u001b[0m\u001b[0;34m,\u001b[0m\u001b[0my_train\u001b[0m\u001b[0;34m)\u001b[0m\u001b[0;34m\u001b[0m\u001b[0;34m\u001b[0m\u001b[0m\n\u001b[0m\u001b[1;32m     88\u001b[0m         \u001b[0mpredictions\u001b[0m \u001b[0;34m=\u001b[0m \u001b[0mmodel\u001b[0m\u001b[0;34m.\u001b[0m\u001b[0mpredict\u001b[0m\u001b[0;34m(\u001b[0m\u001b[0mX_test\u001b[0m\u001b[0;34m[\u001b[0m\u001b[0;34m:\u001b[0m\u001b[0;34m,\u001b[0m\u001b[0mchromosome\u001b[0m\u001b[0;34m]\u001b[0m\u001b[0;34m)\u001b[0m\u001b[0;34m\u001b[0m\u001b[0;34m\u001b[0m\u001b[0m\n\u001b[1;32m     89\u001b[0m         \u001b[0mscores\u001b[0m\u001b[0;34m.\u001b[0m\u001b[0mappend\u001b[0m\u001b[0;34m(\u001b[0m\u001b[0maccuracy_score\u001b[0m\u001b[0;34m(\u001b[0m\u001b[0my_test\u001b[0m\u001b[0;34m,\u001b[0m\u001b[0mpredictions\u001b[0m\u001b[0;34m)\u001b[0m\u001b[0;34m)\u001b[0m\u001b[0;34m\u001b[0m\u001b[0;34m\u001b[0m\u001b[0m\n",
            "\u001b[0;32m/usr/local/lib/python3.10/dist-packages/sklearn/ensemble/_forest.py\u001b[0m in \u001b[0;36mfit\u001b[0;34m(self, X, y, sample_weight)\u001b[0m\n\u001b[1;32m    471\u001b[0m             \u001b[0;31m# parallel_backend contexts set at a higher level,\u001b[0m\u001b[0;34m\u001b[0m\u001b[0;34m\u001b[0m\u001b[0m\n\u001b[1;32m    472\u001b[0m             \u001b[0;31m# since correctness does not rely on using threads.\u001b[0m\u001b[0;34m\u001b[0m\u001b[0;34m\u001b[0m\u001b[0m\n\u001b[0;32m--> 473\u001b[0;31m             trees = Parallel(\n\u001b[0m\u001b[1;32m    474\u001b[0m                 \u001b[0mn_jobs\u001b[0m\u001b[0;34m=\u001b[0m\u001b[0mself\u001b[0m\u001b[0;34m.\u001b[0m\u001b[0mn_jobs\u001b[0m\u001b[0;34m,\u001b[0m\u001b[0;34m\u001b[0m\u001b[0;34m\u001b[0m\u001b[0m\n\u001b[1;32m    475\u001b[0m                 \u001b[0mverbose\u001b[0m\u001b[0;34m=\u001b[0m\u001b[0mself\u001b[0m\u001b[0;34m.\u001b[0m\u001b[0mverbose\u001b[0m\u001b[0;34m,\u001b[0m\u001b[0;34m\u001b[0m\u001b[0;34m\u001b[0m\u001b[0m\n",
            "\u001b[0;32m/usr/local/lib/python3.10/dist-packages/sklearn/utils/parallel.py\u001b[0m in \u001b[0;36m__call__\u001b[0;34m(self, iterable)\u001b[0m\n\u001b[1;32m     61\u001b[0m             \u001b[0;32mfor\u001b[0m \u001b[0mdelayed_func\u001b[0m\u001b[0;34m,\u001b[0m \u001b[0margs\u001b[0m\u001b[0;34m,\u001b[0m \u001b[0mkwargs\u001b[0m \u001b[0;32min\u001b[0m \u001b[0miterable\u001b[0m\u001b[0;34m\u001b[0m\u001b[0;34m\u001b[0m\u001b[0m\n\u001b[1;32m     62\u001b[0m         )\n\u001b[0;32m---> 63\u001b[0;31m         \u001b[0;32mreturn\u001b[0m \u001b[0msuper\u001b[0m\u001b[0;34m(\u001b[0m\u001b[0;34m)\u001b[0m\u001b[0;34m.\u001b[0m\u001b[0m__call__\u001b[0m\u001b[0;34m(\u001b[0m\u001b[0miterable_with_config\u001b[0m\u001b[0;34m)\u001b[0m\u001b[0;34m\u001b[0m\u001b[0;34m\u001b[0m\u001b[0m\n\u001b[0m\u001b[1;32m     64\u001b[0m \u001b[0;34m\u001b[0m\u001b[0m\n\u001b[1;32m     65\u001b[0m \u001b[0;34m\u001b[0m\u001b[0m\n",
            "\u001b[0;32m/usr/local/lib/python3.10/dist-packages/joblib/parallel.py\u001b[0m in \u001b[0;36m__call__\u001b[0;34m(self, iterable)\u001b[0m\n\u001b[1;32m   1916\u001b[0m             \u001b[0moutput\u001b[0m \u001b[0;34m=\u001b[0m \u001b[0mself\u001b[0m\u001b[0;34m.\u001b[0m\u001b[0m_get_sequential_output\u001b[0m\u001b[0;34m(\u001b[0m\u001b[0miterable\u001b[0m\u001b[0;34m)\u001b[0m\u001b[0;34m\u001b[0m\u001b[0;34m\u001b[0m\u001b[0m\n\u001b[1;32m   1917\u001b[0m             \u001b[0mnext\u001b[0m\u001b[0;34m(\u001b[0m\u001b[0moutput\u001b[0m\u001b[0;34m)\u001b[0m\u001b[0;34m\u001b[0m\u001b[0;34m\u001b[0m\u001b[0m\n\u001b[0;32m-> 1918\u001b[0;31m             \u001b[0;32mreturn\u001b[0m \u001b[0moutput\u001b[0m \u001b[0;32mif\u001b[0m \u001b[0mself\u001b[0m\u001b[0;34m.\u001b[0m\u001b[0mreturn_generator\u001b[0m \u001b[0;32melse\u001b[0m \u001b[0mlist\u001b[0m\u001b[0;34m(\u001b[0m\u001b[0moutput\u001b[0m\u001b[0;34m)\u001b[0m\u001b[0;34m\u001b[0m\u001b[0;34m\u001b[0m\u001b[0m\n\u001b[0m\u001b[1;32m   1919\u001b[0m \u001b[0;34m\u001b[0m\u001b[0m\n\u001b[1;32m   1920\u001b[0m         \u001b[0;31m# Let's create an ID that uniquely identifies the current call. If the\u001b[0m\u001b[0;34m\u001b[0m\u001b[0;34m\u001b[0m\u001b[0m\n",
            "\u001b[0;32m/usr/local/lib/python3.10/dist-packages/joblib/parallel.py\u001b[0m in \u001b[0;36m_get_sequential_output\u001b[0;34m(self, iterable)\u001b[0m\n\u001b[1;32m   1845\u001b[0m                 \u001b[0mself\u001b[0m\u001b[0;34m.\u001b[0m\u001b[0mn_dispatched_batches\u001b[0m \u001b[0;34m+=\u001b[0m \u001b[0;36m1\u001b[0m\u001b[0;34m\u001b[0m\u001b[0;34m\u001b[0m\u001b[0m\n\u001b[1;32m   1846\u001b[0m                 \u001b[0mself\u001b[0m\u001b[0;34m.\u001b[0m\u001b[0mn_dispatched_tasks\u001b[0m \u001b[0;34m+=\u001b[0m \u001b[0;36m1\u001b[0m\u001b[0;34m\u001b[0m\u001b[0;34m\u001b[0m\u001b[0m\n\u001b[0;32m-> 1847\u001b[0;31m                 \u001b[0mres\u001b[0m \u001b[0;34m=\u001b[0m \u001b[0mfunc\u001b[0m\u001b[0;34m(\u001b[0m\u001b[0;34m*\u001b[0m\u001b[0margs\u001b[0m\u001b[0;34m,\u001b[0m \u001b[0;34m**\u001b[0m\u001b[0mkwargs\u001b[0m\u001b[0;34m)\u001b[0m\u001b[0;34m\u001b[0m\u001b[0;34m\u001b[0m\u001b[0m\n\u001b[0m\u001b[1;32m   1848\u001b[0m                 \u001b[0mself\u001b[0m\u001b[0;34m.\u001b[0m\u001b[0mn_completed_tasks\u001b[0m \u001b[0;34m+=\u001b[0m \u001b[0;36m1\u001b[0m\u001b[0;34m\u001b[0m\u001b[0;34m\u001b[0m\u001b[0m\n\u001b[1;32m   1849\u001b[0m                 \u001b[0mself\u001b[0m\u001b[0;34m.\u001b[0m\u001b[0mprint_progress\u001b[0m\u001b[0;34m(\u001b[0m\u001b[0;34m)\u001b[0m\u001b[0;34m\u001b[0m\u001b[0;34m\u001b[0m\u001b[0m\n",
            "\u001b[0;32m/usr/local/lib/python3.10/dist-packages/sklearn/utils/parallel.py\u001b[0m in \u001b[0;36m__call__\u001b[0;34m(self, *args, **kwargs)\u001b[0m\n\u001b[1;32m    121\u001b[0m             \u001b[0mconfig\u001b[0m \u001b[0;34m=\u001b[0m \u001b[0;34m{\u001b[0m\u001b[0;34m}\u001b[0m\u001b[0;34m\u001b[0m\u001b[0;34m\u001b[0m\u001b[0m\n\u001b[1;32m    122\u001b[0m         \u001b[0;32mwith\u001b[0m \u001b[0mconfig_context\u001b[0m\u001b[0;34m(\u001b[0m\u001b[0;34m**\u001b[0m\u001b[0mconfig\u001b[0m\u001b[0;34m)\u001b[0m\u001b[0;34m:\u001b[0m\u001b[0;34m\u001b[0m\u001b[0;34m\u001b[0m\u001b[0m\n\u001b[0;32m--> 123\u001b[0;31m             \u001b[0;32mreturn\u001b[0m \u001b[0mself\u001b[0m\u001b[0;34m.\u001b[0m\u001b[0mfunction\u001b[0m\u001b[0;34m(\u001b[0m\u001b[0;34m*\u001b[0m\u001b[0margs\u001b[0m\u001b[0;34m,\u001b[0m \u001b[0;34m**\u001b[0m\u001b[0mkwargs\u001b[0m\u001b[0;34m)\u001b[0m\u001b[0;34m\u001b[0m\u001b[0;34m\u001b[0m\u001b[0m\n\u001b[0m",
            "\u001b[0;32m/usr/local/lib/python3.10/dist-packages/sklearn/ensemble/_forest.py\u001b[0m in \u001b[0;36m_parallel_build_trees\u001b[0;34m(tree, bootstrap, X, y, sample_weight, tree_idx, n_trees, verbose, class_weight, n_samples_bootstrap)\u001b[0m\n\u001b[1;32m    182\u001b[0m             \u001b[0mcurr_sample_weight\u001b[0m \u001b[0;34m*=\u001b[0m \u001b[0mcompute_sample_weight\u001b[0m\u001b[0;34m(\u001b[0m\u001b[0;34m\"balanced\"\u001b[0m\u001b[0;34m,\u001b[0m \u001b[0my\u001b[0m\u001b[0;34m,\u001b[0m \u001b[0mindices\u001b[0m\u001b[0;34m=\u001b[0m\u001b[0mindices\u001b[0m\u001b[0;34m)\u001b[0m\u001b[0;34m\u001b[0m\u001b[0;34m\u001b[0m\u001b[0m\n\u001b[1;32m    183\u001b[0m \u001b[0;34m\u001b[0m\u001b[0m\n\u001b[0;32m--> 184\u001b[0;31m         \u001b[0mtree\u001b[0m\u001b[0;34m.\u001b[0m\u001b[0mfit\u001b[0m\u001b[0;34m(\u001b[0m\u001b[0mX\u001b[0m\u001b[0;34m,\u001b[0m \u001b[0my\u001b[0m\u001b[0;34m,\u001b[0m \u001b[0msample_weight\u001b[0m\u001b[0;34m=\u001b[0m\u001b[0mcurr_sample_weight\u001b[0m\u001b[0;34m,\u001b[0m \u001b[0mcheck_input\u001b[0m\u001b[0;34m=\u001b[0m\u001b[0;32mFalse\u001b[0m\u001b[0;34m)\u001b[0m\u001b[0;34m\u001b[0m\u001b[0;34m\u001b[0m\u001b[0m\n\u001b[0m\u001b[1;32m    185\u001b[0m     \u001b[0;32melse\u001b[0m\u001b[0;34m:\u001b[0m\u001b[0;34m\u001b[0m\u001b[0;34m\u001b[0m\u001b[0m\n\u001b[1;32m    186\u001b[0m         \u001b[0mtree\u001b[0m\u001b[0;34m.\u001b[0m\u001b[0mfit\u001b[0m\u001b[0;34m(\u001b[0m\u001b[0mX\u001b[0m\u001b[0;34m,\u001b[0m \u001b[0my\u001b[0m\u001b[0;34m,\u001b[0m \u001b[0msample_weight\u001b[0m\u001b[0;34m=\u001b[0m\u001b[0msample_weight\u001b[0m\u001b[0;34m,\u001b[0m \u001b[0mcheck_input\u001b[0m\u001b[0;34m=\u001b[0m\u001b[0;32mFalse\u001b[0m\u001b[0;34m)\u001b[0m\u001b[0;34m\u001b[0m\u001b[0;34m\u001b[0m\u001b[0m\n",
            "\u001b[0;32m/usr/local/lib/python3.10/dist-packages/sklearn/tree/_classes.py\u001b[0m in \u001b[0;36mfit\u001b[0;34m(self, X, y, sample_weight, check_input)\u001b[0m\n\u001b[1;32m    887\u001b[0m         \"\"\"\n\u001b[1;32m    888\u001b[0m \u001b[0;34m\u001b[0m\u001b[0m\n\u001b[0;32m--> 889\u001b[0;31m         super().fit(\n\u001b[0m\u001b[1;32m    890\u001b[0m             \u001b[0mX\u001b[0m\u001b[0;34m,\u001b[0m\u001b[0;34m\u001b[0m\u001b[0;34m\u001b[0m\u001b[0m\n\u001b[1;32m    891\u001b[0m             \u001b[0my\u001b[0m\u001b[0;34m,\u001b[0m\u001b[0;34m\u001b[0m\u001b[0;34m\u001b[0m\u001b[0m\n",
            "\u001b[0;32m/usr/local/lib/python3.10/dist-packages/sklearn/tree/_classes.py\u001b[0m in \u001b[0;36mfit\u001b[0;34m(self, X, y, sample_weight, check_input)\u001b[0m\n\u001b[1;32m    377\u001b[0m             )\n\u001b[1;32m    378\u001b[0m \u001b[0;34m\u001b[0m\u001b[0m\n\u001b[0;32m--> 379\u001b[0;31m         \u001b[0mbuilder\u001b[0m\u001b[0;34m.\u001b[0m\u001b[0mbuild\u001b[0m\u001b[0;34m(\u001b[0m\u001b[0mself\u001b[0m\u001b[0;34m.\u001b[0m\u001b[0mtree_\u001b[0m\u001b[0;34m,\u001b[0m \u001b[0mX\u001b[0m\u001b[0;34m,\u001b[0m \u001b[0my\u001b[0m\u001b[0;34m,\u001b[0m \u001b[0msample_weight\u001b[0m\u001b[0;34m)\u001b[0m\u001b[0;34m\u001b[0m\u001b[0;34m\u001b[0m\u001b[0m\n\u001b[0m\u001b[1;32m    380\u001b[0m \u001b[0;34m\u001b[0m\u001b[0m\n\u001b[1;32m    381\u001b[0m         \u001b[0;32mif\u001b[0m \u001b[0mself\u001b[0m\u001b[0;34m.\u001b[0m\u001b[0mn_outputs_\u001b[0m \u001b[0;34m==\u001b[0m \u001b[0;36m1\u001b[0m \u001b[0;32mand\u001b[0m \u001b[0mis_classifier\u001b[0m\u001b[0;34m(\u001b[0m\u001b[0mself\u001b[0m\u001b[0;34m)\u001b[0m\u001b[0;34m:\u001b[0m\u001b[0;34m\u001b[0m\u001b[0;34m\u001b[0m\u001b[0m\n",
            "\u001b[0;31mKeyboardInterrupt\u001b[0m: "
          ]
        }
      ]
    },
    {
      "cell_type": "code",
      "execution_count": null,
      "id": "6144e09c",
      "metadata": {
        "id": "6144e09c",
        "outputId": "ba973fed-7209-4cde-b991-5f8dcd422275"
      },
      "outputs": [
        {
          "data": {
            "text/plain": [
              "(21440, 20)"
            ]
          },
          "execution_count": 14,
          "metadata": {},
          "output_type": "execute_result"
        }
      ],
      "source": [
        "X_train.shape"
      ]
    },
    {
      "cell_type": "code",
      "execution_count": null,
      "id": "603ff093",
      "metadata": {
        "id": "603ff093",
        "outputId": "4b58fed8-d9b4-4556-f209-093773fd887a"
      },
      "outputs": [
        {
          "data": {
            "text/plain": [
              "0    14580\n",
              "3     2433\n",
              "6     1744\n",
              "1     1573\n",
              "5     1004\n",
              "2       77\n",
              "4       29\n",
              "Name: count, dtype: int64"
            ]
          },
          "execution_count": 15,
          "metadata": {},
          "output_type": "execute_result"
        }
      ],
      "source": [
        "pd.Series(y_train).value_counts()"
      ]
    },
    {
      "cell_type": "markdown",
      "id": "22c1b160",
      "metadata": {
        "id": "22c1b160"
      },
      "source": [
        "# SMOTE to solve class-imbalance"
      ]
    },
    {
      "cell_type": "code",
      "execution_count": null,
      "id": "0498e70e",
      "metadata": {
        "id": "0498e70e"
      },
      "outputs": [],
      "source": [
        "from imblearn.over_sampling import SMOTE\n",
        "smote=SMOTE(n_jobs=-1,sampling_strategy={2:1000,4:1000})"
      ]
    },
    {
      "cell_type": "code",
      "execution_count": null,
      "id": "5cc75df1",
      "metadata": {
        "id": "5cc75df1"
      },
      "outputs": [],
      "source": [
        "X_train, y_train = smote.fit_resample(X_train, y_train)"
      ]
    },
    {
      "cell_type": "code",
      "execution_count": null,
      "id": "080c7ea4",
      "metadata": {
        "id": "080c7ea4",
        "outputId": "c557e9a5-9818-4d1a-c4fa-f03f95288248"
      },
      "outputs": [
        {
          "data": {
            "text/plain": [
              "0    14580\n",
              "3     2433\n",
              "6     1744\n",
              "1     1573\n",
              "5     1004\n",
              "4     1000\n",
              "2     1000\n",
              "Name: count, dtype: int64"
            ]
          },
          "execution_count": 18,
          "metadata": {},
          "output_type": "execute_result"
        }
      ],
      "source": [
        "pd.Series(y_train).value_counts()"
      ]
    },
    {
      "cell_type": "markdown",
      "id": "f290c682",
      "metadata": {
        "id": "f290c682"
      },
      "source": [
        "# Machine learning model training"
      ]
    },
    {
      "cell_type": "markdown",
      "source": [
        "Using ensemble model for classification"
      ],
      "metadata": {
        "id": "-fR22RrGYPTi"
      },
      "id": "-fR22RrGYPTi"
    },
    {
      "cell_type": "code",
      "source": [
        "pip install optuna"
      ],
      "metadata": {
        "colab": {
          "base_uri": "https://localhost:8080/"
        },
        "id": "obdbpKIekwol",
        "outputId": "5d691068-cd05-4b22-cbfc-a5ad152a40c8"
      },
      "id": "obdbpKIekwol",
      "execution_count": 20,
      "outputs": [
        {
          "output_type": "stream",
          "name": "stdout",
          "text": [
            "Collecting optuna\n",
            "  Downloading optuna-3.6.1-py3-none-any.whl (380 kB)\n",
            "\u001b[2K     \u001b[90m━━━━━━━━━━━━━━━━━━━━━━━━━━━━━━━━━━━━━━━━\u001b[0m \u001b[32m380.1/380.1 kB\u001b[0m \u001b[31m4.3 MB/s\u001b[0m eta \u001b[36m0:00:00\u001b[0m\n",
            "\u001b[?25hCollecting alembic>=1.5.0 (from optuna)\n",
            "  Downloading alembic-1.13.1-py3-none-any.whl (233 kB)\n",
            "\u001b[2K     \u001b[90m━━━━━━━━━━━━━━━━━━━━━━━━━━━━━━━━━━━━━━━━\u001b[0m \u001b[32m233.4/233.4 kB\u001b[0m \u001b[31m5.9 MB/s\u001b[0m eta \u001b[36m0:00:00\u001b[0m\n",
            "\u001b[?25hCollecting colorlog (from optuna)\n",
            "  Downloading colorlog-6.8.2-py3-none-any.whl (11 kB)\n",
            "Requirement already satisfied: numpy in /usr/local/lib/python3.10/dist-packages (from optuna) (1.25.2)\n",
            "Requirement already satisfied: packaging>=20.0 in /usr/local/lib/python3.10/dist-packages (from optuna) (24.0)\n",
            "Requirement already satisfied: sqlalchemy>=1.3.0 in /usr/local/lib/python3.10/dist-packages (from optuna) (2.0.30)\n",
            "Requirement already satisfied: tqdm in /usr/local/lib/python3.10/dist-packages (from optuna) (4.66.4)\n",
            "Requirement already satisfied: PyYAML in /usr/local/lib/python3.10/dist-packages (from optuna) (6.0.1)\n",
            "Collecting Mako (from alembic>=1.5.0->optuna)\n",
            "  Downloading Mako-1.3.3-py3-none-any.whl (78 kB)\n",
            "\u001b[2K     \u001b[90m━━━━━━━━━━━━━━━━━━━━━━━━━━━━━━━━━━━━━━━━\u001b[0m \u001b[32m78.8/78.8 kB\u001b[0m \u001b[31m7.2 MB/s\u001b[0m eta \u001b[36m0:00:00\u001b[0m\n",
            "\u001b[?25hRequirement already satisfied: typing-extensions>=4 in /usr/local/lib/python3.10/dist-packages (from alembic>=1.5.0->optuna) (4.11.0)\n",
            "Requirement already satisfied: greenlet!=0.4.17 in /usr/local/lib/python3.10/dist-packages (from sqlalchemy>=1.3.0->optuna) (3.0.3)\n",
            "Requirement already satisfied: MarkupSafe>=0.9.2 in /usr/local/lib/python3.10/dist-packages (from Mako->alembic>=1.5.0->optuna) (2.1.5)\n",
            "Installing collected packages: Mako, colorlog, alembic, optuna\n",
            "Successfully installed Mako-1.3.3 alembic-1.13.1 colorlog-6.8.2 optuna-3.6.1\n"
          ]
        }
      ]
    },
    {
      "cell_type": "markdown",
      "id": "d08dcb37",
      "metadata": {
        "id": "d08dcb37"
      },
      "source": [
        "# Training four base learners: decision tree, random forest, extra trees, XGBoost"
      ]
    },
    {
      "cell_type": "markdown",
      "id": "94eee93a",
      "metadata": {
        "id": "94eee93a"
      },
      "source": [
        "## Apply XGBoost"
      ]
    },
    {
      "cell_type": "code",
      "source": [
        "xg = xgb.XGBClassifier(n_estimators = 10)\n",
        "xg.fit(X_train_final,y_train)\n",
        "xg_score=xg.score(X_test_final,y_test)\n",
        "y_predict=xg.predict(X_test_final)\n",
        "y_true=y_test\n",
        "print('Accuracy of XGBoost: '+ str(xg_score))\n",
        "precision,recall,fscore,none= precision_recall_fscore_support(y_true, y_predict, average='weighted')\n",
        "print('Precision of XGBoost: '+(str(precision)))\n",
        "print('Recall of XGBoost: '+(str(recall)))\n",
        "print('F1-score of XGBoost: '+(str(fscore)))\n",
        "print(classification_report(y_true,y_predict))\n",
        "cm=confusion_matrix(y_true,y_predict)\n",
        "f,ax=plt.subplots(figsize=(5,5))\n",
        "sns.heatmap(cm,annot=True,linewidth=0.5,linecolor=\"red\",fmt=\".0f\",ax=ax)\n",
        "plt.xlabel(\"y_pred\")\n",
        "plt.ylabel(\"y_true\")\n",
        "plt.show()"
      ],
      "metadata": {
        "id": "TJXjYCD13QJy",
        "colab": {
          "base_uri": "https://localhost:8080/",
          "height": 795
        },
        "outputId": "fad13bed-fa0b-4e9e-f7a2-28f997b2e10d"
      },
      "id": "TJXjYCD13QJy",
      "execution_count": 99,
      "outputs": [
        {
          "output_type": "stream",
          "name": "stdout",
          "text": [
            "Accuracy of XGBoost: 0.9914179104477612\n",
            "Precision of XGBoost: 0.991433496245321\n",
            "Recall of XGBoost: 0.9914179104477612\n",
            "F1-score of XGBoost: 0.9913132204060658\n",
            "              precision    recall  f1-score   support\n",
            "\n",
            "           0       0.99      1.00      0.99      3645\n",
            "           1       0.99      0.97      0.98       393\n",
            "           2       1.00      0.84      0.91        19\n",
            "           3       0.98      0.99      0.98       609\n",
            "           4       1.00      0.57      0.73         7\n",
            "           5       0.99      1.00      0.99       251\n",
            "           6       0.99      1.00      1.00       436\n",
            "\n",
            "    accuracy                           0.99      5360\n",
            "   macro avg       0.99      0.91      0.94      5360\n",
            "weighted avg       0.99      0.99      0.99      5360\n",
            "\n"
          ]
        },
        {
          "output_type": "display_data",
          "data": {
            "text/plain": [
              "<Figure size 500x500 with 2 Axes>"
            ],
            "image/png": "[encoded data removed]"
          },
          "metadata": {}
        }
      ]
    },
    {
      "cell_type": "markdown",
      "source": [
        "New"
      ],
      "metadata": {
        "id": "WXANQYFCjTdd"
      },
      "id": "WXANQYFCjTdd"
    },
    {
      "cell_type": "code",
      "source": [
        "xg = xgb.XGBClassifier(n_estimators = 10)\n",
        "xg.fit(X_train_final,y_train)\n",
        "xg_score=xg.score(X_test_final,y_test)\n",
        "y_predict=xg.predict(X_test_final)\n",
        "y_true=y_test\n",
        "print('Accuracy of XGBoost: '+ str(xg_score))\n",
        "precision,recall,fscore,none= precision_recall_fscore_support(y_true, y_predict, average='weighted')\n",
        "print('Precision of XGBoost: '+(str(precision)))\n",
        "print('Recall of XGBoost: '+(str(recall)))\n",
        "print('F1-score of XGBoost: '+(str(fscore)))\n",
        "print(classification_report(y_true,y_predict))\n",
        "cm=confusion_matrix(y_true,y_predict)\n",
        "f,ax=plt.subplots(figsize=(5,5))\n",
        "sns.heatmap(cm,annot=True,linewidth=0.5,linecolor=\"red\",fmt=\".0f\",ax=ax)\n",
        "plt.xlabel(\"y_pred\")\n",
        "plt.ylabel(\"y_true\")\n",
        "plt.show()"
      ],
      "metadata": {
        "colab": {
          "base_uri": "https://localhost:8080/",
          "height": 795
        },
        "id": "yev8ildXjRHS",
        "outputId": "e3abd76d-c69b-4096-9317-b39b3f8be1a4"
      },
      "id": "yev8ildXjRHS",
      "execution_count": 16,
      "outputs": [
        {
          "output_type": "stream",
          "name": "stdout",
          "text": [
            "Accuracy of XGBoost: 0.9940298507462687\n",
            "Precision of XGBoost: 0.9940325499970672\n",
            "Recall of XGBoost: 0.9940298507462687\n",
            "F1-score of XGBoost: 0.9939948093819071\n",
            "              precision    recall  f1-score   support\n",
            "\n",
            "           0       1.00      1.00      1.00      3645\n",
            "           1       0.99      0.98      0.98       393\n",
            "           2       1.00      1.00      1.00        19\n",
            "           3       0.99      0.99      0.99       609\n",
            "           4       1.00      0.71      0.83         7\n",
            "           5       0.99      1.00      0.99       251\n",
            "           6       0.99      1.00      1.00       436\n",
            "\n",
            "    accuracy                           0.99      5360\n",
            "   macro avg       0.99      0.95      0.97      5360\n",
            "weighted avg       0.99      0.99      0.99      5360\n",
            "\n"
          ]
        },
        {
          "output_type": "display_data",
          "data": {
            "text/plain": [
              "<Figure size 500x500 with 2 Axes>"
            ],
            "image/png": "[encoded data removed]"
          },
          "metadata": {}
        }
      ]
    },
    {
      "cell_type": "code",
      "source": [
        "xg = xgb.XGBClassifier(n_estimators = 10)\n",
        "xg.fit(X_train_final,y_train)\n",
        "xg_score=xg.score(X_test_final,y_test)\n",
        "y_predict=xg.predict(X_test_final)\n",
        "y_true=y_test\n",
        "print('Accuracy of XGBoost: '+ str(xg_score))\n",
        "precision,recall,fscore,none= precision_recall_fscore_support(y_true, y_predict, average='weighted')\n",
        "print('Precision of XGBoost: '+(str(precision)))\n",
        "print('Recall of XGBoost: '+(str(recall)))\n",
        "print('F1-score of XGBoost: '+(str(fscore)))\n",
        "print(classification_report(y_true,y_predict))\n",
        "cm=confusion_matrix(y_true,y_predict)\n",
        "f,ax=plt.subplots(figsize=(5,5))\n",
        "sns.heatmap(cm,annot=True,linewidth=0.5,linecolor=\"red\",fmt=\".0f\",ax=ax)\n",
        "plt.xlabel(\"y_pred\")\n",
        "plt.ylabel(\"y_true\")\n",
        "plt.show()"
      ],
      "metadata": {
        "colab": {
          "base_uri": "https://localhost:8080/",
          "height": 795
        },
        "id": "J3AkVCNfWUIi",
        "outputId": "55be3cce-34cb-4787-f6d9-9ca2db6ae14d"
      },
      "id": "J3AkVCNfWUIi",
      "execution_count": 23,
      "outputs": [
        {
          "output_type": "stream",
          "name": "stdout",
          "text": [
            "Accuracy of XGBoost: 0.991044776119403\n",
            "Precision of XGBoost: 0.9911226296263477\n",
            "Recall of XGBoost: 0.991044776119403\n",
            "F1-score of XGBoost: 0.9909178009537983\n",
            "              precision    recall  f1-score   support\n",
            "\n",
            "           0       1.00      0.99      0.99      3645\n",
            "           1       0.99      1.00      1.00       393\n",
            "           2       1.00      1.00      1.00        19\n",
            "           3       0.98      0.99      0.98       609\n",
            "           4       1.00      0.43      0.60         7\n",
            "           5       0.99      1.00      0.99       251\n",
            "           6       0.97      0.99      0.98       436\n",
            "\n",
            "    accuracy                           0.99      5360\n",
            "   macro avg       0.99      0.91      0.93      5360\n",
            "weighted avg       0.99      0.99      0.99      5360\n",
            "\n"
          ]
        },
        {
          "output_type": "display_data",
          "data": {
            "text/plain": [
              "<Figure size 500x500 with 2 Axes>"
            ],
            "image/png": "[encoded data removed]"
          },
          "metadata": {}
        }
      ]
    },
    {
      "cell_type": "markdown",
      "source": [],
      "metadata": {
        "id": "w5IGTzQ4YLBp"
      },
      "id": "w5IGTzQ4YLBp"
    },
    {
      "cell_type": "markdown",
      "id": "4e108709",
      "metadata": {
        "id": "4e108709"
      },
      "source": [
        "## Hyperband for Efficient Hyperparameter Optimization:\n"
      ]
    },
    {
      "cell_type": "markdown",
      "id": "663b808e",
      "metadata": {
        "id": "663b808e"
      },
      "source": [
        "Hyperband is a novel method for hyperparameter optimization that combines random sampling and elimination to quickly identify promising configurations and allocate more resources to them."
      ]
    },
    {
      "cell_type": "code",
      "execution_count": 17,
      "id": "037a049e",
      "metadata": {
        "id": "037a049e",
        "outputId": "282205a6-2d15-42d3-c527-2d0c54a02468",
        "colab": {
          "base_uri": "https://localhost:8080/"
        }
      },
      "outputs": [
        {
          "output_type": "stream",
          "name": "stdout",
          "text": [
            "Collecting optuna\n",
            "  Downloading optuna-3.6.1-py3-none-any.whl (380 kB)\n",
            "\u001b[2K     \u001b[90m━━━━━━━━━━━━━━━━━━━━━━━━━━━━━━━━━━━━━━━━\u001b[0m \u001b[32m380.1/380.1 kB\u001b[0m \u001b[31m2.8 MB/s\u001b[0m eta \u001b[36m0:00:00\u001b[0m\n",
            "\u001b[?25hCollecting alembic>=1.5.0 (from optuna)\n",
            "  Downloading alembic-1.13.1-py3-none-any.whl (233 kB)\n",
            "\u001b[2K     \u001b[90m━━━━━━━━━━━━━━━━━━━━━━━━━━━━━━━━━━━━━━━━\u001b[0m \u001b[32m233.4/233.4 kB\u001b[0m \u001b[31m17.6 MB/s\u001b[0m eta \u001b[36m0:00:00\u001b[0m\n",
            "\u001b[?25hCollecting colorlog (from optuna)\n",
            "  Downloading colorlog-6.8.2-py3-none-any.whl (11 kB)\n",
            "Requirement already satisfied: numpy in /usr/local/lib/python3.10/dist-packages (from optuna) (1.25.2)\n",
            "Requirement already satisfied: packaging>=20.0 in /usr/local/lib/python3.10/dist-packages (from optuna) (24.0)\n",
            "Requirement already satisfied: sqlalchemy>=1.3.0 in /usr/local/lib/python3.10/dist-packages (from optuna) (2.0.30)\n",
            "Requirement already satisfied: tqdm in /usr/local/lib/python3.10/dist-packages (from optuna) (4.66.4)\n",
            "Requirement already satisfied: PyYAML in /usr/local/lib/python3.10/dist-packages (from optuna) (6.0.1)\n",
            "Collecting Mako (from alembic>=1.5.0->optuna)\n",
            "  Downloading Mako-1.3.3-py3-none-any.whl (78 kB)\n",
            "\u001b[2K     \u001b[90m━━━━━━━━━━━━━━━━━━━━━━━━━━━━━━━━━━━━━━━━\u001b[0m \u001b[32m78.8/78.8 kB\u001b[0m \u001b[31m10.1 MB/s\u001b[0m eta \u001b[36m0:00:00\u001b[0m\n",
            "\u001b[?25hRequirement already satisfied: typing-extensions>=4 in /usr/local/lib/python3.10/dist-packages (from alembic>=1.5.0->optuna) (4.11.0)\n",
            "Requirement already satisfied: greenlet!=0.4.17 in /usr/local/lib/python3.10/dist-packages (from sqlalchemy>=1.3.0->optuna) (3.0.3)\n",
            "Requirement already satisfied: MarkupSafe>=0.9.2 in /usr/local/lib/python3.10/dist-packages (from Mako->alembic>=1.5.0->optuna) (2.1.5)\n",
            "Installing collected packages: Mako, colorlog, alembic, optuna\n",
            "Successfully installed Mako-1.3.3 alembic-1.13.1 colorlog-6.8.2 optuna-3.6.1\n"
          ]
        }
      ],
      "source": [
        "pip install optuna"
      ]
    },
    {
      "cell_type": "markdown",
      "id": "cf319efc",
      "metadata": {
        "id": "cf319efc"
      },
      "source": [
        "## Apply RF"
      ]
    },
    {
      "cell_type": "code",
      "source": [
        "rf = RandomForestClassifier(random_state = 0)\n",
        "rf.fit(X_train_final,y_train)\n",
        "rf_score=rf.score(X_test_final,y_test)\n",
        "y_predict=rf.predict(X_test_final)\n",
        "y_true=y_test\n",
        "print('Accuracy of RF: '+ str(rf_score))\n",
        "precision,recall,fscore,none= precision_recall_fscore_support(y_true, y_predict, average='weighted')\n",
        "print('Precision of RF: '+(str(precision)))\n",
        "print('Recall of RF: '+(str(recall)))\n",
        "print('F1-score of RF: '+(str(fscore)))\n",
        "print(classification_report(y_true,y_predict))\n",
        "cm=confusion_matrix(y_true,y_predict)\n",
        "f,ax=plt.subplots(figsize=(5,5))\n",
        "sns.heatmap(cm,annot=True,linewidth=0.5,linecolor=\"red\",fmt=\".0f\",ax=ax)\n",
        "plt.xlabel(\"y_pred\")\n",
        "plt.ylabel(\"y_true\")\n",
        "plt.show()"
      ],
      "metadata": {
        "colab": {
          "base_uri": "https://localhost:8080/",
          "height": 795
        },
        "id": "xE1d3OZKMQjR",
        "outputId": "b264e004-1ed0-4456-f531-c570bb33a704"
      },
      "id": "xE1d3OZKMQjR",
      "execution_count": 15,
      "outputs": [
        {
          "output_type": "stream",
          "name": "stdout",
          "text": [
            "Accuracy of RF: 0.9958955223880597\n",
            "Precision of RF: 0.995905600456217\n",
            "Recall of RF: 0.9958955223880597\n",
            "F1-score of RF: 0.9958667158915585\n",
            "              precision    recall  f1-score   support\n",
            "\n",
            "           0       1.00      1.00      1.00      3645\n",
            "           1       0.99      1.00      0.99       393\n",
            "           2       1.00      1.00      1.00        19\n",
            "           3       0.99      0.99      0.99       609\n",
            "           4       1.00      0.71      0.83         7\n",
            "           5       0.99      1.00      0.99       251\n",
            "           6       1.00      0.99      1.00       436\n",
            "\n",
            "    accuracy                           1.00      5360\n",
            "   macro avg       1.00      0.96      0.97      5360\n",
            "weighted avg       1.00      1.00      1.00      5360\n",
            "\n"
          ]
        },
        {
          "output_type": "display_data",
          "data": {
            "text/plain": [
              "<Figure size 500x500 with 2 Axes>"
            ],
            "image/png": "[encoded data removed]"
          },
          "metadata": {}
        }
      ]
    },
    {
      "cell_type": "markdown",
      "source": [
        "New"
      ],
      "metadata": {
        "id": "86lA77zuj1cA"
      },
      "id": "86lA77zuj1cA"
    },
    {
      "cell_type": "code",
      "source": [
        "rf = RandomForestClassifier(random_state = 0)\n",
        "rf.fit(X_train_final,y_train)\n",
        "rf_score=rf.score(X_test_final,y_test)\n",
        "y_predict=rf.predict(X_test_final)\n",
        "y_true=y_test\n",
        "print('Accuracy of RF: '+ str(rf_score))\n",
        "precision,recall,fscore,none= precision_recall_fscore_support(y_true, y_predict, average='weighted')\n",
        "print('Precision of RF: '+(str(precision)))\n",
        "print('Recall of RF: '+(str(recall)))\n",
        "print('F1-score of RF: '+(str(fscore)))\n",
        "print(classification_report(y_true,y_predict))\n",
        "cm=confusion_matrix(y_true,y_predict)\n",
        "f,ax=plt.subplots(figsize=(5,5))\n",
        "sns.heatmap(cm,annot=True,linewidth=0.5,linecolor=\"red\",fmt=\".0f\",ax=ax)\n",
        "plt.xlabel(\"y_pred\")\n",
        "plt.ylabel(\"y_true\")\n",
        "plt.show()"
      ],
      "metadata": {
        "colab": {
          "base_uri": "https://localhost:8080/",
          "height": 795
        },
        "id": "4kZDLvodj2ZW",
        "outputId": "6fe38ce8-61dd-4bed-a0b6-acca6a4b815a"
      },
      "id": "4kZDLvodj2ZW",
      "execution_count": 17,
      "outputs": [
        {
          "output_type": "stream",
          "name": "stdout",
          "text": [
            "Accuracy of RF: 0.9958955223880597\n",
            "Precision of RF: 0.995905600456217\n",
            "Recall of RF: 0.9958955223880597\n",
            "F1-score of RF: 0.9958667158915585\n",
            "              precision    recall  f1-score   support\n",
            "\n",
            "           0       1.00      1.00      1.00      3645\n",
            "           1       0.99      1.00      0.99       393\n",
            "           2       1.00      1.00      1.00        19\n",
            "           3       0.99      0.99      0.99       609\n",
            "           4       1.00      0.71      0.83         7\n",
            "           5       0.99      1.00      0.99       251\n",
            "           6       1.00      0.99      1.00       436\n",
            "\n",
            "    accuracy                           1.00      5360\n",
            "   macro avg       1.00      0.96      0.97      5360\n",
            "weighted avg       1.00      1.00      1.00      5360\n",
            "\n"
          ]
        },
        {
          "output_type": "display_data",
          "data": {
            "text/plain": [
              "<Figure size 500x500 with 2 Axes>"
            ],
            "image/png": "[encoded data removed]"
          },
          "metadata": {}
        }
      ]
    },
    {
      "cell_type": "code",
      "source": [
        "import optuna\n",
        "from sklearn.ensemble import RandomForestClassifier\n",
        "from sklearn.model_selection import cross_val_score\n",
        "\n",
        "def objective(trial):\n",
        "    n_estimators = trial.suggest_int('n_estimators', 10, 200)\n",
        "    max_depth = trial.suggest_int('max_depth', 5, 50)\n",
        "    max_features = trial.suggest_int('max_features', 1, 20)\n",
        "    min_samples_split = trial.suggest_int('min_samples_split', 2, 11)\n",
        "    min_samples_leaf = trial.suggest_int('min_samples_leaf', 1, 11)\n",
        "    criterion = trial.suggest_categorical('criterion', ['gini', 'entropy'])\n",
        "\n",
        "    params = {\n",
        "        'n_estimators': n_estimators,\n",
        "        'max_depth': max_depth,\n",
        "        'max_features': max_features,\n",
        "        'min_samples_split': min_samples_split,\n",
        "        'min_samples_leaf': min_samples_leaf,\n",
        "        'criterion': criterion\n",
        "    }\n",
        "\n",
        "    clf = RandomForestClassifier(**params)\n",
        "    score = cross_val_score(clf, X_train_final, y_train, cv=5, scoring='accuracy').mean()\n",
        "\n",
        "    return score\n",
        "\n",
        "study = optuna.create_study(direction='maximize')\n",
        "study.optimize(objective, n_trials=20)\n",
        "\n",
        "print(\"Random Forest: Optuna estimated optimum hyperparameters:\")\n",
        "print(study.best_params)"
      ],
      "metadata": {
        "colab": {
          "base_uri": "https://localhost:8080/"
        },
        "id": "KCT0FItXMvt9",
        "outputId": "2b7be04a-5bdc-4b2d-a680-7751ad6b9a91"
      },
      "id": "KCT0FItXMvt9",
      "execution_count": 18,
      "outputs": [
        {
          "output_type": "stream",
          "name": "stderr",
          "text": [
            "[I 2024-05-10 07:42:28,197] A new study created in memory with name: no-name-fcd42c68-af4a-406c-aa07-951316f4cf22\n",
            "[I 2024-05-10 07:43:30,096] Trial 0 finished with value: 0.9923973880597015 and parameters: {'n_estimators': 123, 'max_depth': 14, 'max_features': 15, 'min_samples_split': 2, 'min_samples_leaf': 6, 'criterion': 'entropy'}. Best is trial 0 with value: 0.9923973880597015.\n",
            "[I 2024-05-10 07:44:36,194] Trial 1 finished with value: 0.988526119402985 and parameters: {'n_estimators': 194, 'max_depth': 11, 'max_features': 18, 'min_samples_split': 4, 'min_samples_leaf': 6, 'criterion': 'gini'}. Best is trial 0 with value: 0.9923973880597015.\n",
            "[I 2024-05-10 07:44:58,770] Trial 2 finished with value: 0.9747201492537313 and parameters: {'n_estimators': 126, 'max_depth': 8, 'max_features': 10, 'min_samples_split': 7, 'min_samples_leaf': 4, 'criterion': 'gini'}. Best is trial 0 with value: 0.9923973880597015.\n",
            "[I 2024-05-10 07:45:09,002] Trial 3 finished with value: 0.9886194029850746 and parameters: {'n_estimators': 73, 'max_depth': 15, 'max_features': 6, 'min_samples_split': 6, 'min_samples_leaf': 7, 'criterion': 'gini'}. Best is trial 0 with value: 0.9923973880597015.\n",
            "[I 2024-05-10 07:45:42,515] Trial 4 finished with value: 0.9940764925373134 and parameters: {'n_estimators': 164, 'max_depth': 43, 'max_features': 10, 'min_samples_split': 10, 'min_samples_leaf': 1, 'criterion': 'gini'}. Best is trial 4 with value: 0.9940764925373134.\n",
            "[I 2024-05-10 07:46:40,408] Trial 5 finished with value: 0.9902985074626866 and parameters: {'n_estimators': 182, 'max_depth': 19, 'max_features': 14, 'min_samples_split': 5, 'min_samples_leaf': 10, 'criterion': 'entropy'}. Best is trial 4 with value: 0.9940764925373134.\n",
            "[I 2024-05-10 07:46:50,706] Trial 6 finished with value: 0.9940298507462687 and parameters: {'n_estimators': 35, 'max_depth': 43, 'max_features': 14, 'min_samples_split': 3, 'min_samples_leaf': 2, 'criterion': 'gini'}. Best is trial 4 with value: 0.9940764925373134.\n",
            "[I 2024-05-10 07:46:58,733] Trial 7 finished with value: 0.9940764925373134 and parameters: {'n_estimators': 26, 'max_depth': 35, 'max_features': 16, 'min_samples_split': 3, 'min_samples_leaf': 2, 'criterion': 'gini'}. Best is trial 4 with value: 0.9940764925373134.\n",
            "[I 2024-05-10 07:47:09,971] Trial 8 finished with value: 0.9594216417910448 and parameters: {'n_estimators': 87, 'max_depth': 29, 'max_features': 2, 'min_samples_split': 9, 'min_samples_leaf': 9, 'criterion': 'gini'}. Best is trial 4 with value: 0.9940764925373134.\n",
            "[I 2024-05-10 07:47:20,749] Trial 9 finished with value: 0.9898787313432835 and parameters: {'n_estimators': 28, 'max_depth': 12, 'max_features': 9, 'min_samples_split': 5, 'min_samples_leaf': 4, 'criterion': 'gini'}. Best is trial 4 with value: 0.9940764925373134.\n",
            "[I 2024-05-10 07:47:52,010] Trial 10 finished with value: 0.9936567164179104 and parameters: {'n_estimators': 157, 'max_depth': 46, 'max_features': 5, 'min_samples_split': 10, 'min_samples_leaf': 1, 'criterion': 'entropy'}. Best is trial 4 with value: 0.9940764925373134.\n",
            "[I 2024-05-10 07:48:35,975] Trial 11 finished with value: 0.9930037313432836 and parameters: {'n_estimators': 54, 'max_depth': 36, 'max_features': 19, 'min_samples_split': 11, 'min_samples_leaf': 3, 'criterion': 'gini'}. Best is trial 4 with value: 0.9940764925373134.\n",
            "[I 2024-05-10 07:48:38,721] Trial 12 finished with value: 0.9938899253731343 and parameters: {'n_estimators': 13, 'max_depth': 38, 'max_features': 11, 'min_samples_split': 8, 'min_samples_leaf': 1, 'criterion': 'gini'}. Best is trial 4 with value: 0.9940764925373134.\n",
            "[I 2024-05-10 07:49:27,126] Trial 13 finished with value: 0.9930503731343283 and parameters: {'n_estimators': 157, 'max_depth': 50, 'max_features': 16, 'min_samples_split': 11, 'min_samples_leaf': 3, 'criterion': 'gini'}. Best is trial 4 with value: 0.9940764925373134.\n",
            "[I 2024-05-10 07:49:56,886] Trial 14 finished with value: 0.9948694029850745 and parameters: {'n_estimators': 108, 'max_depth': 29, 'max_features': 12, 'min_samples_split': 8, 'min_samples_leaf': 1, 'criterion': 'entropy'}. Best is trial 14 with value: 0.9948694029850745.\n",
            "[I 2024-05-10 07:50:26,574] Trial 15 finished with value: 0.9949626865671641 and parameters: {'n_estimators': 107, 'max_depth': 25, 'max_features': 12, 'min_samples_split': 9, 'min_samples_leaf': 1, 'criterion': 'entropy'}. Best is trial 15 with value: 0.9949626865671641.\n",
            "[I 2024-05-10 07:50:56,636] Trial 16 finished with value: 0.9928638059701493 and parameters: {'n_estimators': 105, 'max_depth': 26, 'max_features': 12, 'min_samples_split': 8, 'min_samples_leaf': 5, 'criterion': 'entropy'}. Best is trial 15 with value: 0.9949626865671641.\n",
            "[I 2024-05-10 07:51:20,564] Trial 17 finished with value: 0.9895522388059701 and parameters: {'n_estimators': 128, 'max_depth': 23, 'max_features': 7, 'min_samples_split': 8, 'min_samples_leaf': 8, 'criterion': 'entropy'}. Best is trial 15 with value: 0.9949626865671641.\n",
            "[I 2024-05-10 07:51:44,557] Trial 18 finished with value: 0.9895988805970148 and parameters: {'n_estimators': 88, 'max_depth': 30, 'max_features': 13, 'min_samples_split': 7, 'min_samples_leaf': 11, 'criterion': 'entropy'}. Best is trial 15 with value: 0.9949626865671641.\n",
            "[I 2024-05-10 07:52:06,128] Trial 19 finished with value: 0.9930970149253732 and parameters: {'n_estimators': 105, 'max_depth': 23, 'max_features': 8, 'min_samples_split': 9, 'min_samples_leaf': 3, 'criterion': 'entropy'}. Best is trial 15 with value: 0.9949626865671641.\n"
          ]
        },
        {
          "output_type": "stream",
          "name": "stdout",
          "text": [
            "Random Forest: Optuna estimated optimum hyperparameters:\n",
            "{'n_estimators': 107, 'max_depth': 25, 'max_features': 12, 'min_samples_split': 9, 'min_samples_leaf': 1, 'criterion': 'entropy'}\n"
          ]
        }
      ]
    },
    {
      "cell_type": "code",
      "source": [
        "rf_hpo = RandomForestClassifier(n_estimators = 107, min_samples_leaf = 1, max_depth = 24, min_samples_split = 9, max_features = 13, criterion = 'entropy')\n",
        "rf_hpo.fit(X_train_final,y_train)\n",
        "rf_score=rf_hpo.score(X_test_final,y_test)\n",
        "y_predict=rf_hpo.predict(X_test_final)\n",
        "y_true=y_test\n",
        "print('Accuracy of RF: '+ str(rf_score))\n",
        "precision,recall,fscore,none= precision_recall_fscore_support(y_true, y_predict, average='weighted')\n",
        "print('Precision of RF: '+(str(precision)))\n",
        "print('Recall of RF: '+(str(recall)))\n",
        "print('F1-score of RF: '+(str(fscore)))\n",
        "print(classification_report(y_true,y_predict))\n",
        "cm=confusion_matrix(y_true,y_predict)\n",
        "f,ax=plt.subplots(figsize=(5,5))\n",
        "sns.heatmap(cm,annot=True,linewidth=0.5,linecolor=\"red\",fmt=\".0f\",ax=ax)\n",
        "plt.xlabel(\"y_pred\")\n",
        "plt.ylabel(\"y_true\")\n",
        "plt.show()"
      ],
      "metadata": {
        "colab": {
          "base_uri": "https://localhost:8080/",
          "height": 795
        },
        "id": "G-6b6ifoPnDa",
        "outputId": "30ac901f-ed7c-472e-845b-e89dd043599f"
      },
      "id": "G-6b6ifoPnDa",
      "execution_count": 19,
      "outputs": [
        {
          "output_type": "stream",
          "name": "stdout",
          "text": [
            "Accuracy of RF: 0.9970149253731343\n",
            "Precision of RF: 0.9970229763459072\n",
            "Recall of RF: 0.9970149253731343\n",
            "F1-score of RF: 0.9969855634666102\n",
            "              precision    recall  f1-score   support\n",
            "\n",
            "           0       1.00      1.00      1.00      3645\n",
            "           1       0.99      1.00      1.00       393\n",
            "           2       1.00      1.00      1.00        19\n",
            "           3       1.00      1.00      1.00       609\n",
            "           4       1.00      0.71      0.83         7\n",
            "           5       0.99      1.00      0.99       251\n",
            "           6       1.00      1.00      1.00       436\n",
            "\n",
            "    accuracy                           1.00      5360\n",
            "   macro avg       1.00      0.96      0.97      5360\n",
            "weighted avg       1.00      1.00      1.00      5360\n",
            "\n"
          ]
        },
        {
          "output_type": "display_data",
          "data": {
            "text/plain": [
              "<Figure size 500x500 with 2 Axes>"
            ],
            "image/png": "[encoded data removed]"
          },
          "metadata": {}
        }
      ]
    },
    {
      "cell_type": "code",
      "execution_count": 21,
      "id": "06aa66be",
      "metadata": {
        "id": "06aa66be"
      },
      "outputs": [],
      "source": [
        "rf_train=rf_hpo.predict(X_train_final)\n",
        "rf_test=rf_hpo.predict(X_test_final)"
      ]
    },
    {
      "cell_type": "code",
      "source": [
        "pip install keras_tuner"
      ],
      "metadata": {
        "colab": {
          "base_uri": "https://localhost:8080/"
        },
        "id": "IuxjPO7ua4_i",
        "outputId": "75d0c45c-8b21-4942-a4b3-df168a141a42"
      },
      "id": "IuxjPO7ua4_i",
      "execution_count": 22,
      "outputs": [
        {
          "output_type": "stream",
          "name": "stdout",
          "text": [
            "Collecting keras_tuner\n",
            "  Downloading keras_tuner-1.4.7-py3-none-any.whl (129 kB)\n",
            "\u001b[2K     \u001b[90m━━━━━━━━━━━━━━━━━━━━━━━━━━━━━━━━━━━━━━━━\u001b[0m \u001b[32m129.1/129.1 kB\u001b[0m \u001b[31m1.4 MB/s\u001b[0m eta \u001b[36m0:00:00\u001b[0m\n",
            "\u001b[?25hRequirement already satisfied: keras in /usr/local/lib/python3.10/dist-packages (from keras_tuner) (2.15.0)\n",
            "Requirement already satisfied: packaging in /usr/local/lib/python3.10/dist-packages (from keras_tuner) (24.0)\n",
            "Requirement already satisfied: requests in /usr/local/lib/python3.10/dist-packages (from keras_tuner) (2.31.0)\n",
            "Collecting kt-legacy (from keras_tuner)\n",
            "  Downloading kt_legacy-1.0.5-py3-none-any.whl (9.6 kB)\n",
            "Requirement already satisfied: charset-normalizer<4,>=2 in /usr/local/lib/python3.10/dist-packages (from requests->keras_tuner) (3.3.2)\n",
            "Requirement already satisfied: idna<4,>=2.5 in /usr/local/lib/python3.10/dist-packages (from requests->keras_tuner) (3.7)\n",
            "Requirement already satisfied: urllib3<3,>=1.21.1 in /usr/local/lib/python3.10/dist-packages (from requests->keras_tuner) (2.0.7)\n",
            "Requirement already satisfied: certifi>=2017.4.17 in /usr/local/lib/python3.10/dist-packages (from requests->keras_tuner) (2024.2.2)\n",
            "Installing collected packages: kt-legacy, keras_tuner\n",
            "Successfully installed keras_tuner-1.4.7 kt-legacy-1.0.5\n"
          ]
        }
      ]
    },
    {
      "cell_type": "markdown",
      "id": "7748e561",
      "metadata": {
        "id": "7748e561"
      },
      "source": [
        "## Apply DT"
      ]
    },
    {
      "cell_type": "code",
      "source": [
        "dt = DecisionTreeClassifier(random_state = 0)\n",
        "dt.fit(X_train_final,y_train)\n",
        "dt_score=dt.score(X_test_final,y_test)\n",
        "y_predict=dt.predict(X_test_final)\n",
        "y_true=y_test\n",
        "print('Accuracy of DT: '+ str(dt_score))\n",
        "precision,recall,fscore,none= precision_recall_fscore_support(y_true, y_predict, average='weighted')\n",
        "print('Precision of DT: '+(str(precision)))\n",
        "print('Recall of DT: '+(str(recall)))\n",
        "print('F1-score of DT: '+(str(fscore)))\n",
        "print(classification_report(y_true,y_predict))\n",
        "cm=confusion_matrix(y_true,y_predict)\n",
        "f,ax=plt.subplots(figsize=(5,5))\n",
        "sns.heatmap(cm,annot=True,linewidth=0.5,linecolor=\"red\",fmt=\".0f\",ax=ax)\n",
        "plt.xlabel(\"y_pred\")\n",
        "plt.ylabel(\"y_true\")\n",
        "plt.show()"
      ],
      "metadata": {
        "colab": {
          "base_uri": "https://localhost:8080/",
          "height": 795
        },
        "id": "Ny2_g0E_VMeo",
        "outputId": "f082aac7-41aa-417d-ff4f-10cd13abbc00"
      },
      "id": "Ny2_g0E_VMeo",
      "execution_count": 75,
      "outputs": [
        {
          "output_type": "stream",
          "name": "stdout",
          "text": [
            "Accuracy of DT: 0.9923507462686567\n",
            "Precision of DT: 0.9923352636788755\n",
            "Recall of DT: 0.9923507462686567\n",
            "F1-score of DT: 0.9923237270079561\n",
            "              precision    recall  f1-score   support\n",
            "\n",
            "           0       1.00      0.99      0.99      3645\n",
            "           1       0.98      1.00      0.99       393\n",
            "           2       0.95      1.00      0.97        19\n",
            "           3       0.99      0.99      0.99       609\n",
            "           4       0.67      0.57      0.62         7\n",
            "           5       0.99      1.00      0.99       251\n",
            "           6       0.98      0.99      0.99       436\n",
            "\n",
            "    accuracy                           0.99      5360\n",
            "   macro avg       0.94      0.93      0.93      5360\n",
            "weighted avg       0.99      0.99      0.99      5360\n",
            "\n"
          ]
        },
        {
          "output_type": "display_data",
          "data": {
            "text/plain": [
              "<Figure size 500x500 with 2 Axes>"
            ],
            "image/png": "[encoded data removed]"
          },
          "metadata": {}
        }
      ]
    },
    {
      "cell_type": "markdown",
      "source": [
        "New"
      ],
      "metadata": {
        "id": "utGNagGEeH3F"
      },
      "id": "utGNagGEeH3F"
    },
    {
      "cell_type": "code",
      "source": [
        "dt = DecisionTreeClassifier(random_state = 0)\n",
        "dt.fit(X_train_final,y_train)\n",
        "dt_score=dt.score(X_test_final,y_test)\n",
        "y_predict=dt.predict(X_test_final)\n",
        "y_true=y_test\n",
        "print('Accuracy of DT: '+ str(dt_score))\n",
        "precision,recall,fscore,none= precision_recall_fscore_support(y_true, y_predict, average='weighted')\n",
        "print('Precision of DT: '+(str(precision)))\n",
        "print('Recall of DT: '+(str(recall)))\n",
        "print('F1-score of DT: '+(str(fscore)))\n",
        "print(classification_report(y_true,y_predict))\n",
        "cm=confusion_matrix(y_true,y_predict)\n",
        "f,ax=plt.subplots(figsize=(5,5))\n",
        "sns.heatmap(cm,annot=True,linewidth=0.5,linecolor=\"red\",fmt=\".0f\",ax=ax)\n",
        "plt.xlabel(\"y_pred\")\n",
        "plt.ylabel(\"y_true\")\n",
        "plt.show()"
      ],
      "metadata": {
        "colab": {
          "base_uri": "https://localhost:8080/",
          "height": 795
        },
        "id": "adkNRSHIeG8U",
        "outputId": "a0c9b43e-8a9d-4c63-ec4e-0bf3a526d39b"
      },
      "id": "adkNRSHIeG8U",
      "execution_count": 23,
      "outputs": [
        {
          "output_type": "stream",
          "name": "stdout",
          "text": [
            "Accuracy of DT: 0.9929104477611941\n",
            "Precision of DT: 0.9929326683116145\n",
            "Recall of DT: 0.9929104477611941\n",
            "F1-score of DT: 0.992915558827126\n",
            "              precision    recall  f1-score   support\n",
            "\n",
            "           0       1.00      0.99      0.99      3645\n",
            "           1       0.98      0.99      0.99       393\n",
            "           2       0.95      1.00      0.97        19\n",
            "           3       0.99      0.99      0.99       609\n",
            "           4       0.71      0.71      0.71         7\n",
            "           5       0.99      1.00      0.99       251\n",
            "           6       0.99      1.00      0.99       436\n",
            "\n",
            "    accuracy                           0.99      5360\n",
            "   macro avg       0.94      0.95      0.95      5360\n",
            "weighted avg       0.99      0.99      0.99      5360\n",
            "\n"
          ]
        },
        {
          "output_type": "display_data",
          "data": {
            "text/plain": [
              "<Figure size 500x500 with 2 Axes>"
            ],
            "image/png": "[encoded data removed]"
          },
          "metadata": {}
        }
      ]
    },
    {
      "cell_type": "code",
      "source": [
        "import optuna\n",
        "from sklearn.tree import DecisionTreeClassifier\n",
        "from sklearn.model_selection import cross_val_score\n",
        "\n",
        "def objective(trial):\n",
        "    max_depth = trial.suggest_int('max_depth', 5, 50)\n",
        "    max_features = trial.suggest_int('max_features', 1, 20)\n",
        "    min_samples_split = trial.suggest_int('min_samples_split', 2, 11)\n",
        "    min_samples_leaf = trial.suggest_int('min_samples_leaf', 1, 11)\n",
        "    criterion = trial.suggest_categorical('criterion', ['gini', 'entropy'])\n",
        "\n",
        "    params = {\n",
        "        'max_depth': max_depth,\n",
        "        'max_features': max_features,\n",
        "        'min_samples_split': min_samples_split,\n",
        "        'min_samples_leaf': min_samples_leaf,\n",
        "        'criterion': criterion\n",
        "    }\n",
        "\n",
        "    clf = DecisionTreeClassifier(**params)\n",
        "    score = cross_val_score(clf, X_train_final, y_train, cv=5, scoring='accuracy').mean()\n",
        "\n",
        "    return score\n",
        "\n",
        "study = optuna.create_study(direction='maximize')\n",
        "study.optimize(objective, n_trials=50)\n",
        "\n",
        "print(\"Decision Tree: Optuna estimated optimum hyperparameters:\")\n",
        "print(study.best_params)"
      ],
      "metadata": {
        "colab": {
          "base_uri": "https://localhost:8080/"
        },
        "id": "vcE3ldSmf1SA",
        "outputId": "e7dd683d-5579-4880-f8c8-ba64154223ad"
      },
      "id": "vcE3ldSmf1SA",
      "execution_count": 25,
      "outputs": [
        {
          "output_type": "stream",
          "name": "stderr",
          "text": [
            "[I 2024-05-10 07:55:31,330] A new study created in memory with name: no-name-4a7a8044-5f9d-4f38-a26c-9baf812c15ca\n",
            "[I 2024-05-10 07:55:31,718] Trial 0 finished with value: 0.9884794776119403 and parameters: {'max_depth': 17, 'max_features': 12, 'min_samples_split': 2, 'min_samples_leaf': 2, 'criterion': 'entropy'}. Best is trial 0 with value: 0.9884794776119403.\n",
            "[I 2024-05-10 07:55:32,314] Trial 1 finished with value: 0.9868470149253732 and parameters: {'max_depth': 26, 'max_features': 20, 'min_samples_split': 2, 'min_samples_leaf': 8, 'criterion': 'entropy'}. Best is trial 0 with value: 0.9884794776119403.\n",
            "[I 2024-05-10 07:55:32,702] Trial 2 finished with value: 0.9444496268656717 and parameters: {'max_depth': 7, 'max_features': 14, 'min_samples_split': 11, 'min_samples_leaf': 8, 'criterion': 'gini'}. Best is trial 0 with value: 0.9884794776119403.\n",
            "[I 2024-05-10 07:55:33,169] Trial 3 finished with value: 0.9812033582089551 and parameters: {'max_depth': 48, 'max_features': 12, 'min_samples_split': 8, 'min_samples_leaf': 8, 'criterion': 'gini'}. Best is trial 0 with value: 0.9884794776119403.\n",
            "[I 2024-05-10 07:55:33,590] Trial 4 finished with value: 0.980830223880597 and parameters: {'max_depth': 15, 'max_features': 8, 'min_samples_split': 11, 'min_samples_leaf': 3, 'criterion': 'entropy'}. Best is trial 0 with value: 0.9884794776119403.\n",
            "[I 2024-05-10 07:55:34,076] Trial 5 finished with value: 0.9094682835820895 and parameters: {'max_depth': 6, 'max_features': 17, 'min_samples_split': 7, 'min_samples_leaf': 10, 'criterion': 'gini'}. Best is trial 0 with value: 0.9884794776119403.\n",
            "[I 2024-05-10 07:55:34,470] Trial 6 finished with value: 0.9711287313432836 and parameters: {'max_depth': 36, 'max_features': 7, 'min_samples_split': 8, 'min_samples_leaf': 5, 'criterion': 'entropy'}. Best is trial 0 with value: 0.9884794776119403.\n",
            "[I 2024-05-10 07:55:35,164] Trial 7 finished with value: 0.9614738805970149 and parameters: {'max_depth': 8, 'max_features': 16, 'min_samples_split': 8, 'min_samples_leaf': 7, 'criterion': 'entropy'}. Best is trial 0 with value: 0.9884794776119403.\n",
            "[I 2024-05-10 07:55:35,634] Trial 8 finished with value: 0.9792444029850745 and parameters: {'max_depth': 28, 'max_features': 11, 'min_samples_split': 4, 'min_samples_leaf': 8, 'criterion': 'gini'}. Best is trial 0 with value: 0.9884794776119403.\n",
            "[I 2024-05-10 07:55:36,382] Trial 9 finished with value: 0.9875466417910449 and parameters: {'max_depth': 44, 'max_features': 19, 'min_samples_split': 2, 'min_samples_leaf': 4, 'criterion': 'gini'}. Best is trial 0 with value: 0.9884794776119403.\n",
            "[I 2024-05-10 07:55:36,698] Trial 10 finished with value: 0.9786380597014925 and parameters: {'max_depth': 20, 'max_features': 4, 'min_samples_split': 5, 'min_samples_leaf': 1, 'criterion': 'entropy'}. Best is trial 0 with value: 0.9884794776119403.\n",
            "[I 2024-05-10 07:55:37,377] Trial 11 finished with value: 0.9881063432835822 and parameters: {'max_depth': 50, 'max_features': 20, 'min_samples_split': 2, 'min_samples_leaf': 4, 'criterion': 'gini'}. Best is trial 0 with value: 0.9884794776119403.\n",
            "[I 2024-05-10 07:55:37,549] Trial 12 finished with value: 0.9636660447761194 and parameters: {'max_depth': 38, 'max_features': 3, 'min_samples_split': 4, 'min_samples_leaf': 1, 'criterion': 'entropy'}. Best is trial 0 with value: 0.9884794776119403.\n",
            "[I 2024-05-10 07:55:37,988] Trial 13 finished with value: 0.9875932835820894 and parameters: {'max_depth': 16, 'max_features': 15, 'min_samples_split': 2, 'min_samples_leaf': 3, 'criterion': 'gini'}. Best is trial 0 with value: 0.9884794776119403.\n",
            "[I 2024-05-10 07:55:38,268] Trial 14 finished with value: 0.982509328358209 and parameters: {'max_depth': 29, 'max_features': 8, 'min_samples_split': 4, 'min_samples_leaf': 3, 'criterion': 'gini'}. Best is trial 0 with value: 0.9884794776119403.\n",
            "[I 2024-05-10 07:55:38,358] Trial 15 finished with value: 0.8140391791044775 and parameters: {'max_depth': 22, 'max_features': 1, 'min_samples_split': 3, 'min_samples_leaf': 5, 'criterion': 'entropy'}. Best is trial 0 with value: 0.9884794776119403.\n",
            "[I 2024-05-10 07:55:38,754] Trial 16 finished with value: 0.9881996268656718 and parameters: {'max_depth': 41, 'max_features': 13, 'min_samples_split': 6, 'min_samples_leaf': 1, 'criterion': 'gini'}. Best is trial 0 with value: 0.9884794776119403.\n",
            "[I 2024-05-10 07:55:39,144] Trial 17 finished with value: 0.9868003731343284 and parameters: {'max_depth': 35, 'max_features': 12, 'min_samples_split': 6, 'min_samples_leaf': 1, 'criterion': 'entropy'}. Best is trial 0 with value: 0.9884794776119403.\n",
            "[I 2024-05-10 07:55:39,518] Trial 18 finished with value: 0.9854944029850745 and parameters: {'max_depth': 42, 'max_features': 10, 'min_samples_split': 10, 'min_samples_leaf': 2, 'criterion': 'entropy'}. Best is trial 0 with value: 0.9884794776119403.\n",
            "[I 2024-05-10 07:55:39,950] Trial 19 finished with value: 0.9855410447761195 and parameters: {'max_depth': 13, 'max_features': 14, 'min_samples_split': 6, 'min_samples_leaf': 2, 'criterion': 'gini'}. Best is trial 0 with value: 0.9884794776119403.\n",
            "[I 2024-05-10 07:55:40,189] Trial 20 finished with value: 0.9671641791044777 and parameters: {'max_depth': 31, 'max_features': 6, 'min_samples_split': 9, 'min_samples_leaf': 10, 'criterion': 'entropy'}. Best is trial 0 with value: 0.9884794776119403.\n",
            "[I 2024-05-10 07:55:40,728] Trial 21 finished with value: 0.9871268656716419 and parameters: {'max_depth': 50, 'max_features': 18, 'min_samples_split': 3, 'min_samples_leaf': 4, 'criterion': 'gini'}. Best is trial 0 with value: 0.9884794776119403.\n",
            "[I 2024-05-10 07:55:41,071] Trial 22 finished with value: 0.9797108208955224 and parameters: {'max_depth': 44, 'max_features': 10, 'min_samples_split': 3, 'min_samples_leaf': 2, 'criterion': 'gini'}. Best is trial 0 with value: 0.9884794776119403.\n",
            "[I 2024-05-10 07:55:41,464] Trial 23 finished with value: 0.9844682835820896 and parameters: {'max_depth': 47, 'max_features': 13, 'min_samples_split': 5, 'min_samples_leaf': 4, 'criterion': 'gini'}. Best is trial 0 with value: 0.9884794776119403.\n",
            "[I 2024-05-10 07:55:41,996] Trial 24 finished with value: 0.9875 and parameters: {'max_depth': 40, 'max_features': 18, 'min_samples_split': 5, 'min_samples_leaf': 6, 'criterion': 'gini'}. Best is trial 0 with value: 0.9884794776119403.\n",
            "[I 2024-05-10 07:55:42,485] Trial 25 finished with value: 0.9891324626865672 and parameters: {'max_depth': 33, 'max_features': 16, 'min_samples_split': 3, 'min_samples_leaf': 2, 'criterion': 'gini'}. Best is trial 25 with value: 0.9891324626865672.\n",
            "[I 2024-05-10 07:55:42,969] Trial 26 finished with value: 0.9883861940298507 and parameters: {'max_depth': 33, 'max_features': 15, 'min_samples_split': 3, 'min_samples_leaf': 2, 'criterion': 'gini'}. Best is trial 25 with value: 0.9891324626865672.\n",
            "[I 2024-05-10 07:55:43,464] Trial 27 finished with value: 0.9879664179104477 and parameters: {'max_depth': 33, 'max_features': 16, 'min_samples_split': 3, 'min_samples_leaf': 2, 'criterion': 'gini'}. Best is trial 25 with value: 0.9891324626865672.\n",
            "[I 2024-05-10 07:55:43,948] Trial 28 finished with value: 0.9900652985074625 and parameters: {'max_depth': 23, 'max_features': 15, 'min_samples_split': 4, 'min_samples_leaf': 3, 'criterion': 'entropy'}. Best is trial 28 with value: 0.9900652985074625.\n",
            "[I 2024-05-10 07:55:44,465] Trial 29 finished with value: 0.9843283582089553 and parameters: {'max_depth': 24, 'max_features': 17, 'min_samples_split': 2, 'min_samples_leaf': 11, 'criterion': 'entropy'}. Best is trial 28 with value: 0.9900652985074625.\n",
            "[I 2024-05-10 07:55:44,863] Trial 30 finished with value: 0.9838152985074627 and parameters: {'max_depth': 19, 'max_features': 11, 'min_samples_split': 4, 'min_samples_leaf': 5, 'criterion': 'entropy'}. Best is trial 28 with value: 0.9900652985074625.\n",
            "[I 2024-05-10 07:55:45,371] Trial 31 finished with value: 0.9890858208955224 and parameters: {'max_depth': 25, 'max_features': 15, 'min_samples_split': 3, 'min_samples_leaf': 3, 'criterion': 'entropy'}. Best is trial 28 with value: 0.9900652985074625.\n",
            "[I 2024-05-10 07:55:45,832] Trial 32 finished with value: 0.9861940298507463 and parameters: {'max_depth': 24, 'max_features': 14, 'min_samples_split': 2, 'min_samples_leaf': 3, 'criterion': 'entropy'}. Best is trial 28 with value: 0.9900652985074625.\n",
            "[I 2024-05-10 07:55:46,320] Trial 33 finished with value: 0.9890858208955224 and parameters: {'max_depth': 26, 'max_features': 15, 'min_samples_split': 4, 'min_samples_leaf': 3, 'criterion': 'entropy'}. Best is trial 28 with value: 0.9900652985074625.\n",
            "[I 2024-05-10 07:55:46,807] Trial 34 finished with value: 0.988339552238806 and parameters: {'max_depth': 26, 'max_features': 16, 'min_samples_split': 5, 'min_samples_leaf': 3, 'criterion': 'entropy'}. Best is trial 28 with value: 0.9900652985074625.\n",
            "[I 2024-05-10 07:55:47,593] Trial 35 finished with value: 0.9875466417910449 and parameters: {'max_depth': 31, 'max_features': 18, 'min_samples_split': 4, 'min_samples_leaf': 6, 'criterion': 'entropy'}. Best is trial 28 with value: 0.9900652985074625.\n",
            "[I 2024-05-10 07:55:48,307] Trial 36 finished with value: 0.9873600746268657 and parameters: {'max_depth': 23, 'max_features': 15, 'min_samples_split': 3, 'min_samples_leaf': 3, 'criterion': 'entropy'}. Best is trial 28 with value: 0.9900652985074625.\n",
            "[I 2024-05-10 07:55:48,942] Trial 37 finished with value: 0.9819029850746268 and parameters: {'max_depth': 11, 'max_features': 13, 'min_samples_split': 4, 'min_samples_leaf': 4, 'criterion': 'entropy'}. Best is trial 28 with value: 0.9900652985074625.\n",
            "[I 2024-05-10 07:55:49,734] Trial 38 finished with value: 0.9881063432835822 and parameters: {'max_depth': 20, 'max_features': 17, 'min_samples_split': 7, 'min_samples_leaf': 5, 'criterion': 'entropy'}. Best is trial 28 with value: 0.9900652985074625.\n",
            "[I 2024-05-10 07:55:50,653] Trial 39 finished with value: 0.9861940298507463 and parameters: {'max_depth': 28, 'max_features': 20, 'min_samples_split': 5, 'min_samples_leaf': 7, 'criterion': 'entropy'}. Best is trial 28 with value: 0.9900652985074625.\n",
            "[I 2024-05-10 07:55:51,425] Trial 40 finished with value: 0.9893190298507463 and parameters: {'max_depth': 26, 'max_features': 14, 'min_samples_split': 3, 'min_samples_leaf': 3, 'criterion': 'entropy'}. Best is trial 28 with value: 0.9900652985074625.\n",
            "[I 2024-05-10 07:55:52,026] Trial 41 finished with value: 0.9869869402985074 and parameters: {'max_depth': 26, 'max_features': 14, 'min_samples_split': 3, 'min_samples_leaf': 3, 'criterion': 'entropy'}. Best is trial 28 with value: 0.9900652985074625.\n",
            "[I 2024-05-10 07:55:52,566] Trial 42 finished with value: 0.9907182835820896 and parameters: {'max_depth': 18, 'max_features': 16, 'min_samples_split': 4, 'min_samples_leaf': 2, 'criterion': 'entropy'}. Best is trial 42 with value: 0.9907182835820896.\n",
            "[I 2024-05-10 07:55:53,192] Trial 43 finished with value: 0.9912779850746268 and parameters: {'max_depth': 18, 'max_features': 19, 'min_samples_split': 3, 'min_samples_leaf': 1, 'criterion': 'entropy'}. Best is trial 43 with value: 0.9912779850746268.\n",
            "[I 2024-05-10 07:55:53,807] Trial 44 finished with value: 0.9917444029850746 and parameters: {'max_depth': 18, 'max_features': 19, 'min_samples_split': 4, 'min_samples_leaf': 1, 'criterion': 'entropy'}. Best is trial 44 with value: 0.9917444029850746.\n",
            "[I 2024-05-10 07:55:54,402] Trial 45 finished with value: 0.9900652985074627 and parameters: {'max_depth': 14, 'max_features': 19, 'min_samples_split': 5, 'min_samples_leaf': 1, 'criterion': 'entropy'}. Best is trial 44 with value: 0.9917444029850746.\n",
            "[I 2024-05-10 07:55:54,970] Trial 46 finished with value: 0.9916044776119403 and parameters: {'max_depth': 14, 'max_features': 19, 'min_samples_split': 5, 'min_samples_leaf': 1, 'criterion': 'entropy'}. Best is trial 44 with value: 0.9917444029850746.\n",
            "[I 2024-05-10 07:55:55,587] Trial 47 finished with value: 0.9831623134328359 and parameters: {'max_depth': 10, 'max_features': 19, 'min_samples_split': 7, 'min_samples_leaf': 1, 'criterion': 'entropy'}. Best is trial 44 with value: 0.9917444029850746.\n",
            "[I 2024-05-10 07:55:56,042] Trial 48 finished with value: 0.9122667910447761 and parameters: {'max_depth': 5, 'max_features': 19, 'min_samples_split': 6, 'min_samples_leaf': 1, 'criterion': 'entropy'}. Best is trial 44 with value: 0.9917444029850746.\n",
            "[I 2024-05-10 07:55:56,663] Trial 49 finished with value: 0.9901119402985075 and parameters: {'max_depth': 14, 'max_features': 20, 'min_samples_split': 5, 'min_samples_leaf': 1, 'criterion': 'entropy'}. Best is trial 44 with value: 0.9917444029850746.\n"
          ]
        },
        {
          "output_type": "stream",
          "name": "stdout",
          "text": [
            "Decision Tree: Optuna estimated optimum hyperparameters:\n",
            "{'max_depth': 18, 'max_features': 19, 'min_samples_split': 4, 'min_samples_leaf': 1, 'criterion': 'entropy'}\n"
          ]
        }
      ]
    },
    {
      "cell_type": "code",
      "source": [
        "dt_hpo = DecisionTreeClassifier(min_samples_leaf = 1, max_depth = 18, min_samples_split = 4, max_features = 30, criterion = 'entropy')\n",
        "dt_hpo.fit(X_train_final,y_train)\n",
        "dt_score=dt_hpo.score(X_test_final,y_test)\n",
        "y_predict=dt_hpo.predict(X_test_final)\n",
        "y_true=y_test\n",
        "print('Accuracy of DT: '+ str(dt_score))\n",
        "precision,recall,fscore,none= precision_recall_fscore_support(y_true, y_predict, average='weighted')\n",
        "print('Precision of DT: '+(str(precision)))\n",
        "print('Recall of DT: '+(str(recall)))\n",
        "print('F1-score of DT: '+(str(fscore)))\n",
        "print(classification_report(y_true,y_predict))\n",
        "cm=confusion_matrix(y_true,y_predict)\n",
        "f,ax=plt.subplots(figsize=(5,5))\n",
        "sns.heatmap(cm,annot=True,linewidth=0.5,linecolor=\"red\",fmt=\".0f\",ax=ax)\n",
        "plt.xlabel(\"y_pred\")\n",
        "plt.ylabel(\"y_true\")\n",
        "plt.show()"
      ],
      "metadata": {
        "colab": {
          "base_uri": "https://localhost:8080/",
          "height": 795
        },
        "id": "F1izzGkXgILB",
        "outputId": "0bb03a8b-8f70-49b7-b414-b0fb68374348"
      },
      "id": "F1izzGkXgILB",
      "execution_count": 33,
      "outputs": [
        {
          "output_type": "stream",
          "name": "stdout",
          "text": [
            "Accuracy of DT: 0.9934701492537313\n",
            "Precision of DT: 0.9934820633911605\n",
            "Recall of DT: 0.9934701492537313\n",
            "F1-score of DT: 0.9934703509590384\n",
            "              precision    recall  f1-score   support\n",
            "\n",
            "           0       1.00      0.99      1.00      3645\n",
            "           1       0.99      0.99      0.99       393\n",
            "           2       1.00      0.95      0.97        19\n",
            "           3       0.99      0.99      0.99       609\n",
            "           4       0.71      0.71      0.71         7\n",
            "           5       0.99      1.00      0.99       251\n",
            "           6       0.99      1.00      0.99       436\n",
            "\n",
            "    accuracy                           0.99      5360\n",
            "   macro avg       0.95      0.95      0.95      5360\n",
            "weighted avg       0.99      0.99      0.99      5360\n",
            "\n"
          ]
        },
        {
          "output_type": "display_data",
          "data": {
            "text/plain": [
              "<Figure size 500x500 with 2 Axes>"
            ],
            "image/png": "[encoded data removed]"
          },
          "metadata": {}
        }
      ]
    },
    {
      "cell_type": "code",
      "execution_count": 35,
      "id": "95e32196",
      "metadata": {
        "id": "95e32196"
      },
      "outputs": [],
      "source": [
        "dt_train=dt_hpo.predict(X_train_final)\n",
        "dt_test=dt_hpo.predict(X_test_final)"
      ]
    },
    {
      "cell_type": "markdown",
      "id": "c6c1631c",
      "metadata": {
        "id": "c6c1631c"
      },
      "source": [
        "## Apply ET"
      ]
    },
    {
      "cell_type": "code",
      "source": [
        "et = ExtraTreesClassifier(random_state = 0)\n",
        "et.fit(X_train_final,y_train)\n",
        "et_score=et.score(X_test_final,y_test)\n",
        "y_predict=et.predict(X_test_final)\n",
        "y_true=y_test\n",
        "print('Accuracy of ET: '+ str(et_score))\n",
        "precision,recall,fscore,none= precision_recall_fscore_support(y_true, y_predict, average='weighted')\n",
        "print('Precision of ET: '+(str(precision)))\n",
        "print('Recall of ET: '+(str(recall)))\n",
        "print('F1-score of ET: '+(str(fscore)))\n",
        "print(classification_report(y_true,y_predict))\n",
        "cm=confusion_matrix(y_true,y_predict)\n",
        "f,ax=plt.subplots(figsize=(5,5))\n",
        "sns.heatmap(cm,annot=True,linewidth=0.5,linecolor=\"red\",fmt=\".0f\",ax=ax)\n",
        "plt.xlabel(\"y_pred\")\n",
        "plt.ylabel(\"y_true\")\n",
        "plt.show()"
      ],
      "metadata": {
        "colab": {
          "base_uri": "https://localhost:8080/",
          "height": 795
        },
        "id": "ef51nnwIWN-U",
        "outputId": "5d9663d0-68b8-4d32-ab49-b98d52cda070"
      },
      "id": "ef51nnwIWN-U",
      "execution_count": 79,
      "outputs": [
        {
          "output_type": "stream",
          "name": "stdout",
          "text": [
            "Accuracy of ET: 0.9942164179104478\n",
            "Precision of ET: 0.9942268820714036\n",
            "Recall of ET: 0.9942164179104478\n",
            "F1-score of ET: 0.9941887984158028\n",
            "              precision    recall  f1-score   support\n",
            "\n",
            "           0       1.00      1.00      1.00      3645\n",
            "           1       0.99      0.99      0.99       393\n",
            "           2       1.00      1.00      1.00        19\n",
            "           3       0.99      0.99      0.99       609\n",
            "           4       1.00      0.71      0.83         7\n",
            "           5       0.99      1.00      0.99       251\n",
            "           6       0.99      0.99      0.99       436\n",
            "\n",
            "    accuracy                           0.99      5360\n",
            "   macro avg       0.99      0.95      0.97      5360\n",
            "weighted avg       0.99      0.99      0.99      5360\n",
            "\n"
          ]
        },
        {
          "output_type": "display_data",
          "data": {
            "text/plain": [
              "<Figure size 500x500 with 2 Axes>"
            ],
            "image/png": "[encoded data removed]"
          },
          "metadata": {}
        }
      ]
    },
    {
      "cell_type": "markdown",
      "source": [
        "New"
      ],
      "metadata": {
        "id": "wKiYaHA_gtKS"
      },
      "id": "wKiYaHA_gtKS"
    },
    {
      "cell_type": "code",
      "source": [
        "et = ExtraTreesClassifier(random_state = 0)\n",
        "et.fit(X_train_final,y_train)\n",
        "et_score=et.score(X_test_final,y_test)\n",
        "y_predict=et.predict(X_test_final)\n",
        "y_true=y_test\n",
        "print('Accuracy of ET: '+ str(et_score))\n",
        "precision,recall,fscore,none= precision_recall_fscore_support(y_true, y_predict, average='weighted')\n",
        "print('Precision of ET: '+(str(precision)))\n",
        "print('Recall of ET: '+(str(recall)))\n",
        "print('F1-score of ET: '+(str(fscore)))\n",
        "print(classification_report(y_true,y_predict))\n",
        "cm=confusion_matrix(y_true,y_predict)\n",
        "f,ax=plt.subplots(figsize=(5,5))\n",
        "sns.heatmap(cm,annot=True,linewidth=0.5,linecolor=\"red\",fmt=\".0f\",ax=ax)\n",
        "plt.xlabel(\"y_pred\")\n",
        "plt.ylabel(\"y_true\")\n",
        "plt.show()"
      ],
      "metadata": {
        "colab": {
          "base_uri": "https://localhost:8080/",
          "height": 795
        },
        "id": "FNCpGoq5gsep",
        "outputId": "1e94617e-afb4-4b67-cfc3-bfbfea026395"
      },
      "id": "FNCpGoq5gsep",
      "execution_count": 36,
      "outputs": [
        {
          "output_type": "stream",
          "name": "stdout",
          "text": [
            "Accuracy of ET: 0.9934701492537313\n",
            "Precision of ET: 0.9934936993097583\n",
            "Recall of ET: 0.9934701492537313\n",
            "F1-score of ET: 0.9934001720288478\n",
            "              precision    recall  f1-score   support\n",
            "\n",
            "           0       1.00      0.99      1.00      3645\n",
            "           1       0.98      0.99      0.99       393\n",
            "           2       1.00      1.00      1.00        19\n",
            "           3       0.99      0.99      0.99       609\n",
            "           4       1.00      0.57      0.73         7\n",
            "           5       0.99      1.00      0.99       251\n",
            "           6       1.00      0.99      1.00       436\n",
            "\n",
            "    accuracy                           0.99      5360\n",
            "   macro avg       0.99      0.93      0.96      5360\n",
            "weighted avg       0.99      0.99      0.99      5360\n",
            "\n"
          ]
        },
        {
          "output_type": "display_data",
          "data": {
            "text/plain": [
              "<Figure size 500x500 with 2 Axes>"
            ],
            "image/png": "[encoded data removed]"
          },
          "metadata": {}
        }
      ]
    },
    {
      "cell_type": "code",
      "source": [
        "import optuna\n",
        "from sklearn.tree import DecisionTreeClassifier\n",
        "from sklearn.model_selection import cross_val_score\n",
        "\n",
        "def objective(trial):\n",
        "    max_depth = trial.suggest_int('max_depth', 5, 50)\n",
        "    max_features = trial.suggest_int('max_features', 1, 20)\n",
        "    min_samples_split = trial.suggest_int('min_samples_split', 2, 11)\n",
        "    min_samples_leaf = trial.suggest_int('min_samples_leaf', 1, 11)\n",
        "    criterion = trial.suggest_categorical('criterion', ['gini', 'entropy'])\n",
        "\n",
        "    params = {\n",
        "        'max_depth': max_depth,\n",
        "        'max_features': max_features,\n",
        "        'min_samples_split': min_samples_split,\n",
        "        'min_samples_leaf': min_samples_leaf,\n",
        "        'criterion': criterion\n",
        "    }\n",
        "\n",
        "    clf = ExtraTreesClassifier(**params)\n",
        "    score = cross_val_score(clf, X_train_final, y_train, cv=5, scoring='accuracy').mean()\n",
        "\n",
        "    return score\n",
        "\n",
        "study = optuna.create_study(direction='maximize')\n",
        "study.optimize(objective, n_trials=50)\n",
        "\n",
        "print(\"Random Forest(Extra trees): Optuna estimated optimum hyperparameters:\")\n",
        "print(study.best_params)"
      ],
      "metadata": {
        "colab": {
          "base_uri": "https://localhost:8080/"
        },
        "id": "JObrMatmWZsS",
        "outputId": "b094d822-aabc-4af6-bbe5-c8902692955a"
      },
      "id": "JObrMatmWZsS",
      "execution_count": 37,
      "outputs": [
        {
          "output_type": "stream",
          "name": "stderr",
          "text": [
            "[I 2024-05-10 07:59:11,962] A new study created in memory with name: no-name-dc1a728f-5f32-4bb6-93cf-7c7ec51dde98\n",
            "[I 2024-05-10 07:59:18,696] Trial 0 finished with value: 0.9762126865671641 and parameters: {'max_depth': 39, 'max_features': 4, 'min_samples_split': 3, 'min_samples_leaf': 1, 'criterion': 'gini'}. Best is trial 0 with value: 0.9762126865671641.\n",
            "[I 2024-05-10 07:59:29,071] Trial 1 finished with value: 0.994356343283582 and parameters: {'max_depth': 37, 'max_features': 11, 'min_samples_split': 7, 'min_samples_leaf': 1, 'criterion': 'gini'}. Best is trial 1 with value: 0.994356343283582.\n",
            "[I 2024-05-10 07:59:43,324] Trial 2 finished with value: 0.9819496268656716 and parameters: {'max_depth': 26, 'max_features': 20, 'min_samples_split': 4, 'min_samples_leaf': 8, 'criterion': 'gini'}. Best is trial 1 with value: 0.994356343283582.\n",
            "[I 2024-05-10 07:59:56,256] Trial 3 finished with value: 0.9624533582089553 and parameters: {'max_depth': 34, 'max_features': 8, 'min_samples_split': 4, 'min_samples_leaf': 4, 'criterion': 'entropy'}. Best is trial 1 with value: 0.994356343283582.\n",
            "[I 2024-05-10 08:00:06,710] Trial 4 finished with value: 0.9791044776119403 and parameters: {'max_depth': 33, 'max_features': 14, 'min_samples_split': 11, 'min_samples_leaf': 8, 'criterion': 'entropy'}. Best is trial 1 with value: 0.994356343283582.\n",
            "[I 2024-05-10 08:00:12,946] Trial 5 finished with value: 0.9552705223880598 and parameters: {'max_depth': 42, 'max_features': 9, 'min_samples_split': 3, 'min_samples_leaf': 9, 'criterion': 'entropy'}. Best is trial 1 with value: 0.994356343283582.\n",
            "[I 2024-05-10 08:00:31,616] Trial 6 finished with value: 0.966231343283582 and parameters: {'max_depth': 16, 'max_features': 18, 'min_samples_split': 10, 'min_samples_leaf': 2, 'criterion': 'gini'}. Best is trial 1 with value: 0.994356343283582.\n",
            "[I 2024-05-10 08:00:41,369] Trial 7 finished with value: 0.8304570895522388 and parameters: {'max_depth': 23, 'max_features': 1, 'min_samples_split': 9, 'min_samples_leaf': 1, 'criterion': 'entropy'}. Best is trial 1 with value: 0.994356343283582.\n",
            "[I 2024-05-10 08:00:52,142] Trial 8 finished with value: 0.9468283582089552 and parameters: {'max_depth': 48, 'max_features': 5, 'min_samples_split': 11, 'min_samples_leaf': 3, 'criterion': 'gini'}. Best is trial 1 with value: 0.994356343283582.\n",
            "[I 2024-05-10 08:00:59,610] Trial 9 finished with value: 0.9380597014925373 and parameters: {'max_depth': 23, 'max_features': 8, 'min_samples_split': 2, 'min_samples_leaf': 10, 'criterion': 'gini'}. Best is trial 1 with value: 0.994356343283582.\n",
            "[I 2024-05-10 08:01:06,580] Trial 10 finished with value: 0.9032649253731344 and parameters: {'max_depth': 9, 'max_features': 13, 'min_samples_split': 7, 'min_samples_leaf': 5, 'criterion': 'gini'}. Best is trial 1 with value: 0.994356343283582.\n",
            "[I 2024-05-10 08:01:16,598] Trial 11 finished with value: 0.9831623134328359 and parameters: {'max_depth': 28, 'max_features': 20, 'min_samples_split': 6, 'min_samples_leaf': 7, 'criterion': 'gini'}. Best is trial 1 with value: 0.994356343283582.\n",
            "[I 2024-05-10 08:01:26,673] Trial 12 finished with value: 0.9832555970149253 and parameters: {'max_depth': 32, 'max_features': 16, 'min_samples_split': 7, 'min_samples_leaf': 6, 'criterion': 'gini'}. Best is trial 1 with value: 0.994356343283582.\n",
            "[I 2024-05-10 08:01:35,381] Trial 13 finished with value: 0.9661380597014926 and parameters: {'max_depth': 50, 'max_features': 15, 'min_samples_split': 7, 'min_samples_leaf': 11, 'criterion': 'gini'}. Best is trial 1 with value: 0.994356343283582.\n",
            "[I 2024-05-10 08:01:43,373] Trial 14 finished with value: 0.9805503731343282 and parameters: {'max_depth': 39, 'max_features': 12, 'min_samples_split': 8, 'min_samples_leaf': 6, 'criterion': 'gini'}. Best is trial 1 with value: 0.994356343283582.\n",
            "[I 2024-05-10 08:01:53,466] Trial 15 finished with value: 0.9850746268656717 and parameters: {'max_depth': 34, 'max_features': 16, 'min_samples_split': 6, 'min_samples_leaf': 5, 'criterion': 'gini'}. Best is trial 1 with value: 0.994356343283582.\n",
            "[I 2024-05-10 08:02:01,129] Trial 16 finished with value: 0.9867537313432836 and parameters: {'max_depth': 44, 'max_features': 12, 'min_samples_split': 5, 'min_samples_leaf': 3, 'criterion': 'gini'}. Best is trial 1 with value: 0.994356343283582.\n",
            "[I 2024-05-10 08:02:10,636] Trial 17 finished with value: 0.9865671641791044 and parameters: {'max_depth': 44, 'max_features': 11, 'min_samples_split': 5, 'min_samples_leaf': 3, 'criterion': 'gini'}. Best is trial 1 with value: 0.994356343283582.\n",
            "[I 2024-05-10 08:02:16,342] Trial 18 finished with value: 0.9631063432835821 and parameters: {'max_depth': 44, 'max_features': 5, 'min_samples_split': 5, 'min_samples_leaf': 2, 'criterion': 'entropy'}. Best is trial 1 with value: 0.994356343283582.\n",
            "[I 2024-05-10 08:02:24,522] Trial 19 finished with value: 0.9836753731343283 and parameters: {'max_depth': 39, 'max_features': 9, 'min_samples_split': 8, 'min_samples_leaf': 3, 'criterion': 'gini'}. Best is trial 1 with value: 0.994356343283582.\n",
            "[I 2024-05-10 08:02:34,243] Trial 20 finished with value: 0.9943097014925373 and parameters: {'max_depth': 47, 'max_features': 10, 'min_samples_split': 5, 'min_samples_leaf': 1, 'criterion': 'gini'}. Best is trial 1 with value: 0.994356343283582.\n",
            "[I 2024-05-10 08:02:42,633] Trial 21 finished with value: 0.9947294776119403 and parameters: {'max_depth': 48, 'max_features': 11, 'min_samples_split': 5, 'min_samples_leaf': 1, 'criterion': 'gini'}. Best is trial 21 with value: 0.9947294776119403.\n",
            "[I 2024-05-10 08:02:51,828] Trial 22 finished with value: 0.9944029850746269 and parameters: {'max_depth': 49, 'max_features': 10, 'min_samples_split': 6, 'min_samples_leaf': 1, 'criterion': 'gini'}. Best is trial 21 with value: 0.9947294776119403.\n",
            "[I 2024-05-10 08:02:58,307] Trial 23 finished with value: 0.9833488805970149 and parameters: {'max_depth': 49, 'max_features': 7, 'min_samples_split': 8, 'min_samples_leaf': 2, 'criterion': 'gini'}. Best is trial 21 with value: 0.9947294776119403.\n",
            "[I 2024-05-10 08:03:07,739] Trial 24 finished with value: 0.9945429104477611 and parameters: {'max_depth': 40, 'max_features': 11, 'min_samples_split': 6, 'min_samples_leaf': 1, 'criterion': 'gini'}. Best is trial 21 with value: 0.9947294776119403.\n",
            "[I 2024-05-10 08:03:16,014] Trial 25 finished with value: 0.9847014925373134 and parameters: {'max_depth': 45, 'max_features': 13, 'min_samples_split': 6, 'min_samples_leaf': 4, 'criterion': 'gini'}. Best is trial 21 with value: 0.9947294776119403.\n",
            "[I 2024-05-10 08:03:23,414] Trial 26 finished with value: 0.9841884328358208 and parameters: {'max_depth': 50, 'max_features': 7, 'min_samples_split': 4, 'min_samples_leaf': 2, 'criterion': 'entropy'}. Best is trial 21 with value: 0.9947294776119403.\n",
            "[I 2024-05-10 08:03:31,850] Trial 27 finished with value: 0.9942164179104477 and parameters: {'max_depth': 41, 'max_features': 10, 'min_samples_split': 6, 'min_samples_leaf': 1, 'criterion': 'gini'}. Best is trial 21 with value: 0.9947294776119403.\n",
            "[I 2024-05-10 08:03:41,739] Trial 28 finished with value: 0.9859141791044778 and parameters: {'max_depth': 46, 'max_features': 14, 'min_samples_split': 3, 'min_samples_leaf': 4, 'criterion': 'gini'}. Best is trial 21 with value: 0.9947294776119403.\n",
            "[I 2024-05-10 08:03:49,066] Trial 29 finished with value: 0.9462686567164178 and parameters: {'max_depth': 36, 'max_features': 2, 'min_samples_split': 2, 'min_samples_leaf': 1, 'criterion': 'gini'}. Best is trial 21 with value: 0.9947294776119403.\n",
            "[I 2024-05-10 08:03:52,244] Trial 30 finished with value: 0.7916044776119403 and parameters: {'max_depth': 5, 'max_features': 6, 'min_samples_split': 4, 'min_samples_leaf': 2, 'criterion': 'gini'}. Best is trial 21 with value: 0.9947294776119403.\n",
            "[I 2024-05-10 08:04:01,632] Trial 31 finished with value: 0.9944029850746269 and parameters: {'max_depth': 37, 'max_features': 11, 'min_samples_split': 7, 'min_samples_leaf': 1, 'criterion': 'gini'}. Best is trial 21 with value: 0.9947294776119403.\n",
            "[I 2024-05-10 08:04:10,344] Trial 32 finished with value: 0.9947294776119403 and parameters: {'max_depth': 41, 'max_features': 12, 'min_samples_split': 6, 'min_samples_leaf': 1, 'criterion': 'gini'}. Best is trial 21 with value: 0.9947294776119403.\n",
            "[I 2024-05-10 08:04:20,046] Trial 33 finished with value: 0.9946828358208956 and parameters: {'max_depth': 41, 'max_features': 12, 'min_samples_split': 5, 'min_samples_leaf': 1, 'criterion': 'gini'}. Best is trial 21 with value: 0.9947294776119403.\n",
            "[I 2024-05-10 08:04:28,031] Trial 34 finished with value: 0.9919776119402984 and parameters: {'max_depth': 41, 'max_features': 12, 'min_samples_split': 5, 'min_samples_leaf': 2, 'criterion': 'gini'}. Best is trial 21 with value: 0.9947294776119403.\n",
            "[I 2024-05-10 08:04:37,873] Trial 35 finished with value: 0.9861473880597016 and parameters: {'max_depth': 29, 'max_features': 14, 'min_samples_split': 4, 'min_samples_leaf': 3, 'criterion': 'gini'}. Best is trial 21 with value: 0.9947294776119403.\n",
            "[I 2024-05-10 08:04:48,490] Trial 36 finished with value: 0.9956156716417912 and parameters: {'max_depth': 39, 'max_features': 17, 'min_samples_split': 5, 'min_samples_leaf': 1, 'criterion': 'entropy'}. Best is trial 36 with value: 0.9956156716417912.\n",
            "[I 2024-05-10 08:04:57,428] Trial 37 finished with value: 0.9938899253731343 and parameters: {'max_depth': 31, 'max_features': 17, 'min_samples_split': 3, 'min_samples_leaf': 2, 'criterion': 'entropy'}. Best is trial 36 with value: 0.9956156716417912.\n",
            "[I 2024-05-10 08:05:07,752] Trial 38 finished with value: 0.9941231343283583 and parameters: {'max_depth': 36, 'max_features': 17, 'min_samples_split': 4, 'min_samples_leaf': 2, 'criterion': 'entropy'}. Best is trial 36 with value: 0.9956156716417912.\n",
            "[I 2024-05-10 08:05:18,312] Trial 39 finished with value: 0.9913712686567164 and parameters: {'max_depth': 43, 'max_features': 19, 'min_samples_split': 5, 'min_samples_leaf': 4, 'criterion': 'entropy'}. Best is trial 36 with value: 0.9956156716417912.\n",
            "[I 2024-05-10 08:05:27,071] Trial 40 finished with value: 0.9916044776119403 and parameters: {'max_depth': 25, 'max_features': 15, 'min_samples_split': 4, 'min_samples_leaf': 1, 'criterion': 'entropy'}. Best is trial 36 with value: 0.9956156716417912.\n",
            "[I 2024-05-10 08:05:35,482] Trial 41 finished with value: 0.9941231343283581 and parameters: {'max_depth': 39, 'max_features': 9, 'min_samples_split': 6, 'min_samples_leaf': 1, 'criterion': 'entropy'}. Best is trial 36 with value: 0.9956156716417912.\n",
            "[I 2024-05-10 08:05:45,908] Trial 42 finished with value: 0.995429104477612 and parameters: {'max_depth': 41, 'max_features': 13, 'min_samples_split': 5, 'min_samples_leaf': 1, 'criterion': 'entropy'}. Best is trial 36 with value: 0.9956156716417912.\n",
            "[I 2024-05-10 08:05:53,427] Trial 43 finished with value: 0.9685634328358208 and parameters: {'max_depth': 18, 'max_features': 13, 'min_samples_split': 5, 'min_samples_leaf': 1, 'criterion': 'entropy'}. Best is trial 36 with value: 0.9956156716417912.\n",
            "[I 2024-05-10 08:06:03,023] Trial 44 finished with value: 0.9892257462686566 and parameters: {'max_depth': 47, 'max_features': 14, 'min_samples_split': 4, 'min_samples_leaf': 3, 'criterion': 'entropy'}. Best is trial 36 with value: 0.9956156716417912.\n",
            "[I 2024-05-10 08:06:13,106] Trial 45 finished with value: 0.9832089552238805 and parameters: {'max_depth': 37, 'max_features': 19, 'min_samples_split': 5, 'min_samples_leaf': 8, 'criterion': 'entropy'}. Best is trial 36 with value: 0.9956156716417912.\n",
            "[I 2024-05-10 08:06:21,963] Trial 46 finished with value: 0.9930970149253732 and parameters: {'max_depth': 34, 'max_features': 15, 'min_samples_split': 3, 'min_samples_leaf': 2, 'criterion': 'entropy'}. Best is trial 36 with value: 0.9956156716417912.\n",
            "[I 2024-05-10 08:06:35,836] Trial 47 finished with value: 0.992910447761194 and parameters: {'max_depth': 42, 'max_features': 13, 'min_samples_split': 7, 'min_samples_leaf': 2, 'criterion': 'entropy'}. Best is trial 36 with value: 0.9956156716417912.\n",
            "[I 2024-05-10 08:06:47,798] Trial 48 finished with value: 0.9613339552238805 and parameters: {'max_depth': 46, 'max_features': 12, 'min_samples_split': 6, 'min_samples_leaf': 9, 'criterion': 'entropy'}. Best is trial 36 with value: 0.9956156716417912.\n",
            "[I 2024-05-10 08:06:56,730] Trial 49 finished with value: 0.9819029850746268 and parameters: {'max_depth': 38, 'max_features': 16, 'min_samples_split': 5, 'min_samples_leaf': 7, 'criterion': 'entropy'}. Best is trial 36 with value: 0.9956156716417912.\n"
          ]
        },
        {
          "output_type": "stream",
          "name": "stdout",
          "text": [
            "Random Forest(Extra trees): Optuna estimated optimum hyperparameters:\n",
            "{'max_depth': 39, 'max_features': 17, 'min_samples_split': 5, 'min_samples_leaf': 1, 'criterion': 'entropy'}\n"
          ]
        }
      ]
    },
    {
      "cell_type": "code",
      "source": [
        "et_hpo = ExtraTreesClassifier( min_samples_leaf = 1, max_depth = 34, min_samples_split = 3, max_features = 13, criterion = 'gini')\n",
        "et_hpo.fit(X_train_final,y_train)\n",
        "et_score=et_hpo.score(X_test_final,y_test)\n",
        "y_predict=et_hpo.predict(X_test_final)\n",
        "y_true=y_test\n",
        "print('Accuracy of ET: '+ str(et_score))\n",
        "precision,recall,fscore,none= precision_recall_fscore_support(y_true, y_predict, average='weighted')\n",
        "print('Precision of ET: '+(str(precision)))\n",
        "print('Recall of ET: '+(str(recall)))\n",
        "print('F1-score of ET: '+(str(fscore)))\n",
        "print(classification_report(y_true,y_predict))\n",
        "cm=confusion_matrix(y_true,y_predict)\n",
        "f,ax=plt.subplots(figsize=(5,5))\n",
        "sns.heatmap(cm,annot=True,linewidth=0.5,linecolor=\"red\",fmt=\".0f\",ax=ax)\n",
        "plt.xlabel(\"y_pred\")\n",
        "plt.ylabel(\"y_true\")\n",
        "plt.show()"
      ],
      "metadata": {
        "colab": {
          "base_uri": "https://localhost:8080/",
          "height": 795
        },
        "id": "EqQ2aEvqWrrr",
        "outputId": "4fde8086-275f-4a4d-af35-4229058a7806"
      },
      "id": "EqQ2aEvqWrrr",
      "execution_count": 82,
      "outputs": [
        {
          "output_type": "stream",
          "name": "stdout",
          "text": [
            "Accuracy of ET: 0.994589552238806\n",
            "Precision of ET: 0.994596477836763\n",
            "Recall of ET: 0.994589552238806\n",
            "F1-score of ET: 0.994560850156793\n",
            "              precision    recall  f1-score   support\n",
            "\n",
            "           0       1.00      1.00      1.00      3645\n",
            "           1       0.99      0.99      0.99       393\n",
            "           2       1.00      1.00      1.00        19\n",
            "           3       0.99      0.99      0.99       609\n",
            "           4       1.00      0.71      0.83         7\n",
            "           5       0.99      1.00      0.99       251\n",
            "           6       0.99      0.99      0.99       436\n",
            "\n",
            "    accuracy                           0.99      5360\n",
            "   macro avg       0.99      0.96      0.97      5360\n",
            "weighted avg       0.99      0.99      0.99      5360\n",
            "\n"
          ]
        },
        {
          "output_type": "display_data",
          "data": {
            "text/plain": [
              "<Figure size 500x500 with 2 Axes>"
            ],
            "image/png": "[encoded data removed]"
          },
          "metadata": {}
        }
      ]
    },
    {
      "cell_type": "markdown",
      "source": [
        "New"
      ],
      "metadata": {
        "id": "Zv_n14tlg8Jx"
      },
      "id": "Zv_n14tlg8Jx"
    },
    {
      "cell_type": "code",
      "source": [
        "et_hpo = ExtraTreesClassifier( min_samples_leaf = 1, max_depth = 39, min_samples_split = 5, max_features = 30, criterion = 'entropy')\n",
        "et_hpo.fit(X_train_final,y_train)\n",
        "et_score=et_hpo.score(X_test_final,y_test)\n",
        "y_predict=et_hpo.predict(X_test_final)\n",
        "y_true=y_test\n",
        "print('Accuracy of ET: '+ str(et_score))\n",
        "precision,recall,fscore,none= precision_recall_fscore_support(y_true, y_predict, average='weighted')\n",
        "print('Precision of ET: '+(str(precision)))\n",
        "print('Recall of ET: '+(str(recall)))\n",
        "print('F1-score of ET: '+(str(fscore)))\n",
        "print(classification_report(y_true,y_predict))\n",
        "cm=confusion_matrix(y_true,y_predict)\n",
        "f,ax=plt.subplots(figsize=(5,5))\n",
        "sns.heatmap(cm,annot=True,linewidth=0.5,linecolor=\"red\",fmt=\".0f\",ax=ax)\n",
        "plt.xlabel(\"y_pred\")\n",
        "plt.ylabel(\"y_true\")\n",
        "plt.show()"
      ],
      "metadata": {
        "colab": {
          "base_uri": "https://localhost:8080/",
          "height": 795
        },
        "id": "b-BinfNBg9ul",
        "outputId": "5977a93b-cfb0-44ff-f0ee-81859d4abe8f"
      },
      "id": "b-BinfNBg9ul",
      "execution_count": 39,
      "outputs": [
        {
          "output_type": "stream",
          "name": "stdout",
          "text": [
            "Accuracy of ET: 0.996268656716418\n",
            "Precision of ET: 0.9962809018799189\n",
            "Recall of ET: 0.996268656716418\n",
            "F1-score of ET: 0.9962399897437341\n",
            "              precision    recall  f1-score   support\n",
            "\n",
            "           0       1.00      1.00      1.00      3645\n",
            "           1       0.99      1.00      0.99       393\n",
            "           2       1.00      1.00      1.00        19\n",
            "           3       0.99      1.00      0.99       609\n",
            "           4       1.00      0.71      0.83         7\n",
            "           5       0.99      1.00      0.99       251\n",
            "           6       1.00      0.99      1.00       436\n",
            "\n",
            "    accuracy                           1.00      5360\n",
            "   macro avg       1.00      0.96      0.97      5360\n",
            "weighted avg       1.00      1.00      1.00      5360\n",
            "\n"
          ]
        },
        {
          "output_type": "display_data",
          "data": {
            "text/plain": [
              "<Figure size 500x500 with 2 Axes>"
            ],
            "image/png": "[encoded data removed]"
          },
          "metadata": {}
        }
      ]
    },
    {
      "cell_type": "code",
      "execution_count": 41,
      "id": "c1a306e5",
      "metadata": {
        "id": "c1a306e5"
      },
      "outputs": [],
      "source": [
        "et_train=et_hpo.predict(X_train_final)\n",
        "et_test=et_hpo.predict(X_test_final)"
      ]
    },
    {
      "cell_type": "code",
      "source": [
        "pip install scikit-optimize"
      ],
      "metadata": {
        "colab": {
          "base_uri": "https://localhost:8080/"
        },
        "id": "UGGqc8xlhqGB",
        "outputId": "185918d1-ac9b-4fb2-fcf3-8c0dd246c812"
      },
      "id": "UGGqc8xlhqGB",
      "execution_count": 105,
      "outputs": [
        {
          "output_type": "stream",
          "name": "stdout",
          "text": [
            "Collecting scikit-optimize\n",
            "  Downloading scikit_optimize-0.10.1-py2.py3-none-any.whl (107 kB)\n",
            "\u001b[2K     \u001b[90m━━━━━━━━━━━━━━━━━━━━━━━━━━━━━━━━━━━━━━━━\u001b[0m \u001b[32m107.7/107.7 kB\u001b[0m \u001b[31m1.5 MB/s\u001b[0m eta \u001b[36m0:00:00\u001b[0m\n",
            "\u001b[?25hRequirement already satisfied: joblib>=0.11 in /usr/local/lib/python3.10/dist-packages (from scikit-optimize) (1.4.2)\n",
            "Collecting pyaml>=16.9 (from scikit-optimize)\n",
            "  Downloading pyaml-24.4.0-py3-none-any.whl (24 kB)\n",
            "Requirement already satisfied: numpy>=1.20.3 in /usr/local/lib/python3.10/dist-packages (from scikit-optimize) (1.25.2)\n",
            "Requirement already satisfied: scipy>=1.1.0 in /usr/local/lib/python3.10/dist-packages (from scikit-optimize) (1.11.4)\n",
            "Requirement already satisfied: scikit-learn>=1.0.0 in /usr/local/lib/python3.10/dist-packages (from scikit-optimize) (1.2.2)\n",
            "Requirement already satisfied: packaging>=21.3 in /usr/local/lib/python3.10/dist-packages (from scikit-optimize) (24.0)\n",
            "Requirement already satisfied: PyYAML in /usr/local/lib/python3.10/dist-packages (from pyaml>=16.9->scikit-optimize) (6.0.1)\n",
            "Requirement already satisfied: threadpoolctl>=2.0.0 in /usr/local/lib/python3.10/dist-packages (from scikit-learn>=1.0.0->scikit-optimize) (3.5.0)\n",
            "Installing collected packages: pyaml, scikit-optimize\n",
            "Successfully installed pyaml-24.4.0 scikit-optimize-0.10.1\n"
          ]
        }
      ]
    },
    {
      "cell_type": "markdown",
      "id": "0748214f",
      "metadata": {
        "id": "0748214f"
      },
      "source": [
        "## Apply Stacking"
      ]
    },
    {
      "cell_type": "markdown",
      "id": "73444268",
      "metadata": {
        "id": "73444268"
      },
      "source": [
        "The ensemble model that combines the four ML models (DT, RF, ET, XGBoost)"
      ]
    },
    {
      "cell_type": "code",
      "execution_count": 42,
      "id": "1b656046",
      "metadata": {
        "id": "1b656046",
        "outputId": "2e3a0a7b-1213-41af-d9e9-f12e08fa2b92",
        "colab": {
          "base_uri": "https://localhost:8080/",
          "height": 206
        }
      },
      "outputs": [
        {
          "output_type": "execute_result",
          "data": {
            "text/plain": [
              "   DecisionTree  RandomForest  ExtraTrees\n",
              "0             0             0           0\n",
              "1             0             0           0\n",
              "2             1             1           1\n",
              "3             0             0           0\n",
              "4             3             3           3"
            ],
            "text/html": [
              "\n",
              "  <div id=\"df-5770ea38-e459-4091-9faf-43f84e9c585f\" class=\"colab-df-container\">\n",
              "    <div>\n",
              "<style scoped>\n",
              "    .dataframe tbody tr th:only-of-type {\n",
              "        vertical-align: middle;\n",
              "    }\n",
              "\n",
              "    .dataframe tbody tr th {\n",
              "        vertical-align: top;\n",
              "    }\n",
              "\n",
              "    .dataframe thead th {\n",
              "        text-align: right;\n",
              "    }\n",
              "</style>\n",
              "<table border=\"1\" class=\"dataframe\">\n",
              "  <thead>\n",
              "    <tr style=\"text-align: right;\">\n",
              "      <th></th>\n",
              "      <th>DecisionTree</th>\n",
              "      <th>RandomForest</th>\n",
              "      <th>ExtraTrees</th>\n",
              "    </tr>\n",
              "  </thead>\n",
              "  <tbody>\n",
              "    <tr>\n",
              "      <th>0</th>\n",
              "      <td>0</td>\n",
              "      <td>0</td>\n",
              "      <td>0</td>\n",
              "    </tr>\n",
              "    <tr>\n",
              "      <th>1</th>\n",
              "      <td>0</td>\n",
              "      <td>0</td>\n",
              "      <td>0</td>\n",
              "    </tr>\n",
              "    <tr>\n",
              "      <th>2</th>\n",
              "      <td>1</td>\n",
              "      <td>1</td>\n",
              "      <td>1</td>\n",
              "    </tr>\n",
              "    <tr>\n",
              "      <th>3</th>\n",
              "      <td>0</td>\n",
              "      <td>0</td>\n",
              "      <td>0</td>\n",
              "    </tr>\n",
              "    <tr>\n",
              "      <th>4</th>\n",
              "      <td>3</td>\n",
              "      <td>3</td>\n",
              "      <td>3</td>\n",
              "    </tr>\n",
              "  </tbody>\n",
              "</table>\n",
              "</div>\n",
              "    <div class=\"colab-df-buttons\">\n",
              "\n",
              "  <div class=\"colab-df-container\">\n",
              "    <button class=\"colab-df-convert\" onclick=\"convertToInteractive('df-5770ea38-e459-4091-9faf-43f84e9c585f')\"\n",
              "            title=\"Convert this dataframe to an interactive table.\"\n",
              "            style=\"display:none;\">\n",
              "\n",
              "  <svg xmlns=\"http://www.w3.org/2000/svg\" height=\"24px\" viewBox=\"0 -960 960 960\">\n",
              "    <path d=\"M120-120v-720h720v720H120Zm60-500h600v-160H180v160Zm220 220h160v-160H400v160Zm0 220h160v-160H400v160ZM180-400h160v-160H180v160Zm440 0h160v-160H620v160ZM180-180h160v-160H180v160Zm440 0h160v-160H620v160Z\"/>\n",
              "  </svg>\n",
              "    </button>\n",
              "\n",
              "  <style>\n",
              "    .colab-df-container {\n",
              "      display:flex;\n",
              "      gap: 12px;\n",
              "    }\n",
              "\n",
              "    .colab-df-convert {\n",
              "      background-color: #E8F0FE;\n",
              "      border: none;\n",
              "      border-radius: 50%;\n",
              "      cursor: pointer;\n",
              "      display: none;\n",
              "      fill: #1967D2;\n",
              "      height: 32px;\n",
              "      padding: 0 0 0 0;\n",
              "      width: 32px;\n",
              "    }\n",
              "\n",
              "    .colab-df-convert:hover {\n",
              "      background-color: #E2EBFA;\n",
              "      box-shadow: 0px 1px 2px rgba(60, 64, 67, 0.3), 0px 1px 3px 1px rgba(60, 64, 67, 0.15);\n",
              "      fill: #174EA6;\n",
              "    }\n",
              "\n",
              "    .colab-df-buttons div {\n",
              "      margin-bottom: 4px;\n",
              "    }\n",
              "\n",
              "    [theme=dark] .colab-df-convert {\n",
              "      background-color: #3B4455;\n",
              "      fill: #D2E3FC;\n",
              "    }\n",
              "\n",
              "    [theme=dark] .colab-df-convert:hover {\n",
              "      background-color: #434B5C;\n",
              "      box-shadow: 0px 1px 3px 1px rgba(0, 0, 0, 0.15);\n",
              "      filter: drop-shadow(0px 1px 2px rgba(0, 0, 0, 0.3));\n",
              "      fill: #FFFFFF;\n",
              "    }\n",
              "  </style>\n",
              "\n",
              "    <script>\n",
              "      const buttonEl =\n",
              "        document.querySelector('#df-5770ea38-e459-4091-9faf-43f84e9c585f button.colab-df-convert');\n",
              "      buttonEl.style.display =\n",
              "        google.colab.kernel.accessAllowed ? 'block' : 'none';\n",
              "\n",
              "      async function convertToInteractive(key) {\n",
              "        const element = document.querySelector('#df-5770ea38-e459-4091-9faf-43f84e9c585f');\n",
              "        const dataTable =\n",
              "          await google.colab.kernel.invokeFunction('convertToInteractive',\n",
              "                                                    [key], {});\n",
              "        if (!dataTable) return;\n",
              "\n",
              "        const docLinkHtml = 'Like what you see? Visit the ' +\n",
              "          '<a target=\"_blank\" href=https://colab.research.google.com/notebooks/data_table.ipynb>data table notebook</a>'\n",
              "          + ' to learn more about interactive tables.';\n",
              "        element.innerHTML = '';\n",
              "        dataTable['output_type'] = 'display_data';\n",
              "        await google.colab.output.renderOutput(dataTable, element);\n",
              "        const docLink = document.createElement('div');\n",
              "        docLink.innerHTML = docLinkHtml;\n",
              "        element.appendChild(docLink);\n",
              "      }\n",
              "    </script>\n",
              "  </div>\n",
              "\n",
              "\n",
              "<div id=\"df-0e1926b6-f11a-4761-a42f-f13030e1ce7b\">\n",
              "  <button class=\"colab-df-quickchart\" onclick=\"quickchart('df-0e1926b6-f11a-4761-a42f-f13030e1ce7b')\"\n",
              "            title=\"Suggest charts\"\n",
              "            style=\"display:none;\">\n",
              "\n",
              "<svg xmlns=\"http://www.w3.org/2000/svg\" height=\"24px\"viewBox=\"0 0 24 24\"\n",
              "     width=\"24px\">\n",
              "    <g>\n",
              "        <path d=\"M19 3H5c-1.1 0-2 .9-2 2v14c0 1.1.9 2 2 2h14c1.1 0 2-.9 2-2V5c0-1.1-.9-2-2-2zM9 17H7v-7h2v7zm4 0h-2V7h2v10zm4 0h-2v-4h2v4z\"/>\n",
              "    </g>\n",
              "</svg>\n",
              "  </button>\n",
              "\n",
              "<style>\n",
              "  .colab-df-quickchart {\n",
              "      --bg-color: #E8F0FE;\n",
              "      --fill-color: #1967D2;\n",
              "      --hover-bg-color: #E2EBFA;\n",
              "      --hover-fill-color: #174EA6;\n",
              "      --disabled-fill-color: #AAA;\n",
              "      --disabled-bg-color: #DDD;\n",
              "  }\n",
              "\n",
              "  [theme=dark] .colab-df-quickchart {\n",
              "      --bg-color: #3B4455;\n",
              "      --fill-color: #D2E3FC;\n",
              "      --hover-bg-color: #434B5C;\n",
              "      --hover-fill-color: #FFFFFF;\n",
              "      --disabled-bg-color: #3B4455;\n",
              "      --disabled-fill-color: #666;\n",
              "  }\n",
              "\n",
              "  .colab-df-quickchart {\n",
              "    background-color: var(--bg-color);\n",
              "    border: none;\n",
              "    border-radius: 50%;\n",
              "    cursor: pointer;\n",
              "    display: none;\n",
              "    fill: var(--fill-color);\n",
              "    height: 32px;\n",
              "    padding: 0;\n",
              "    width: 32px;\n",
              "  }\n",
              "\n",
              "  .colab-df-quickchart:hover {\n",
              "    background-color: var(--hover-bg-color);\n",
              "    box-shadow: 0 1px 2px rgba(60, 64, 67, 0.3), 0 1px 3px 1px rgba(60, 64, 67, 0.15);\n",
              "    fill: var(--button-hover-fill-color);\n",
              "  }\n",
              "\n",
              "  .colab-df-quickchart-complete:disabled,\n",
              "  .colab-df-quickchart-complete:disabled:hover {\n",
              "    background-color: var(--disabled-bg-color);\n",
              "    fill: var(--disabled-fill-color);\n",
              "    box-shadow: none;\n",
              "  }\n",
              "\n",
              "  .colab-df-spinner {\n",
              "    border: 2px solid var(--fill-color);\n",
              "    border-color: transparent;\n",
              "    border-bottom-color: var(--fill-color);\n",
              "    animation:\n",
              "      spin 1s steps(1) infinite;\n",
              "  }\n",
              "\n",
              "  @keyframes spin {\n",
              "    0% {\n",
              "      border-color: transparent;\n",
              "      border-bottom-color: var(--fill-color);\n",
              "      border-left-color: var(--fill-color);\n",
              "    }\n",
              "    20% {\n",
              "      border-color: transparent;\n",
              "      border-left-color: var(--fill-color);\n",
              "      border-top-color: var(--fill-color);\n",
              "    }\n",
              "    30% {\n",
              "      border-color: transparent;\n",
              "      border-left-color: var(--fill-color);\n",
              "      border-top-color: var(--fill-color);\n",
              "      border-right-color: var(--fill-color);\n",
              "    }\n",
              "    40% {\n",
              "      border-color: transparent;\n",
              "      border-right-color: var(--fill-color);\n",
              "      border-top-color: var(--fill-color);\n",
              "    }\n",
              "    60% {\n",
              "      border-color: transparent;\n",
              "      border-right-color: var(--fill-color);\n",
              "    }\n",
              "    80% {\n",
              "      border-color: transparent;\n",
              "      border-right-color: var(--fill-color);\n",
              "      border-bottom-color: var(--fill-color);\n",
              "    }\n",
              "    90% {\n",
              "      border-color: transparent;\n",
              "      border-bottom-color: var(--fill-color);\n",
              "    }\n",
              "  }\n",
              "</style>\n",
              "\n",
              "  <script>\n",
              "    async function quickchart(key) {\n",
              "      const quickchartButtonEl =\n",
              "        document.querySelector('#' + key + ' button');\n",
              "      quickchartButtonEl.disabled = true;  // To prevent multiple clicks.\n",
              "      quickchartButtonEl.classList.add('colab-df-spinner');\n",
              "      try {\n",
              "        const charts = await google.colab.kernel.invokeFunction(\n",
              "            'suggestCharts', [key], {});\n",
              "      } catch (error) {\n",
              "        console.error('Error during call to suggestCharts:', error);\n",
              "      }\n",
              "      quickchartButtonEl.classList.remove('colab-df-spinner');\n",
              "      quickchartButtonEl.classList.add('colab-df-quickchart-complete');\n",
              "    }\n",
              "    (() => {\n",
              "      let quickchartButtonEl =\n",
              "        document.querySelector('#df-0e1926b6-f11a-4761-a42f-f13030e1ce7b button');\n",
              "      quickchartButtonEl.style.display =\n",
              "        google.colab.kernel.accessAllowed ? 'block' : 'none';\n",
              "    })();\n",
              "  </script>\n",
              "</div>\n",
              "    </div>\n",
              "  </div>\n"
            ],
            "application/vnd.google.colaboratory.intrinsic+json": {
              "type": "dataframe",
              "variable_name": "base_predictions_train",
              "summary": "{\n  \"name\": \"base_predictions_train\",\n  \"rows\": 21440,\n  \"fields\": [\n    {\n      \"column\": \"DecisionTree\",\n      \"properties\": {\n        \"dtype\": \"number\",\n        \"std\": 1,\n        \"min\": 0,\n        \"max\": 6,\n        \"num_unique_values\": 7,\n        \"samples\": [\n          0,\n          1,\n          4\n        ],\n        \"semantic_type\": \"\",\n        \"description\": \"\"\n      }\n    },\n    {\n      \"column\": \"RandomForest\",\n      \"properties\": {\n        \"dtype\": \"number\",\n        \"std\": 1,\n        \"min\": 0,\n        \"max\": 6,\n        \"num_unique_values\": 7,\n        \"samples\": [\n          0,\n          1,\n          4\n        ],\n        \"semantic_type\": \"\",\n        \"description\": \"\"\n      }\n    },\n    {\n      \"column\": \"ExtraTrees\",\n      \"properties\": {\n        \"dtype\": \"number\",\n        \"std\": 1,\n        \"min\": 0,\n        \"max\": 6,\n        \"num_unique_values\": 7,\n        \"samples\": [\n          0,\n          1,\n          4\n        ],\n        \"semantic_type\": \"\",\n        \"description\": \"\"\n      }\n    }\n  ]\n}"
            }
          },
          "metadata": {},
          "execution_count": 42
        }
      ],
      "source": [
        "base_predictions_train = pd.DataFrame( {\n",
        "    'DecisionTree': dt_train.ravel(),\n",
        "        'RandomForest': rf_train.ravel(),\n",
        "     'ExtraTrees': et_train.ravel()\n",
        "    })\n",
        "base_predictions_train.head(5)"
      ]
    },
    {
      "cell_type": "code",
      "execution_count": 43,
      "id": "e2e869c2",
      "metadata": {
        "id": "e2e869c2"
      },
      "outputs": [],
      "source": [
        "dt_train=dt_train.reshape(-1, 1)\n",
        "et_train=et_train.reshape(-1, 1)\n",
        "rf_train=rf_train.reshape(-1, 1)\n",
        "# xg_train=xg_train.reshape(-1, 1)\n",
        "dt_test=dt_test.reshape(-1, 1)\n",
        "et_test=et_test.reshape(-1, 1)\n",
        "rf_test=rf_test.reshape(-1, 1)\n",
        "# xg_test=xg_test.reshape(-1, 1)"
      ]
    },
    {
      "cell_type": "code",
      "execution_count": 44,
      "id": "4b576fec",
      "metadata": {
        "id": "4b576fec",
        "outputId": "9f1d0b06-ecbc-4d62-e71b-fe5f1a62b29a",
        "colab": {
          "base_uri": "https://localhost:8080/"
        }
      },
      "outputs": [
        {
          "output_type": "execute_result",
          "data": {
            "text/plain": [
              "(21440, 1)"
            ]
          },
          "metadata": {},
          "execution_count": 44
        }
      ],
      "source": [
        "dt_train.shape"
      ]
    },
    {
      "cell_type": "code",
      "execution_count": 45,
      "id": "4e4c1dcb",
      "metadata": {
        "id": "4e4c1dcb"
      },
      "outputs": [],
      "source": [
        "x_train = np.concatenate(( dt_train, et_train, rf_train), axis=1)\n",
        "x_test = np.concatenate(( dt_test, et_test, rf_test), axis=1)"
      ]
    },
    {
      "cell_type": "code",
      "execution_count": null,
      "id": "d8474263",
      "metadata": {
        "id": "d8474263",
        "outputId": "0d6abaa5-73ce-4d69-da87-c0c2700bb56f"
      },
      "outputs": [
        {
          "name": "stdout",
          "output_type": "stream",
          "text": [
            "Accuracy of Stacking: 0.996268656716418\n",
            "Precision of Stacking: 0.9962807664284157\n",
            "Recall of Stacking: 0.996268656716418\n",
            "F1-score of Stacking: 0.9962403729238578\n",
            "              precision    recall  f1-score   support\n",
            "\n",
            "           0       1.00      1.00      1.00      3645\n",
            "           1       0.99      1.00      0.99       393\n",
            "           2       1.00      1.00      1.00        19\n",
            "           3       1.00      1.00      1.00       609\n",
            "           4       1.00      0.71      0.83         7\n",
            "           5       0.99      1.00      0.99       251\n",
            "           6       0.99      0.99      0.99       436\n",
            "\n",
            "    accuracy                           1.00      5360\n",
            "   macro avg       0.99      0.96      0.97      5360\n",
            "weighted avg       1.00      1.00      1.00      5360\n",
            "\n"
          ]
        },
        {
          "data": {
            "image/png": "[encoded data removed]",
            "text/plain": [
              "<Figure size 500x500 with 2 Axes>"
            ]
          },
          "metadata": {},
          "output_type": "display_data"
        }
      ],
      "source": [
        "stk = xgb.XGBClassifier().fit(x_train, y_train)\n",
        "y_predict=stk.predict(x_test)\n",
        "y_true=y_test\n",
        "stk_score=accuracy_score(y_true,y_predict)\n",
        "print('Accuracy of Stacking: '+ str(stk_score))\n",
        "precision,recall,fscore,none= precision_recall_fscore_support(y_true, y_predict, average='weighted')\n",
        "print('Precision of Stacking: '+(str(precision)))\n",
        "print('Recall of Stacking: '+(str(recall)))\n",
        "print('F1-score of Stacking: '+(str(fscore)))\n",
        "print(classification_report(y_true,y_predict))\n",
        "cm=confusion_matrix(y_true,y_predict)\n",
        "f,ax=plt.subplots(figsize=(5,5))\n",
        "sns.heatmap(cm,annot=True,linewidth=0.5,linecolor=\"red\",fmt=\".0f\",ax=ax)\n",
        "plt.xlabel(\"y_pred\")\n",
        "plt.ylabel(\"y_true\")\n",
        "plt.show()"
      ]
    },
    {
      "cell_type": "markdown",
      "source": [
        "New"
      ],
      "metadata": {
        "id": "bRP0G-_UhJ90"
      },
      "id": "bRP0G-_UhJ90"
    },
    {
      "cell_type": "code",
      "source": [
        "stk = xgb.XGBClassifier().fit(x_train, y_train)\n",
        "y_predict=stk.predict(x_test)\n",
        "y_true=y_test\n",
        "stk_score=accuracy_score(y_true,y_predict)\n",
        "print('Accuracy of Stacking: '+ str(stk_score))\n",
        "precision,recall,fscore,none= precision_recall_fscore_support(y_true, y_predict, average='weighted')\n",
        "print('Precision of Stacking: '+(str(precision)))\n",
        "print('Recall of Stacking: '+(str(recall)))\n",
        "print('F1-score of Stacking: '+(str(fscore)))\n",
        "print(classification_report(y_true,y_predict))\n",
        "cm=confusion_matrix(y_true,y_predict)\n",
        "f,ax=plt.subplots(figsize=(5,5))\n",
        "sns.heatmap(cm,annot=True,linewidth=0.5,linecolor=\"red\",fmt=\".0f\",ax=ax)\n",
        "plt.xlabel(\"y_pred\")\n",
        "plt.ylabel(\"y_true\")\n",
        "plt.show()"
      ],
      "metadata": {
        "colab": {
          "base_uri": "https://localhost:8080/",
          "height": 795
        },
        "id": "kV4jX-_lhKvg",
        "outputId": "28df9f75-6450-4b62-b833-c4f2075ad573"
      },
      "id": "kV4jX-_lhKvg",
      "execution_count": 46,
      "outputs": [
        {
          "output_type": "stream",
          "name": "stdout",
          "text": [
            "Accuracy of Stacking: 0.9958955223880597\n",
            "Precision of Stacking: 0.9959068447137124\n",
            "Recall of Stacking: 0.9958955223880597\n",
            "F1-score of Stacking: 0.9958973352521118\n",
            "              precision    recall  f1-score   support\n",
            "\n",
            "           0       1.00      1.00      1.00      3645\n",
            "           1       0.99      1.00      0.99       393\n",
            "           2       1.00      1.00      1.00        19\n",
            "           3       0.99      1.00      0.99       609\n",
            "           4       0.71      0.71      0.71         7\n",
            "           5       0.99      1.00      0.99       251\n",
            "           6       1.00      0.99      1.00       436\n",
            "\n",
            "    accuracy                           1.00      5360\n",
            "   macro avg       0.95      0.96      0.96      5360\n",
            "weighted avg       1.00      1.00      1.00      5360\n",
            "\n"
          ]
        },
        {
          "output_type": "display_data",
          "data": {
            "text/plain": [
              "<Figure size 500x500 with 2 Axes>"
            ],
            "image/png": "[encoded data removed]"
          },
          "metadata": {}
        }
      ]
    },
    {
      "cell_type": "code",
      "execution_count": null,
      "id": "80060f3a",
      "metadata": {
        "id": "80060f3a",
        "outputId": "9487c423-1409-49a3-9b9f-bcbb94afcf47"
      },
      "outputs": [
        {
          "name": "stderr",
          "output_type": "stream",
          "text": [
            "[I 2024-04-29 16:47:50,969] A new study created in memory with name: no-name-1b2a6017-369f-422a-aceb-69787a9ca13f\n",
            "[I 2024-04-29 16:47:52,932] Trial 0 finished with value: 0.983955223880597 and parameters: {'n_estimators': 55, 'max_depth': 4, 'learning_rate': 0.04452954152526224}. Best is trial 0 with value: 0.983955223880597.\n",
            "[I 2024-04-29 16:47:59,800] Trial 1 finished with value: 0.994776119402985 and parameters: {'n_estimators': 85, 'max_depth': 99, 'learning_rate': 0.012087215678684532}. Best is trial 1 with value: 0.994776119402985.\n",
            "[I 2024-04-29 16:48:01,410] Trial 2 finished with value: 0.9951492537313433 and parameters: {'n_estimators': 14, 'max_depth': 32, 'learning_rate': 0.09106498087283976}. Best is trial 2 with value: 0.9951492537313433.\n",
            "[I 2024-04-29 16:48:03,745] Trial 3 finished with value: 0.996455223880597 and parameters: {'n_estimators': 33, 'max_depth': 10, 'learning_rate': 0.170216031471344}. Best is trial 3 with value: 0.996455223880597.\n",
            "[I 2024-04-29 16:48:06,129] Trial 4 finished with value: 0.9973880597014926 and parameters: {'n_estimators': 37, 'max_depth': 86, 'learning_rate': 0.4296984265164052}. Best is trial 4 with value: 0.9973880597014926.\n",
            "[I 2024-04-29 16:48:14,283] Trial 5 finished with value: 0.9958955223880597 and parameters: {'n_estimators': 100, 'max_depth': 91, 'learning_rate': 0.028871826604718254}. Best is trial 4 with value: 0.9973880597014926.\n",
            "[I 2024-04-29 16:48:16,811] Trial 6 finished with value: 0.9968283582089552 and parameters: {'n_estimators': 32, 'max_depth': 24, 'learning_rate': 0.2151340409629159}. Best is trial 4 with value: 0.9973880597014926.\n",
            "[I 2024-04-29 16:48:17,953] Trial 7 finished with value: 0.9970149253731343 and parameters: {'n_estimators': 12, 'max_depth': 33, 'learning_rate': 0.5619115901767106}. Best is trial 4 with value: 0.9973880597014926.\n",
            "[I 2024-04-29 16:48:21,479] Trial 8 finished with value: 0.9951492537313433 and parameters: {'n_estimators': 86, 'max_depth': 5, 'learning_rate': 0.07293244343521157}. Best is trial 4 with value: 0.9973880597014926.\n",
            "[I 2024-04-29 16:48:25,252] Trial 9 finished with value: 0.9970149253731343 and parameters: {'n_estimators': 76, 'max_depth': 28, 'learning_rate': 0.6574265773425041}. Best is trial 4 with value: 0.9973880597014926.\n",
            "[I 2024-04-29 16:48:28,362] Trial 10 finished with value: 0.9973880597014926 and parameters: {'n_estimators': 55, 'max_depth': 73, 'learning_rate': 0.42061277889831067}. Best is trial 4 with value: 0.9973880597014926.\n",
            "[I 2024-04-29 16:48:31,600] Trial 11 finished with value: 0.9975746268656717 and parameters: {'n_estimators': 53, 'max_depth': 80, 'learning_rate': 0.31146592286625574}. Best is trial 11 with value: 0.9975746268656717.\n",
            "[I 2024-04-29 16:48:34,435] Trial 12 finished with value: 0.9972014925373134 and parameters: {'n_estimators': 37, 'max_depth': 69, 'learning_rate': 0.2408269082004747}. Best is trial 11 with value: 0.9975746268656717.\n",
            "[I 2024-04-29 16:48:37,375] Trial 13 finished with value: 0.9970149253731343 and parameters: {'n_estimators': 43, 'max_depth': 78, 'learning_rate': 0.34258747204830514}. Best is trial 11 with value: 0.9975746268656717.\n",
            "[I 2024-04-29 16:48:39,853] Trial 14 finished with value: 0.9972014925373134 and parameters: {'n_estimators': 47, 'max_depth': 56, 'learning_rate': 0.8473590095599927}. Best is trial 11 with value: 0.9975746268656717.\n",
            "[I 2024-04-29 16:48:44,902] Trial 15 finished with value: 0.9966417910447761 and parameters: {'n_estimators': 71, 'max_depth': 87, 'learning_rate': 0.1295230788274689}. Best is trial 11 with value: 0.9975746268656717.\n",
            "[I 2024-04-29 16:48:48,731] Trial 16 finished with value: 0.9975746268656717 and parameters: {'n_estimators': 65, 'max_depth': 57, 'learning_rate': 0.4019426833281968}. Best is trial 11 with value: 0.9975746268656717.\n",
            "[I 2024-04-29 16:48:52,764] Trial 17 finished with value: 0.9975746268656717 and parameters: {'n_estimators': 66, 'max_depth': 54, 'learning_rate': 0.2997956495751807}. Best is trial 11 with value: 0.9975746268656717.\n",
            "[I 2024-04-29 16:48:58,087] Trial 18 finished with value: 0.9966417910447761 and parameters: {'n_estimators': 64, 'max_depth': 65, 'learning_rate': 0.13633975136021104}. Best is trial 11 with value: 0.9975746268656717.\n",
            "[I 2024-04-29 16:48:59,692] Trial 19 finished with value: 0.9968283582089552 and parameters: {'n_estimators': 22, 'max_depth': 43, 'learning_rate': 0.8803077981887157}. Best is trial 11 with value: 0.9975746268656717.\n"
          ]
        },
        {
          "name": "stdout",
          "output_type": "stream",
          "text": [
            "XGBoost: Optuna estimated optimum {'n_estimators': 53, 'max_depth': 80, 'learning_rate': 0.31146592286625574}\n"
          ]
        }
      ],
      "source": [
        "import optuna\n",
        "from sklearn.metrics import accuracy_score\n",
        "from sklearn.model_selection import train_test_split\n",
        "import xgboost as xgb\n",
        "\n",
        "def objective(trial):\n",
        "    params = {\n",
        "        'n_estimators': trial.suggest_int('n_estimators', 10, 100),\n",
        "        'max_depth': trial.suggest_int('max_depth', 4, 100),\n",
        "        'learning_rate': trial.suggest_loguniform('learning_rate', 0.01, 0.9),\n",
        "    }\n",
        "    clf = xgb.XGBClassifier(**params)\n",
        "    clf.fit(x_train, y_train)\n",
        "    y_pred = clf.predict(x_test)\n",
        "    score = accuracy_score(y_test, y_pred)\n",
        "    return score\n",
        "\n",
        "x_train, x_test, y_train, y_test = train_test_split(X, y, test_size=0.2, random_state=42)\n",
        "\n",
        "study = optuna.create_study(direction='maximize')\n",
        "study.optimize(objective, n_trials=20)\n",
        "\n",
        "print(\"XGBoost: Optuna estimated optimum {}\".format(study.best_params))\n",
        "\n",
        "\n",
        "\n",
        "\n",
        "# import optuna\n",
        "# from sklearn.model_selection import cross_val_score, StratifiedKFold\n",
        "# def objective(params):\n",
        "#     params = {\n",
        "#         'n_estimators': int(params['n_estimators']),\n",
        "#         'max_depth': int(params['max_depth']),\n",
        "#         'learning_rate':  abs(float(params['learning_rate'])),\n",
        "\n",
        "#     }\n",
        "#     clf = xgb.XGBClassifier( **params)\n",
        "#     clf.fit(x_train, y_train)\n",
        "#     y_pred = clf.predict(x_test)\n",
        "#     score = accuracy_score(y_test, y_pred)\n",
        "\n",
        "#     return {'loss':-score, 'status': STATUS_OK }\n",
        "\n",
        "# space = {\n",
        "#     'n_estimators': hp.quniform('n_estimators', 10, 100, 5),\n",
        "#     'max_depth': hp.quniform('max_depth', 4, 100, 1),\n",
        "#     'learning_rate': hp.normal('learning_rate', 0.01, 0.9),\n",
        "# }\n",
        "\n",
        "# best = fmin(fn=objective,\n",
        "#             space=space,\n",
        "#             algo=tpe.suggest,\n",
        "#             max_evals=20)\n",
        "# print(\"XGBoost: Hyperopt estimated optimum {}\".format(best))"
      ]
    },
    {
      "cell_type": "markdown",
      "source": [
        "New"
      ],
      "metadata": {
        "id": "MDwJ4lMMjVV8"
      },
      "id": "MDwJ4lMMjVV8"
    },
    {
      "cell_type": "code",
      "source": [
        "import optuna\n",
        "from sklearn.metrics import accuracy_score\n",
        "from sklearn.model_selection import train_test_split\n",
        "import xgboost as xgb\n",
        "\n",
        "def objective(trial):\n",
        "    params = {\n",
        "        'n_estimators': trial.suggest_int('n_estimators', 10, 100),\n",
        "        'max_depth': trial.suggest_int('max_depth', 4, 100),\n",
        "        'learning_rate': trial.suggest_loguniform('learning_rate', 0.01, 0.9),\n",
        "    }\n",
        "    clf = xgb.XGBClassifier(**params)\n",
        "    clf.fit(x_train, y_train)\n",
        "    y_pred = clf.predict(x_test)\n",
        "    score = accuracy_score(y_test, y_pred)\n",
        "    return score\n",
        "\n",
        "x_train, x_test, y_train, y_test = train_test_split(X, y, test_size=0.2, random_state=42)\n",
        "\n",
        "study = optuna.create_study(direction='maximize')\n",
        "study.optimize(objective, n_trials=20)\n",
        "\n",
        "print(\"XGBoost: Optuna estimated optimum {}\".format(study.best_params))"
      ],
      "metadata": {
        "colab": {
          "base_uri": "https://localhost:8080/"
        },
        "id": "vk2S9wxZjXRj",
        "outputId": "cc80c7da-da5c-42e6-90f6-329476034bc3"
      },
      "id": "vk2S9wxZjXRj",
      "execution_count": 47,
      "outputs": [
        {
          "output_type": "stream",
          "name": "stderr",
          "text": [
            "[I 2024-05-10 08:10:20,714] A new study created in memory with name: no-name-01beed3b-d928-4bf9-91d5-7a014fdc4414\n",
            "<ipython-input-47-e900104db2df>:10: FutureWarning: suggest_loguniform has been deprecated in v3.0.0. This feature will be removed in v6.0.0. See https://github.com/optuna/optuna/releases/tag/v3.0.0. Use suggest_float(..., log=True) instead.\n",
            "  'learning_rate': trial.suggest_loguniform('learning_rate', 0.01, 0.9),\n",
            "[I 2024-05-10 08:10:29,479] Trial 0 finished with value: 0.996268656716418 and parameters: {'n_estimators': 74, 'max_depth': 51, 'learning_rate': 0.07862027146667513}. Best is trial 0 with value: 0.996268656716418.\n",
            "<ipython-input-47-e900104db2df>:10: FutureWarning: suggest_loguniform has been deprecated in v3.0.0. This feature will be removed in v6.0.0. See https://github.com/optuna/optuna/releases/tag/v3.0.0. Use suggest_float(..., log=True) instead.\n",
            "  'learning_rate': trial.suggest_loguniform('learning_rate', 0.01, 0.9),\n",
            "[I 2024-05-10 08:10:30,692] Trial 1 finished with value: 0.994589552238806 and parameters: {'n_estimators': 11, 'max_depth': 20, 'learning_rate': 0.058714053773284335}. Best is trial 0 with value: 0.996268656716418.\n",
            "<ipython-input-47-e900104db2df>:10: FutureWarning: suggest_loguniform has been deprecated in v3.0.0. This feature will be removed in v6.0.0. See https://github.com/optuna/optuna/releases/tag/v3.0.0. Use suggest_float(..., log=True) instead.\n",
            "  'learning_rate': trial.suggest_loguniform('learning_rate', 0.01, 0.9),\n",
            "[I 2024-05-10 08:10:37,630] Trial 2 finished with value: 0.9973880597014926 and parameters: {'n_estimators': 68, 'max_depth': 46, 'learning_rate': 0.24363173292038415}. Best is trial 2 with value: 0.9973880597014926.\n",
            "<ipython-input-47-e900104db2df>:10: FutureWarning: suggest_loguniform has been deprecated in v3.0.0. This feature will be removed in v6.0.0. See https://github.com/optuna/optuna/releases/tag/v3.0.0. Use suggest_float(..., log=True) instead.\n",
            "  'learning_rate': trial.suggest_loguniform('learning_rate', 0.01, 0.9),\n",
            "[I 2024-05-10 08:10:39,402] Trial 3 finished with value: 0.9975746268656717 and parameters: {'n_estimators': 16, 'max_depth': 95, 'learning_rate': 0.7623269963138423}. Best is trial 3 with value: 0.9975746268656717.\n",
            "<ipython-input-47-e900104db2df>:10: FutureWarning: suggest_loguniform has been deprecated in v3.0.0. This feature will be removed in v6.0.0. See https://github.com/optuna/optuna/releases/tag/v3.0.0. Use suggest_float(..., log=True) instead.\n",
            "  'learning_rate': trial.suggest_loguniform('learning_rate', 0.01, 0.9),\n",
            "[I 2024-05-10 08:10:44,548] Trial 4 finished with value: 0.994589552238806 and parameters: {'n_estimators': 56, 'max_depth': 76, 'learning_rate': 0.010513062626389518}. Best is trial 3 with value: 0.9975746268656717.\n",
            "<ipython-input-47-e900104db2df>:10: FutureWarning: suggest_loguniform has been deprecated in v3.0.0. This feature will be removed in v6.0.0. See https://github.com/optuna/optuna/releases/tag/v3.0.0. Use suggest_float(..., log=True) instead.\n",
            "  'learning_rate': trial.suggest_loguniform('learning_rate', 0.01, 0.9),\n",
            "[I 2024-05-10 08:10:47,457] Trial 5 finished with value: 0.994589552238806 and parameters: {'n_estimators': 30, 'max_depth': 26, 'learning_rate': 0.020707446900363385}. Best is trial 3 with value: 0.9975746268656717.\n",
            "<ipython-input-47-e900104db2df>:10: FutureWarning: suggest_loguniform has been deprecated in v3.0.0. This feature will be removed in v6.0.0. See https://github.com/optuna/optuna/releases/tag/v3.0.0. Use suggest_float(..., log=True) instead.\n",
            "  'learning_rate': trial.suggest_loguniform('learning_rate', 0.01, 0.9),\n",
            "[I 2024-05-10 08:10:51,339] Trial 6 finished with value: 0.9970149253731343 and parameters: {'n_estimators': 28, 'max_depth': 99, 'learning_rate': 0.8308551904380473}. Best is trial 3 with value: 0.9975746268656717.\n",
            "<ipython-input-47-e900104db2df>:10: FutureWarning: suggest_loguniform has been deprecated in v3.0.0. This feature will be removed in v6.0.0. See https://github.com/optuna/optuna/releases/tag/v3.0.0. Use suggest_float(..., log=True) instead.\n",
            "  'learning_rate': trial.suggest_loguniform('learning_rate', 0.01, 0.9),\n",
            "[I 2024-05-10 08:10:58,787] Trial 7 finished with value: 0.9970149253731343 and parameters: {'n_estimators': 89, 'max_depth': 60, 'learning_rate': 0.11180370782477324}. Best is trial 3 with value: 0.9975746268656717.\n",
            "<ipython-input-47-e900104db2df>:10: FutureWarning: suggest_loguniform has been deprecated in v3.0.0. This feature will be removed in v6.0.0. See https://github.com/optuna/optuna/releases/tag/v3.0.0. Use suggest_float(..., log=True) instead.\n",
            "  'learning_rate': trial.suggest_loguniform('learning_rate', 0.01, 0.9),\n",
            "[I 2024-05-10 08:11:08,246] Trial 8 finished with value: 0.994776119402985 and parameters: {'n_estimators': 61, 'max_depth': 90, 'learning_rate': 0.013005783997559174}. Best is trial 3 with value: 0.9975746268656717.\n",
            "<ipython-input-47-e900104db2df>:10: FutureWarning: suggest_loguniform has been deprecated in v3.0.0. This feature will be removed in v6.0.0. See https://github.com/optuna/optuna/releases/tag/v3.0.0. Use suggest_float(..., log=True) instead.\n",
            "  'learning_rate': trial.suggest_loguniform('learning_rate', 0.01, 0.9),\n",
            "[I 2024-05-10 08:11:25,165] Trial 9 finished with value: 0.996268656716418 and parameters: {'n_estimators': 85, 'max_depth': 30, 'learning_rate': 0.06474769895060178}. Best is trial 3 with value: 0.9975746268656717.\n",
            "<ipython-input-47-e900104db2df>:10: FutureWarning: suggest_loguniform has been deprecated in v3.0.0. This feature will be removed in v6.0.0. See https://github.com/optuna/optuna/releases/tag/v3.0.0. Use suggest_float(..., log=True) instead.\n",
            "  'learning_rate': trial.suggest_loguniform('learning_rate', 0.01, 0.9),\n",
            "[I 2024-05-10 08:11:26,808] Trial 10 finished with value: 0.9975746268656717 and parameters: {'n_estimators': 39, 'max_depth': 4, 'learning_rate': 0.8930627421331728}. Best is trial 3 with value: 0.9975746268656717.\n",
            "<ipython-input-47-e900104db2df>:10: FutureWarning: suggest_loguniform has been deprecated in v3.0.0. This feature will be removed in v6.0.0. See https://github.com/optuna/optuna/releases/tag/v3.0.0. Use suggest_float(..., log=True) instead.\n",
            "  'learning_rate': trial.suggest_loguniform('learning_rate', 0.01, 0.9),\n",
            "[I 2024-05-10 08:11:29,562] Trial 11 finished with value: 0.9968283582089552 and parameters: {'n_estimators': 37, 'max_depth': 10, 'learning_rate': 0.7667084482226104}. Best is trial 3 with value: 0.9975746268656717.\n",
            "<ipython-input-47-e900104db2df>:10: FutureWarning: suggest_loguniform has been deprecated in v3.0.0. This feature will be removed in v6.0.0. See https://github.com/optuna/optuna/releases/tag/v3.0.0. Use suggest_float(..., log=True) instead.\n",
            "  'learning_rate': trial.suggest_loguniform('learning_rate', 0.01, 0.9),\n",
            "[I 2024-05-10 08:11:30,808] Trial 12 finished with value: 0.996455223880597 and parameters: {'n_estimators': 11, 'max_depth': 72, 'learning_rate': 0.408920347616614}. Best is trial 3 with value: 0.9975746268656717.\n",
            "<ipython-input-47-e900104db2df>:10: FutureWarning: suggest_loguniform has been deprecated in v3.0.0. This feature will be removed in v6.0.0. See https://github.com/optuna/optuna/releases/tag/v3.0.0. Use suggest_float(..., log=True) instead.\n",
            "  'learning_rate': trial.suggest_loguniform('learning_rate', 0.01, 0.9),\n",
            "[I 2024-05-10 08:11:36,163] Trial 13 finished with value: 0.9973880597014926 and parameters: {'n_estimators': 41, 'max_depth': 6, 'learning_rate': 0.33782229592807983}. Best is trial 3 with value: 0.9975746268656717.\n",
            "<ipython-input-47-e900104db2df>:10: FutureWarning: suggest_loguniform has been deprecated in v3.0.0. This feature will be removed in v6.0.0. See https://github.com/optuna/optuna/releases/tag/v3.0.0. Use suggest_float(..., log=True) instead.\n",
            "  'learning_rate': trial.suggest_loguniform('learning_rate', 0.01, 0.9),\n",
            "[I 2024-05-10 08:11:38,290] Trial 14 finished with value: 0.9960820895522388 and parameters: {'n_estimators': 21, 'max_depth': 36, 'learning_rate': 0.1884513381288201}. Best is trial 3 with value: 0.9975746268656717.\n",
            "<ipython-input-47-e900104db2df>:10: FutureWarning: suggest_loguniform has been deprecated in v3.0.0. This feature will be removed in v6.0.0. See https://github.com/optuna/optuna/releases/tag/v3.0.0. Use suggest_float(..., log=True) instead.\n",
            "  'learning_rate': trial.suggest_loguniform('learning_rate', 0.01, 0.9),\n",
            "[I 2024-05-10 08:11:40,925] Trial 15 finished with value: 0.9972014925373134 and parameters: {'n_estimators': 44, 'max_depth': 69, 'learning_rate': 0.5390150355969938}. Best is trial 3 with value: 0.9975746268656717.\n",
            "<ipython-input-47-e900104db2df>:10: FutureWarning: suggest_loguniform has been deprecated in v3.0.0. This feature will be removed in v6.0.0. See https://github.com/optuna/optuna/releases/tag/v3.0.0. Use suggest_float(..., log=True) instead.\n",
            "  'learning_rate': trial.suggest_loguniform('learning_rate', 0.01, 0.9),\n",
            "[I 2024-05-10 08:11:42,216] Trial 16 finished with value: 0.9972014925373134 and parameters: {'n_estimators': 18, 'max_depth': 84, 'learning_rate': 0.8920423473247849}. Best is trial 3 with value: 0.9975746268656717.\n",
            "<ipython-input-47-e900104db2df>:10: FutureWarning: suggest_loguniform has been deprecated in v3.0.0. This feature will be removed in v6.0.0. See https://github.com/optuna/optuna/releases/tag/v3.0.0. Use suggest_float(..., log=True) instead.\n",
            "  'learning_rate': trial.suggest_loguniform('learning_rate', 0.01, 0.9),\n",
            "[I 2024-05-10 08:11:48,769] Trial 17 finished with value: 0.9966417910447761 and parameters: {'n_estimators': 48, 'max_depth': 39, 'learning_rate': 0.1355544503457019}. Best is trial 3 with value: 0.9975746268656717.\n",
            "<ipython-input-47-e900104db2df>:10: FutureWarning: suggest_loguniform has been deprecated in v3.0.0. This feature will be removed in v6.0.0. See https://github.com/optuna/optuna/releases/tag/v3.0.0. Use suggest_float(..., log=True) instead.\n",
            "  'learning_rate': trial.suggest_loguniform('learning_rate', 0.01, 0.9),\n",
            "[I 2024-05-10 08:11:51,853] Trial 18 finished with value: 0.9973880597014926 and parameters: {'n_estimators': 30, 'max_depth': 17, 'learning_rate': 0.3893533002560531}. Best is trial 3 with value: 0.9975746268656717.\n",
            "<ipython-input-47-e900104db2df>:10: FutureWarning: suggest_loguniform has been deprecated in v3.0.0. This feature will be removed in v6.0.0. See https://github.com/optuna/optuna/releases/tag/v3.0.0. Use suggest_float(..., log=True) instead.\n",
            "  'learning_rate': trial.suggest_loguniform('learning_rate', 0.01, 0.9),\n",
            "[I 2024-05-10 08:11:54,368] Trial 19 finished with value: 0.9970149253731343 and parameters: {'n_estimators': 22, 'max_depth': 58, 'learning_rate': 0.5612576777890658}. Best is trial 3 with value: 0.9975746268656717.\n"
          ]
        },
        {
          "output_type": "stream",
          "name": "stdout",
          "text": [
            "XGBoost: Optuna estimated optimum {'n_estimators': 16, 'max_depth': 95, 'learning_rate': 0.7623269963138423}\n"
          ]
        }
      ]
    },
    {
      "cell_type": "code",
      "execution_count": null,
      "id": "dfb78628",
      "metadata": {
        "id": "dfb78628",
        "outputId": "c1279bff-2e8d-4cd2-db3e-c9c9bb993470"
      },
      "outputs": [
        {
          "name": "stdout",
          "output_type": "stream",
          "text": [
            "Accuracy of XGBoost: 0.9975746268656717\n",
            "Precision of XGBoost: 0.9975780447281358\n",
            "Recall of XGBoost: 0.9975746268656717\n",
            "F1-score of XGBoost: 0.9974821551419346\n",
            "              precision    recall  f1-score   support\n",
            "\n",
            "           0       1.00      1.00      1.00      3655\n",
            "           1       0.99      1.00      0.99       385\n",
            "           2       1.00      1.00      1.00        19\n",
            "           3       1.00      1.00      1.00       605\n",
            "           4       1.00      0.50      0.67         6\n",
            "           5       1.00      1.00      1.00       256\n",
            "           6       1.00      1.00      1.00       434\n",
            "\n",
            "    accuracy                           1.00      5360\n",
            "   macro avg       1.00      0.93      0.95      5360\n",
            "weighted avg       1.00      1.00      1.00      5360\n",
            "\n"
          ]
        },
        {
          "data": {
            "image/png": "[encoded data removed]",
            "text/plain": [
              "<Figure size 500x500 with 2 Axes>"
            ]
          },
          "metadata": {},
          "output_type": "display_data"
        }
      ],
      "source": [
        "xg = xgb.XGBClassifier(learning_rate= 0.31146592286625574, n_estimators = 53, max_depth = 80)\n",
        "xg.fit(x_train,y_train)\n",
        "xg_score=xg.score(x_test,y_test)\n",
        "y_predict=xg.predict(x_test)\n",
        "y_true=y_test\n",
        "print('Accuracy of XGBoost: '+ str(xg_score))\n",
        "precision,recall,fscore,none= precision_recall_fscore_support(y_true, y_predict, average='weighted')\n",
        "print('Precision of XGBoost: '+(str(precision)))\n",
        "print('Recall of XGBoost: '+(str(recall)))\n",
        "print('F1-score of XGBoost: '+(str(fscore)))\n",
        "print(classification_report(y_true,y_predict))\n",
        "cm=confusion_matrix(y_true,y_predict)\n",
        "f,ax=plt.subplots(figsize=(5,5))\n",
        "sns.heatmap(cm,annot=True,linewidth=0.5,linecolor=\"red\",fmt=\".0f\",ax=ax)\n",
        "plt.xlabel(\"y_pred\")\n",
        "plt.ylabel(\"y_true\")\n",
        "plt.show()"
      ]
    },
    {
      "cell_type": "markdown",
      "source": [
        "New"
      ],
      "metadata": {
        "id": "tsFjdJ5BjkoW"
      },
      "id": "tsFjdJ5BjkoW"
    },
    {
      "cell_type": "code",
      "source": [
        "xg = xgb.XGBClassifier(learning_rate= 0.7623269963138423, n_estimators = 60, max_depth = 95)\n",
        "xg.fit(x_train,y_train)\n",
        "xg_score=xg.score(x_test,y_test)\n",
        "y_predict=xg.predict(x_test)\n",
        "y_true=y_test\n",
        "print('Accuracy of XGBoost: '+ str(xg_score))\n",
        "precision,recall,fscore,none= precision_recall_fscore_support(y_true, y_predict, average='weighted')\n",
        "print('Precision of XGBoost: '+(str(precision)))\n",
        "print('Recall of XGBoost: '+(str(recall)))\n",
        "print('F1-score of XGBoost: '+(str(fscore)))\n",
        "print(classification_report(y_true,y_predict))\n",
        "cm=confusion_matrix(y_true,y_predict)\n",
        "f,ax=plt.subplots(figsize=(5,5))\n",
        "sns.heatmap(cm,annot=True,linewidth=0.5,linecolor=\"red\",fmt=\".0f\",ax=ax)\n",
        "plt.xlabel(\"y_pred\")\n",
        "plt.ylabel(\"y_true\")\n",
        "plt.show()"
      ],
      "metadata": {
        "colab": {
          "base_uri": "https://localhost:8080/",
          "height": 795
        },
        "id": "V9lnE2EgjldI",
        "outputId": "59b274af-3879-41fc-d101-d9d133adb048"
      },
      "id": "V9lnE2EgjldI",
      "execution_count": 50,
      "outputs": [
        {
          "output_type": "stream",
          "name": "stdout",
          "text": [
            "Accuracy of XGBoost: 0.9977611940298508\n",
            "Precision of XGBoost: 0.9977637524166587\n",
            "Recall of XGBoost: 0.9977611940298508\n",
            "F1-score of XGBoost: 0.9976686498123707\n",
            "              precision    recall  f1-score   support\n",
            "\n",
            "           0       1.00      1.00      1.00      3655\n",
            "           1       0.99      0.99      0.99       385\n",
            "           2       1.00      1.00      1.00        19\n",
            "           3       1.00      1.00      1.00       605\n",
            "           4       1.00      0.50      0.67         6\n",
            "           5       1.00      1.00      1.00       256\n",
            "           6       1.00      1.00      1.00       434\n",
            "\n",
            "    accuracy                           1.00      5360\n",
            "   macro avg       1.00      0.93      0.95      5360\n",
            "weighted avg       1.00      1.00      1.00      5360\n",
            "\n"
          ]
        },
        {
          "output_type": "display_data",
          "data": {
            "text/plain": [
              "<Figure size 500x500 with 2 Axes>"
            ],
            "image/png": "[encoded data removed]"
          },
          "metadata": {}
        }
      ]
    },
    {
      "cell_type": "code",
      "source": [
        "from sklearn.datasets import make_classification\n",
        "from sklearn.model_selection import train_test_split\n",
        "from sklearn.tree import DecisionTreeClassifier\n",
        "from sklearn.ensemble import RandomForestClassifier, ExtraTreesClassifier\n",
        "from sklearn.metrics import accuracy_score, precision_score, recall_score, f1_score, roc_auc_score, confusion_matrix\n",
        "from sklearn.preprocessing import label_binarize\n",
        "import matplotlib.pyplot as plt\n",
        "import numpy as np\n",
        "\n",
        "\n",
        "accuracy = accuracy_score(y_true, y_predict)\n",
        "precision = precision_score(y_true, y_predict, average='macro')\n",
        "recall = recall_score(y_true, y_predict, average='macro')\n",
        "f1 = f1_score(y_true, y_predict, average='macro')\n",
        "roc_auc = roc_auc_score(label_binarize(y_true, classes=np.unique(y)), label_binarize(y_predict, classes=np.unique(y)), average='macro')\n",
        "\n",
        "\n",
        "print(\"Accuracy:\", accuracy)\n",
        "print(\"Precision:\", precision)\n",
        "print(\"Recall:\", recall)\n",
        "print(\"F1 Score:\", f1)\n",
        "print(\"ROC AUC Score:\", roc_auc)\n",
        "\n",
        "# Confusion Matrix\n",
        "conf_matrix = confusion_matrix(y_true, y_predict)\n",
        "plt.figure(figsize=(8, 6))\n",
        "plt.imshow(conf_matrix, cmap='Blues')\n",
        "plt.title('Confusion Matrix')\n",
        "plt.colorbar()\n",
        "plt.xlabel('Predicted Label')\n",
        "plt.ylabel('True Label')\n",
        "plt.xticks([0, 1], ['Negative', 'Positive'])\n",
        "plt.yticks([0, 1], ['Negative', 'Positive'])\n",
        "for i in range(2):\n",
        "    for j in range(2):\n",
        "        plt.text(j, i, str(conf_matrix[i, j]), ha='center', va='center', color='black')\n",
        "plt.show()\n",
        "\n",
        "# ROC Curve\n",
        "fpr, tpr, thresholds = roc_curve(y_true,y_predict)\n",
        "plt.figure(figsize=(8, 6))\n",
        "plt.plot(fpr, tpr, label='ROC Curve (AUC = {:.2f})'.format(roc_auc))\n",
        "plt.plot([0, 1], [0, 1], 'k--', label='Random Guessing')\n",
        "plt.xlabel('False Positive Rate')\n",
        "plt.ylabel('True Positive Rate')\n",
        "plt.title('Receiver Operating Characteristic (ROC) Curve')\n",
        "plt.legend()\n",
        "plt.show()"
      ],
      "metadata": {
        "colab": {
          "base_uri": "https://localhost:8080/",
          "height": 1000
        },
        "id": "uZxPIR1TMjXS",
        "outputId": "bd2c4b6c-0729-4a3b-b29e-b446e8c35215"
      },
      "id": "uZxPIR1TMjXS",
      "execution_count": 54,
      "outputs": [
        {
          "output_type": "stream",
          "name": "stdout",
          "text": [
            "Accuracy: 0.9977611940298508\n",
            "Precision: 0.9982783883086054\n",
            "Recall: 0.9268397233124462\n",
            "F1 Score: 0.9506533494886932\n",
            "ROC AUC Score: 0.963052826175919\n"
          ]
        },
        {
          "output_type": "display_data",
          "data": {
            "text/plain": [
              "<Figure size 800x600 with 2 Axes>"
            ],
            "image/png": "[encoded data removed]"
          },
          "metadata": {}
        },
        {
          "output_type": "error",
          "ename": "ValueError",
          "evalue": "multiclass format is not supported",
          "traceback": [
            "\u001b[0;31m---------------------------------------------------------------------------\u001b[0m",
            "\u001b[0;31mValueError\u001b[0m                                Traceback (most recent call last)",
            "\u001b[0;32m<ipython-input-54-809ec20a03dd>\u001b[0m in \u001b[0;36m<cell line: 40>\u001b[0;34m()\u001b[0m\n\u001b[1;32m     38\u001b[0m \u001b[0;34m\u001b[0m\u001b[0m\n\u001b[1;32m     39\u001b[0m \u001b[0;31m# ROC Curve\u001b[0m\u001b[0;34m\u001b[0m\u001b[0;34m\u001b[0m\u001b[0m\n\u001b[0;32m---> 40\u001b[0;31m \u001b[0mfpr\u001b[0m\u001b[0;34m,\u001b[0m \u001b[0mtpr\u001b[0m\u001b[0;34m,\u001b[0m \u001b[0mthresholds\u001b[0m \u001b[0;34m=\u001b[0m \u001b[0mroc_curve\u001b[0m\u001b[0;34m(\u001b[0m\u001b[0my_true\u001b[0m\u001b[0;34m,\u001b[0m\u001b[0my_predict\u001b[0m\u001b[0;34m)\u001b[0m\u001b[0;34m\u001b[0m\u001b[0;34m\u001b[0m\u001b[0m\n\u001b[0m\u001b[1;32m     41\u001b[0m \u001b[0mplt\u001b[0m\u001b[0;34m.\u001b[0m\u001b[0mfigure\u001b[0m\u001b[0;34m(\u001b[0m\u001b[0mfigsize\u001b[0m\u001b[0;34m=\u001b[0m\u001b[0;34m(\u001b[0m\u001b[0;36m8\u001b[0m\u001b[0;34m,\u001b[0m \u001b[0;36m6\u001b[0m\u001b[0;34m)\u001b[0m\u001b[0;34m)\u001b[0m\u001b[0;34m\u001b[0m\u001b[0;34m\u001b[0m\u001b[0m\n\u001b[1;32m     42\u001b[0m \u001b[0mplt\u001b[0m\u001b[0;34m.\u001b[0m\u001b[0mplot\u001b[0m\u001b[0;34m(\u001b[0m\u001b[0mfpr\u001b[0m\u001b[0;34m,\u001b[0m \u001b[0mtpr\u001b[0m\u001b[0;34m,\u001b[0m \u001b[0mlabel\u001b[0m\u001b[0;34m=\u001b[0m\u001b[0;34m'ROC Curve (AUC = {:.2f})'\u001b[0m\u001b[0;34m.\u001b[0m\u001b[0mformat\u001b[0m\u001b[0;34m(\u001b[0m\u001b[0mroc_auc\u001b[0m\u001b[0;34m)\u001b[0m\u001b[0;34m)\u001b[0m\u001b[0;34m\u001b[0m\u001b[0;34m\u001b[0m\u001b[0m\n",
            "\u001b[0;32m/usr/local/lib/python3.10/dist-packages/sklearn/metrics/_ranking.py\u001b[0m in \u001b[0;36mroc_curve\u001b[0;34m(y_true, y_score, pos_label, sample_weight, drop_intermediate)\u001b[0m\n\u001b[1;32m    990\u001b[0m     \u001b[0marray\u001b[0m\u001b[0;34m(\u001b[0m\u001b[0;34m[\u001b[0m\u001b[0;36m1.8\u001b[0m \u001b[0;34m,\u001b[0m \u001b[0;36m0.8\u001b[0m \u001b[0;34m,\u001b[0m \u001b[0;36m0.4\u001b[0m \u001b[0;34m,\u001b[0m \u001b[0;36m0.35\u001b[0m\u001b[0;34m,\u001b[0m \u001b[0;36m0.1\u001b[0m \u001b[0;34m]\u001b[0m\u001b[0;34m)\u001b[0m\u001b[0;34m\u001b[0m\u001b[0;34m\u001b[0m\u001b[0m\n\u001b[1;32m    991\u001b[0m     \"\"\"\n\u001b[0;32m--> 992\u001b[0;31m     fps, tps, thresholds = _binary_clf_curve(\n\u001b[0m\u001b[1;32m    993\u001b[0m         \u001b[0my_true\u001b[0m\u001b[0;34m,\u001b[0m \u001b[0my_score\u001b[0m\u001b[0;34m,\u001b[0m \u001b[0mpos_label\u001b[0m\u001b[0;34m=\u001b[0m\u001b[0mpos_label\u001b[0m\u001b[0;34m,\u001b[0m \u001b[0msample_weight\u001b[0m\u001b[0;34m=\u001b[0m\u001b[0msample_weight\u001b[0m\u001b[0;34m\u001b[0m\u001b[0;34m\u001b[0m\u001b[0m\n\u001b[1;32m    994\u001b[0m     )\n",
            "\u001b[0;32m/usr/local/lib/python3.10/dist-packages/sklearn/metrics/_ranking.py\u001b[0m in \u001b[0;36m_binary_clf_curve\u001b[0;34m(y_true, y_score, pos_label, sample_weight)\u001b[0m\n\u001b[1;32m    747\u001b[0m     \u001b[0my_type\u001b[0m \u001b[0;34m=\u001b[0m \u001b[0mtype_of_target\u001b[0m\u001b[0;34m(\u001b[0m\u001b[0my_true\u001b[0m\u001b[0;34m,\u001b[0m \u001b[0minput_name\u001b[0m\u001b[0;34m=\u001b[0m\u001b[0;34m\"y_true\"\u001b[0m\u001b[0;34m)\u001b[0m\u001b[0;34m\u001b[0m\u001b[0;34m\u001b[0m\u001b[0m\n\u001b[1;32m    748\u001b[0m     \u001b[0;32mif\u001b[0m \u001b[0;32mnot\u001b[0m \u001b[0;34m(\u001b[0m\u001b[0my_type\u001b[0m \u001b[0;34m==\u001b[0m \u001b[0;34m\"binary\"\u001b[0m \u001b[0;32mor\u001b[0m \u001b[0;34m(\u001b[0m\u001b[0my_type\u001b[0m \u001b[0;34m==\u001b[0m \u001b[0;34m\"multiclass\"\u001b[0m \u001b[0;32mand\u001b[0m \u001b[0mpos_label\u001b[0m \u001b[0;32mis\u001b[0m \u001b[0;32mnot\u001b[0m \u001b[0;32mNone\u001b[0m\u001b[0;34m)\u001b[0m\u001b[0;34m)\u001b[0m\u001b[0;34m:\u001b[0m\u001b[0;34m\u001b[0m\u001b[0;34m\u001b[0m\u001b[0m\n\u001b[0;32m--> 749\u001b[0;31m         \u001b[0;32mraise\u001b[0m \u001b[0mValueError\u001b[0m\u001b[0;34m(\u001b[0m\u001b[0;34m\"{0} format is not supported\"\u001b[0m\u001b[0;34m.\u001b[0m\u001b[0mformat\u001b[0m\u001b[0;34m(\u001b[0m\u001b[0my_type\u001b[0m\u001b[0;34m)\u001b[0m\u001b[0;34m)\u001b[0m\u001b[0;34m\u001b[0m\u001b[0;34m\u001b[0m\u001b[0m\n\u001b[0m\u001b[1;32m    750\u001b[0m \u001b[0;34m\u001b[0m\u001b[0m\n\u001b[1;32m    751\u001b[0m     \u001b[0mcheck_consistent_length\u001b[0m\u001b[0;34m(\u001b[0m\u001b[0my_true\u001b[0m\u001b[0;34m,\u001b[0m \u001b[0my_score\u001b[0m\u001b[0;34m,\u001b[0m \u001b[0msample_weight\u001b[0m\u001b[0;34m)\u001b[0m\u001b[0;34m\u001b[0m\u001b[0;34m\u001b[0m\u001b[0m\n",
            "\u001b[0;31mValueError\u001b[0m: multiclass format is not supported"
          ]
        }
      ]
    },
    {
      "cell_type": "code",
      "source": [],
      "metadata": {
        "id": "vXvtUeaTkitG"
      },
      "id": "vXvtUeaTkitG",
      "execution_count": null,
      "outputs": []
    }
  ],
  "metadata": {
    "kernelspec": {
      "display_name": "Python 3 (ipykernel)",
      "language": "python",
      "name": "python3"
    },
    "language_info": {
      "codemirror_mode": {
        "name": "ipython",
        "version": 3
      },
      "file_extension": ".py",
      "mimetype": "text/x-python",
      "name": "python",
      "nbconvert_exporter": "python",
      "pygments_lexer": "ipython3",
      "version": "3.11.4"
    },
    "colab": {
      "provenance": [],
      "collapsed_sections": [
        "22c1b160"
      ]
    }
  },
  "nbformat": 4,
  "nbformat_minor": 5
}